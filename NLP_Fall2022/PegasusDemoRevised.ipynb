{
 "cells": [
  {
   "cell_type": "code",
   "execution_count": 1,
   "id": "a9d1833d-6e97-40dd-b9af-161d0d2f266d",
   "metadata": {},
   "outputs": [
    {
     "name": "stderr",
     "output_type": "stream",
     "text": [
      "/opt/bitnami/miniconda/lib/python3.7/site-packages/requests/__init__.py:104: RequestsDependencyWarning: urllib3 (1.26.8) or chardet (5.0.0)/charset_normalizer (2.0.4) doesn't match a supported version!\n",
      "  RequestsDependencyWarning)\n",
      "/opt/bitnami/miniconda/lib/python3.7/site-packages/tqdm/auto.py:22: TqdmWarning: IProgress not found. Please update jupyter and ipywidgets. See https://ipywidgets.readthedocs.io/en/stable/user_install.html\n",
      "  from .autonotebook import tqdm as notebook_tqdm\n"
     ]
    }
   ],
   "source": [
    "from newspaper import Article\n",
    "from transformers import AutoConfig, AutoTokenizer, AutoModel\n",
    "from summarizer import Summarizer\n",
    "import pandas as pd\n",
    "from transformers import PegasusForConditionalGeneration, AutoTokenizer\n",
    "import torch\n",
    "from newspaper import Config\n",
    "from transformers import PegasusForConditionalGeneration, PegasusTokenizer\n",
    "\n",
    "import torch\n"
   ]
  },
  {
   "cell_type": "markdown",
   "id": "c2b43b1d-fb93-490e-ad90-55ee8f6b69ab",
   "metadata": {},
   "source": [
    "## Testing the newspaper module\n",
    "## (According to Prof.Nwala one of the best boilerplate removers for articles)"
   ]
  },
  {
   "cell_type": "code",
   "execution_count": 2,
   "id": "1e189d02-df78-45ca-a5e6-d812b27caf42",
   "metadata": {},
   "outputs": [
    {
     "name": "stdout",
     "output_type": "stream",
     "text": [
      "Elon Musk says Twitter bankruptcy is possible, but is that likely?\n",
      "\n",
      "Enlarge this image toggle caption Jeff Chiu/AP Jeff Chiu/AP\n",
      "\n",
      "Before Elon Musk took over Twitter, it was hardly a gangbusters business. The company is only occasionally profitable. Its userbase and advertising revenue is puny compared to social media rivals like Facebook and TikTok.\n",
      "\n",
      "Yet the possibility of a looming Twitter bankruptcy was not a fate anyone ever seriously discussed.\n",
      "\n",
      "Now, however, under the chaotic leadership of Musk, the mercurial billionaire has reportedly told staff that bankruptcy could be nigh if Twitter does not start making more money.\n",
      "\n",
      "How could this be the case, and what exactly has changed?\n",
      "\n",
      "In taking the company private in his $44 billion purchase of Twitter, Musk cashed in some of his Tesla stock and also saddled the social platform with $13 billion in debt, which is a massive obligation for a company the size of Twitter.\n",
      "\n",
      "For context, the debt equals about seven times the company's projected earnings for 2022.\n",
      "\n",
      "It's essentially a huge credit card, and the annual payment is $1 billion.\n",
      "\n",
      "And that's a problem for Twitter, considering that its cash flow last year to pay for things like debt payments was just $632 million.\n",
      "\n",
      "So where's the rest of the money going to come from?\n",
      "\n",
      "Why bankruptcy could be in Twitter's interest\n",
      "\n",
      "\"It's hypothetically possible that he could use more of his Tesla stock to bail out Twitter, or turn to his cadre of co-investors, who would probably have no trouble finding the money,\" said Andy Wu, assistant professor at Harvard's business school who has studied the Musk takeover.\n",
      "\n",
      "But if Musk and his backers deem that Twitter is not worth sinking more money into, the eye-popping debt payment could help make the case that bankruptcy is the best way forward for the company, Wu said.\n",
      "\n",
      "\"The saying ,'if you owe the bank $100, that's your problem, but if you owe the bank $100 million, that's the bank's problem' might apply here,\" said Wu, explaining that the investors and other lenders could take over the company if Twitter went through a bankruptcy proceeding, with Musk still serving as its chief executive. \"Bankruptcy would also allow Musk to refinance the debt, which would make the company more financially stable.\"\n",
      "\n",
      "Since Musk closed the deal to buy Twitter, financial analysts have pointed out that he vastly overpaid. Musk's attempts to wriggle out of the deal shows that he had misgivings about the $44 billion price.\n",
      "\n",
      "Investment firm Wedbush Securities said the deal represented \"one of the most overpaid tech acquisitions in history,\" pegging Twitter's fair value at closer to $25 billion.\n",
      "\n",
      "Knowing this, pushing Twitter into bankruptcy could at least help Musk restructure the debt in a way that is more favorable to him.\n",
      "\n",
      "Adding even more pressure on the company is the mayhem unfolding internally, with the departure of a slew of top executives, some of whom were responsible for things like the safety of the platform and complying with federal regulations.\n",
      "\n",
      "The personnel turmoil, plus the fact that major advertisers like General Motors, Pfizer and United Airlines have paused advertising in the midst of the chaos has heaped additional stress onto the company. This despite Musk's assurances to companies that he would not let Twitter morph into a \"free-for-all hellscape.\" About 90% of Twitter's revenue comes from advertising.\n",
      "\n",
      "However rocky Musk's ownership continues to be, Harvard's Wu is skeptical Musk and his investors are ever going to let Twitter completely fold.\n",
      "\n",
      "Even if there is a bankruptcy, Twitter itself would likely operate pretty much as normal, he said.\n",
      "\n",
      "\"In addition to potential financial returns, my sense is that Musk and his co-investors are ideologically driven, that they're really driven by values,\" Wu said.\n",
      "\n",
      "Musk has described himself as a \"free speech absolutist,\" and he has often been critical of speech policing on platforms like Twitter that he says limits the marketplace of ideas.\n",
      "\n",
      "Wu said it's his sense that Musk and his backers are \"willing to lose money for the sake of that fight.\"\n",
      "\n",
      "'Eight dollars is not cost-prohibitive for scammers'\n",
      "\n",
      "Questions about Twitter's long-term financial viability are real. Musk has previously estimated that the company is losing $3 million a day.\n",
      "\n",
      "Musk has gone to drastic lengths to make Twitter a cheaper place to run, like laying off half of the company's staff, or about 3,700 jobs.\n",
      "\n",
      "But that did not change what Musk sees as a core problem at the company, which is that it has just one primary way of making money: online advertising.\n",
      "\n",
      "It is an unfortunate reality for the company right now, considering it is a miserable time to be in the online advertising business. A substantial pullback in ad spending has convulsed the tech industry. Facebook owner Meta has laid off 11,000 people. Snap let go of 20% of its staff. Other ad-reliant tech companies like Spotify and Google's YouTube are feeling the squeeze.\n",
      "\n",
      "So Musk's solution is revamping a service called Twitter Blue by charging $8 a month for the once-coveted blue check. This way, Musk has argued, being \"verified\" on Twitter is no longer reserved for the elite and more people using the service will be authenticated.\n",
      "\n",
      "So far, the program's launch has had the exact opposite effect. A flurry of accounts impersonating star athletes like Lebron James, former President Trump and companies including Eli Lilly and Pepsi, put a spotlight on just how quickly the blue-check-for-sale option could be used to spread deception.\n",
      "\n",
      "In an effort to tame the proliferation of impersonators, Twitter appears to have paused Twitter Blue. The service is no longer available for purchase, and on its website, Twitter notes that \"accounts created on or after November 9, 2022 will be unable to subscribe to Twitter Blue at this time.\"\n",
      "\n",
      "Twitter, which does not appear to have any communications staff in the wake of the mass layoff, did not respond to a request for comment.\n",
      "\n",
      "At the moment, Twitter Blue is far from the money-making initiative Musk had hoped it would be. But to Rachel Tobac, who runs Social Proof Security, a firm focused on preventing the manipulation of social media sites, if Twitter Blue is revived, the money generated from the new service is the least important thing.\n",
      "\n",
      "\"Eight dollars is not cost-prohibitive for scammers,\" she said. \"It is essential that Twitter figures out this whole official or not issue.\"\n",
      "\n",
      "Imagine, Tobac said, if an emergency service account with a blue check was opened by an impersonator and began dispending harmful advice about, say, where to seek shelter during a natural disaster.\n",
      "\n",
      "Tobac also fears disinformation agents paying $8 to sow confusion and discord in connection with an election — something fresh on her mind, as the country awaits the final outcome of a number of key midterm election races.\n",
      "\n",
      "\"Right now, we have people making jokes, impersonating the president, impersonating Nintendo and Elon Musk is laughing at those jokes because he thinks they're funny right now,\" she said. \"What's not going to be funny is someone impersonating an election official and meddling and causing interference within the election results.\"\n"
     ]
    }
   ],
   "source": [
    "\n",
    "\n",
    "url = \"https://www.npr.org/2022/11/12/1136205315/musk-twitter-bankruptcy-how-likely\"\n",
    "article = Article(url)\n",
    "\n",
    "# Need to download then parse article to get the text.\n",
    "\n",
    "article.download()\n",
    "article.parse()\n",
    "\n",
    "print(article.text)"
   ]
  },
  {
   "cell_type": "code",
   "execution_count": 3,
   "id": "3f85b2cd-69ce-46d7-8d8b-731067717ecd",
   "metadata": {},
   "outputs": [],
   "source": [
    "## Pretty good! No junk."
   ]
  },
  {
   "cell_type": "markdown",
   "id": "f3872b20-af78-4bbf-9b53-db1f24a83d3f",
   "metadata": {},
   "source": [
    "## Running a test run with BERT and Pegasus"
   ]
  },
  {
   "cell_type": "code",
   "execution_count": 5,
   "id": "b266562b-fb56-4ccc-add9-f530284cf774",
   "metadata": {},
   "outputs": [
    {
     "name": "stderr",
     "output_type": "stream",
     "text": [
      "Some weights of the model checkpoint at bert-large-uncased were not used when initializing BertModel: ['cls.seq_relationship.weight', 'cls.predictions.transform.LayerNorm.bias', 'cls.seq_relationship.bias', 'cls.predictions.transform.dense.bias', 'cls.predictions.bias', 'cls.predictions.transform.dense.weight', 'cls.predictions.transform.LayerNorm.weight', 'cls.predictions.decoder.weight']\n",
      "- This IS expected if you are initializing BertModel from the checkpoint of a model trained on another task or with another architecture (e.g. initializing a BertForSequenceClassification model from a BertForPreTraining model).\n",
      "- This IS NOT expected if you are initializing BertModel from the checkpoint of a model that you expect to be exactly identical (initializing a BertForSequenceClassification model from a BertForSequenceClassification model).\n"
     ]
    }
   ],
   "source": [
    "\n",
    "def generate_summary_from_text(text):\n",
    "\n",
    "    model = Summarizer()\n",
    "    result = model(text, ratio=0.2)\n",
    "\n",
    "    return result\n",
    "\n",
    "BERT_Summary = generate_summary_from_text(article.text)"
   ]
  },
  {
   "cell_type": "code",
   "execution_count": 6,
   "id": "18afd4e9-6a90-4cba-8c47-436574265772",
   "metadata": {},
   "outputs": [],
   "source": [
    "src_text = article.text"
   ]
  },
  {
   "cell_type": "markdown",
   "id": "398f4adf-b805-4f99-93fa-99a7ef2dd9be",
   "metadata": {},
   "source": [
    "## CODE USAGE PULLED FROM: https://huggingface.co/docs/transformers/model_doc/pegasus#usage-example\n",
    "## https://huggingface.co/google/pegasus-large contains a list of all different models to use."
   ]
  },
  {
   "cell_type": "code",
   "execution_count": 7,
   "id": "a67a155c-732f-4b42-852b-79d581450c8b",
   "metadata": {},
   "outputs": [
    {
     "name": "stderr",
     "output_type": "stream",
     "text": [
      "/opt/bitnami/jupyterhub-singleuser/.local/lib/python3.7/site-packages/transformers/generation_utils.py:1364: UserWarning: Neither `max_length` nor `max_new_tokens` has been set, `max_length` will default to 256 (`self.config.max_length`). Controlling `max_length` via the config is deprecated and `max_length` will be removed from the config in v5 of Transformers -- we recommend using `max_new_tokens` to control the maximum length of the generation.\n",
      "  UserWarning,\n"
     ]
    }
   ],
   "source": [
    "\n",
    "model_name = 'google/pegasus-multi_news'\n",
    "device = \"cuda\" if torch.cuda.is_available() else \"cpu\"\n",
    "tokenizer = PegasusTokenizer.from_pretrained(model_name)\n",
    "model = PegasusForConditionalGeneration.from_pretrained(model_name).to(device)\n",
    "batch = tokenizer(src_text, truncation=True, padding=\"longest\", return_tensors=\"pt\").to(device)\n",
    "translated = model.generate(**batch)\n",
    "tgt_text = tokenizer.batch_decode(translated, skip_special_tokens=True)"
   ]
  },
  {
   "cell_type": "markdown",
   "id": "8f8fb3fd-79ce-4d41-bced-8aa434bbab9f",
   "metadata": {},
   "source": [
    "## BERT Model vs. Pegasus Model"
   ]
  },
  {
   "cell_type": "markdown",
   "id": "a0bcffba-0ac6-4bba-be96-09c3c614be2d",
   "metadata": {},
   "source": [
    "## Producing Sample Pegasus Summary Database from GDELT URLs with Failure Mitigation"
   ]
  },
  {
   "cell_type": "code",
   "execution_count": 8,
   "id": "fe6224b3-0a9f-4c34-9a1d-dcdc8f4f1bfc",
   "metadata": {},
   "outputs": [],
   "source": [
    "df = pd.read_csv(\"gdelt.csv\")\n",
    "urls = df[\"URLs\"]"
   ]
  },
  {
   "cell_type": "code",
   "execution_count": 9,
   "id": "76fd4489-692c-40e0-b81a-8d03e53d1be5",
   "metadata": {},
   "outputs": [],
   "source": [
    "# Will store final results here : URL : Summary is the format.\n",
    "results = {}"
   ]
  },
  {
   "cell_type": "code",
   "execution_count": null,
   "id": "4f83c332-496a-4d1a-9995-5bf22cb67a9b",
   "metadata": {},
   "outputs": [],
   "source": [
    "\n",
    "\n",
    "for item in urls:\n",
    "    \n",
    "    ## fixes browser block ... \n",
    "    user_agent = 'Mozilla/5.0 (Macintosh; Intel Mac OS X 10_11_5) AppleWebKit/537.36 (KHTML, like Gecko) Chrome/50.0.2661.102 Safari/537.36'\n",
    "    config = Config()\n",
    "    config.browser_user_agent = user_agent\n",
    "    ## prevents timing out ...\n",
    "    config.request_timeout = 30\n",
    "    try:\n",
    "        ## Get article text.\n",
    "        article = Article(url, config=config)\n",
    "        article.download()\n",
    "        article.parse()\n",
    "        txt = article.text\n",
    "        # Multi_news has performed well so far.\n",
    "        model_name = 'google/pegasus-multi_news'\n",
    "        device = 'cuda' if torch.cuda.is_available() else 'cpu'\n",
    "        tokenizer = AutoTokenizer.from_pretrained(model_name)\n",
    "        model = PegasusForConditionalGeneration.from_pretrained(model_name).to(device)\n",
    "        batch = tokenizer(txt, truncation=True, padding='longest', return_tensors=\"pt\").to(device)\n",
    "        translated = model.generate(**batch)\n",
    "        tgt_text = tokenizer.batch_decode(translated, skip_special_tokens=True)\n",
    "        results[url] = tgt_text\n",
    "    except Exception as e:\n",
    "        print(e)\n",
    "\n"
   ]
  },
  {
   "cell_type": "code",
   "execution_count": null,
   "id": "888878de-fc2b-43b3-8cec-3ce3e96cfd43",
   "metadata": {},
   "outputs": [],
   "source": [
    "## Clean out printing junk....\n",
    "\n",
    "for key, value in results.items():\n",
    "    \n",
    "    results_clean[key] = (value[0].replace(\"\", \"\\n\"))\n",
    "\n"
   ]
  },
  {
   "cell_type": "code",
   "execution_count": null,
   "id": "f7e6f1b5-258d-4d83-bcb0-fbe8ece84723",
   "metadata": {},
   "outputs": [],
   "source": [
    "pegasus_df = pd.DataFrame(columns=[\"URL\", \"Summary\"])\n",
    "pegasus_df[\"URL\"] = results_clean.keys()\n",
    "pegasus_df[\"Summary\"] = results_clean.values()\n",
    "pegasus_df.to_csv(\"pegasus_test.csv\")\n",
    "\n",
    "pegasus_df.head()"
   ]
  },
  {
   "cell_type": "code",
   "execution_count": null,
   "id": "c9e9c882-f737-46da-8e11-83048d2aa404",
   "metadata": {},
   "outputs": [],
   "source": []
  }
 ],
 "metadata": {
  "kernelspec": {
   "display_name": "Python 3 (ipykernel)",
   "language": "python",
   "name": "python3"
  },
  "language_info": {
   "codemirror_mode": {
    "name": "ipython",
    "version": 3
   },
   "file_extension": ".py",
   "mimetype": "text/x-python",
   "name": "python",
   "nbconvert_exporter": "python",
   "pygments_lexer": "ipython3",
   "version": "3.7.13"
  }
 },
 "nbformat": 4,
 "nbformat_minor": 5
}
