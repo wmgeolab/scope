{
  "nbformat": 4,
  "nbformat_minor": 0,
  "metadata": {
    "colab": {
      "provenance": []
    },
    "kernelspec": {
      "name": "python3",
      "display_name": "Python 3"
    },
    "language_info": {
      "name": "python"
    }
  },
  "cells": [
    {
      "cell_type": "code",
      "execution_count": 4,
      "metadata": {
        "colab": {
          "base_uri": "https://localhost:8080/",
          "height": 264
        },
        "id": "timE7KKjevpL",
        "outputId": "0981daf2-6018-4cc7-8d1f-6458027104d4"
      },
      "outputs": [
        {
          "output_type": "stream",
          "name": "stdout",
          "text": [
            "Looking in indexes: https://pypi.org/simple, https://us-python.pkg.dev/colab-wheels/public/simple/\n",
            "Collecting readability-lxml\n",
            "  Downloading readability_lxml-0.8.1-py3-none-any.whl (20 kB)\n",
            "Requirement already satisfied: chardet in /usr/local/lib/python3.7/dist-packages (from readability-lxml) (3.0.4)\n",
            "Collecting cssselect\n",
            "  Downloading cssselect-1.2.0-py2.py3-none-any.whl (18 kB)\n",
            "Requirement already satisfied: lxml in /usr/local/lib/python3.7/dist-packages (from readability-lxml) (4.9.1)\n",
            "Installing collected packages: cssselect, readability-lxml\n",
            "Successfully installed cssselect-1.2.0 readability-lxml-0.8.1\n"
          ]
        },
        {
          "output_type": "display_data",
          "data": {
            "application/vnd.colab-display-data+json": {
              "pip_warning": {
                "packages": [
                  "readability"
                ]
              }
            }
          },
          "metadata": {}
        }
      ],
      "source": [
        "!pip install readability-lxml"
      ]
    },
    {
      "cell_type": "code",
      "source": [
        "!pip install bert-extractive-summarizer"
      ],
      "metadata": {
        "id": "T_pZLTT0mLEj"
      },
      "execution_count": null,
      "outputs": []
    },
    {
      "cell_type": "code",
      "source": [
        "!pip install bs4"
      ],
      "metadata": {
        "colab": {
          "base_uri": "https://localhost:8080/"
        },
        "id": "X-lqdxuzjqqG",
        "outputId": "d1348091-6ded-4304-f835-5419b926cbb9"
      },
      "execution_count": 5,
      "outputs": [
        {
          "output_type": "stream",
          "name": "stdout",
          "text": [
            "Looking in indexes: https://pypi.org/simple, https://us-python.pkg.dev/colab-wheels/public/simple/\n",
            "Requirement already satisfied: bs4 in /usr/local/lib/python3.7/dist-packages (0.0.1)\n",
            "Requirement already satisfied: beautifulsoup4 in /usr/local/lib/python3.7/dist-packages (from bs4) (4.6.3)\n"
          ]
        }
      ]
    },
    {
      "cell_type": "code",
      "source": [
        "import requests\n",
        "from readability import Document\n",
        "from bs4 import BeautifulSoup\n",
        "from summarizer import Summarizer"
      ],
      "metadata": {
        "id": "Z1eQte54mSZM"
      },
      "execution_count": null,
      "outputs": []
    },
    {
      "cell_type": "code",
      "source": [
        "\n",
        "response = requests.get('https://news.yahoo.com/musk-threatens-permanent-bans-twitter-005955937.html')\n",
        "doc = Document(response.text)\n",
        "doc.title()\n",
        "cleaned_html = doc.summary()"
      ],
      "metadata": {
        "id": "6eK5v0z7e9wN"
      },
      "execution_count": 37,
      "outputs": []
    },
    {
      "cell_type": "code",
      "source": [
        "htmlParse = BeautifulSoup(cleaned_html, 'html.parser')"
      ],
      "metadata": {
        "id": "kVb5PDzqjFHE"
      },
      "execution_count": 38,
      "outputs": []
    },
    {
      "cell_type": "code",
      "source": [
        "# getting all the paragraphs\n",
        "text1 = \"\"\n",
        "for para in htmlParse.find_all(\"p\"):\n",
        "    print(para.get_text())\n",
        "    text1 += para.get_text() + \"\\n\""
      ],
      "metadata": {
        "colab": {
          "base_uri": "https://localhost:8080/"
        },
        "id": "Hs7oEcywj6D0",
        "outputId": "0abd8622-f754-4b28-a1c4-fa287363ff92"
      },
      "execution_count": 39,
      "outputs": [
        {
          "output_type": "stream",
          "name": "stdout",
          "text": [
            "Twitter owner Elon Musk on Sunday said Twitter users who impersonate authentic accounts on the platform will be banned.\n",
            "“Going forward, any Twitter handles engaging in impersonation without clearly specifying ‘parody’ will be permanently suspended,” Musk wrote on Twitter. “Previously, we issued a warning before suspension, but now that we are rolling out widespread verification, there will be no warning.”\n",
            "Musk has angered many users with changes to Twitter’s verification system, asking people to pay $8 a month for a subscription that includes the blue check mark.\n",
            "He said the rules against impersonations would be “clearly identified as a condition for signing up to Twitter Blue,” adding that users would also temporarily lose verification if they change their profile name.\n",
            "The news comes after Twitter suspended several users who had changed their user names to Elon Musk to impersonate the billionaire on the social media platform.\n",
            "Some high-profile celebrities also changed their account name to Elon Musk to make a point, including comedian Kathy Griffin, whose account is now suspended.\n",
            "Actress Valerie Bertinelli changed her name to Elon Musk and tweeted several times under the new persona with a blue check mark next to her name. She even began tweeting out support for Democrats in the midterms before changing her name back.\n",
            "“The blue checkmark simply meant your identity was verified,” she tweeted. “Scammers would have a harder time impersonating you. That no longer applies. Good luck out there!”\n",
            "According to the New York Times, the official rollout of the new Twitter Blue will begin after Tuesday, amid concerns it would further spread disinformation around the election.\n",
            "The mark was previously only awarded to authentic and verified accounts including celebrities, politicians, public agencies, private businesses and journalists, among others who could prove they had a notable online presence.\n",
            "Story continues\n",
            "Musk on Sunday said “widespread verification will democratize journalism & empower the voice of the people.”\n",
            "But the new method of paying for a verification mark has raised concerns that it will make it harder to identify trusted sources on the platform.\n",
            " For the latest news, weather, sports, and streaming video, head to The Hill. \n"
          ]
        }
      ]
    },
    {
      "cell_type": "code",
      "source": [
        "response = requests.get('https://www.shacknews.com/article/132992/twitter-bans-accounts-impersonating-musk')\n",
        "doc = Document(response.text)\n",
        "doc.title()\n",
        "cleaned_html = doc.summary()\n",
        "htmlParse = BeautifulSoup(cleaned_html, 'html.parser')\n",
        "# getting all the paragraphs\n",
        "text2 = \"\"\n",
        "for para in htmlParse.find_all(\"p\"):\n",
        "    print(para.get_text())\n",
        "    text2 += para.get_text() + \"\\n\""
      ],
      "metadata": {
        "colab": {
          "base_uri": "https://localhost:8080/"
        },
        "id": "VXKaFVLXkcWm",
        "outputId": "94726672-6681-441c-d0a7-f29aaa444727"
      },
      "execution_count": 18,
      "outputs": [
        {
          "output_type": "stream",
          "name": "stdout",
          "text": [
            "A condition for paying $8 a month for verification is accepting you will be permanently banned if you impersonate another account.\n",
            "Update: November 6, 2022 at 10:34 p.m. PT: More Twitter users have tested the limits of Elon Musk's allowance of parody accounts (and patience) including h3h3productions. The team updated the Twitter banner to read Parody Account, updated the profile picture, and changed the name to Elon Musk. The team then tweeted the following, \"Even though Jeffery Epstein committed horrible crimes, I do still miss him on nights like this for his warmth and comradery. Rest In Peace old friend.\" Unsurprisingly, the h3h3productions Twitter account is now suspended.\n",
            "Since Elon Musk’s announcement that Twitter verification would be tied to an $8 a month subscription fee for Twitter Blue, users have been testing the boundaries of this new system. Some of these users have found out that changing their name and making jokes as if they were Musk will result in a suspension from the platform.\n",
            "On November 6, 2022, Elon Musk, now CEO of Twitter, took to the platform to inform users that changing a name to impersonate someone without clearly specifying it as a parody account will result in a permanent suspension.\n",
            "\n",
            "\n",
            "This round of suspensions follows several users changing their names to Elon Musk and tweeting wildly crazy tweets. One would be forgiven for perhaps confusing these tweets with Musk’s own late-night posts.\n",
            "Musk does note that Twitter used to provide a warning before suspension, but this new widespread verification system will offer no such luxuries. In fact, accepting this will be a condition when signing up for Twitter Blue. One does hope that this fastidious banning of impersonators goes both ways, not just to the ones that get under Elon Musk’s skin.\n",
            "For those getting caught up, Elon Musk purchased Twitter for some $44 billion dollars, has slashed jobs in a bid to save money, and some reports state he is even looking to cut $1 billion in Twitter infrastructure.\n",
            "As for the users who have been hit by this wave of bans, Twitter users Kathy Griffin and jephjacques are currently suspended following a few outlandish tweets. One tweet by jephjacques (seen above) mentions Grimes and Musk's body odur and asks that users not repost it. There was also one that joked about the remaining Twitter staff bullying Musk.\n",
            "Elon Musk has responded to Shibetoshi \"Billy\" Nakamoto that pseudonyms are fine and that the main point is that users cannot engage in \"malicious deception\". As for Kathy Griffin, Elon Musk said in a series of tweets, \"Actually, she was suspended for impersonating a comedia. But if she really wants her account back, she can have it, for $8.\"\n",
            "Elon Musk claims comedy is now legal on Twitter. The H3 Prodcast disagrees.\n",
            "\n",
            "\n",
            "Now that comedy is legal on Twitter and Elon Musk, believer and advocate for free speech, is at the helm, it will be interesting to see what comes of the platform. Be sure to read over our Twitter page for a chronological look at what’s been happening with our favorite bird app.\n",
            "Hailing from the land down under, Sam Chandler brings a bit of the southern hemisphere flair to his work. After bouncing round a few universities, securing a bachelor degree, and entering the video game industry, he's found his new family here at Shacknews as a Guides Editor. There's nothing he loves more than crafting a guide that will help someone. If you need help with a guide, or notice something not quite right, you can Tweet him: @SamuelChandler \n"
          ]
        }
      ]
    },
    {
      "cell_type": "code",
      "source": [
        "\n",
        "model = Summarizer()\n",
        "result2 = model(text2, ratio=0.2) "
      ],
      "metadata": {
        "colab": {
          "base_uri": "https://localhost:8080/"
        },
        "id": "gfnfCjuZlIdN",
        "outputId": "0cbe238d-2674-49aa-a316-11d4b6b55cf7"
      },
      "execution_count": 19,
      "outputs": [
        {
          "output_type": "stream",
          "name": "stderr",
          "text": [
            "Some weights of the model checkpoint at bert-large-uncased were not used when initializing BertModel: ['cls.predictions.transform.LayerNorm.weight', 'cls.predictions.bias', 'cls.predictions.transform.LayerNorm.bias', 'cls.predictions.transform.dense.bias', 'cls.seq_relationship.weight', 'cls.seq_relationship.bias', 'cls.predictions.decoder.weight', 'cls.predictions.transform.dense.weight']\n",
            "- This IS expected if you are initializing BertModel from the checkpoint of a model trained on another task or with another architecture (e.g. initializing a BertForSequenceClassification model from a BertForPreTraining model).\n",
            "- This IS NOT expected if you are initializing BertModel from the checkpoint of a model that you expect to be exactly identical (initializing a BertForSequenceClassification model from a BertForSequenceClassification model).\n"
          ]
        }
      ]
    },
    {
      "cell_type": "code",
      "source": [
        "result2 # lol?"
      ],
      "metadata": {
        "colab": {
          "base_uri": "https://localhost:8080/",
          "height": 71
        },
        "id": "zkXjsdeulv76",
        "outputId": "8ef4cf62-0d4d-4e4c-a408-835ab38eb24e"
      },
      "execution_count": 21,
      "outputs": [
        {
          "output_type": "execute_result",
          "data": {
            "text/plain": [
              "\"A condition for paying $8 a month for verification is accepting you will be permanently banned if you impersonate another account. Update: November 6, 2022 at 10:34 p.m. PT: More Twitter users have tested the limits of Elon Musk's allowance of parody accounts (and patience) including h3h3productions. Some of these users have found out that changing their name and making jokes as if they were Musk will result in a suspension from the platform. This round of suspensions follows several users changing their names to Elon Musk and tweeting wildly crazy tweets. Elon Musk claims comedy is now legal on Twitter. Now that comedy is legal on Twitter and Elon Musk, believer and advocate for free speech, is at the helm, it will be interesting to see what comes of the platform.\""
            ],
            "application/vnd.google.colaboratory.intrinsic+json": {
              "type": "string"
            }
          },
          "metadata": {},
          "execution_count": 21
        }
      ]
    },
    {
      "cell_type": "code",
      "source": [
        "\n",
        "model = Summarizer()\n",
        "result1 = model(text1, ratio=0.2) "
      ],
      "metadata": {
        "colab": {
          "base_uri": "https://localhost:8080/"
        },
        "id": "fHSQf4Erlw4W",
        "outputId": "fa58fc6c-5474-483a-c228-d2f56cd5dbfe"
      },
      "execution_count": 40,
      "outputs": [
        {
          "output_type": "stream",
          "name": "stderr",
          "text": [
            "Some weights of the model checkpoint at bert-large-uncased were not used when initializing BertModel: ['cls.predictions.transform.LayerNorm.weight', 'cls.predictions.bias', 'cls.predictions.transform.LayerNorm.bias', 'cls.predictions.transform.dense.bias', 'cls.seq_relationship.weight', 'cls.seq_relationship.bias', 'cls.predictions.decoder.weight', 'cls.predictions.transform.dense.weight']\n",
            "- This IS expected if you are initializing BertModel from the checkpoint of a model trained on another task or with another architecture (e.g. initializing a BertForSequenceClassification model from a BertForPreTraining model).\n",
            "- This IS NOT expected if you are initializing BertModel from the checkpoint of a model that you expect to be exactly identical (initializing a BertForSequenceClassification model from a BertForSequenceClassification model).\n"
          ]
        }
      ]
    },
    {
      "cell_type": "code",
      "source": [
        "print(result1)"
      ],
      "metadata": {
        "colab": {
          "base_uri": "https://localhost:8080/"
        },
        "id": "jmiFbzB_mgxz",
        "outputId": "7377cc51-4b24-4238-a312-9453e623d3cf"
      },
      "execution_count": 41,
      "outputs": [
        {
          "output_type": "stream",
          "name": "stdout",
          "text": [
            "Twitter owner Elon Musk on Sunday said Twitter users who impersonate authentic accounts on the platform will be banned. Musk has angered many users with changes to Twitter’s verification system, asking people to pay $8 a month for a subscription that includes the blue check mark. But the new method of paying for a verification mark has raised concerns that it will make it harder to identify trusted sources on the platform. For the latest news, weather, sports, and streaming video, head to The Hill.\n"
          ]
        }
      ]
    },
    {
      "cell_type": "code",
      "source": [
        "## More serious, longer article attempts."
      ],
      "metadata": {
        "id": "n1xpKHlEmmWk"
      },
      "execution_count": 42,
      "outputs": []
    },
    {
      "cell_type": "code",
      "source": [
        "response = requests.get('https://www.voanews.com/a/of-china-s-imprisoned-journalists-are-uyghurs/6556294.html')\n",
        "doc = Document(response.text)\n",
        "doc.title()\n",
        "cleaned_html = doc.summary()\n",
        "htmlParse = BeautifulSoup(cleaned_html, 'html.parser')\n",
        "# getting all the paragraphs\n",
        "china_1 = \"\"\n",
        "for para in htmlParse.find_all(\"p\"):\n",
        "    print(para.get_text())\n",
        "    china_1 += para.get_text() + \"\\n\""
      ],
      "metadata": {
        "colab": {
          "base_uri": "https://localhost:8080/"
        },
        "id": "WUxZlk0KoRx-",
        "outputId": "2a33bb0d-bd96-49ad-d2ad-c7a18a6a3360"
      },
      "execution_count": 43,
      "outputs": [
        {
          "output_type": "stream",
          "name": "stdout",
          "text": [
            "A group of U.S. House lawmakers introduced a resolution on Tuesday, World Press Freedom Day, which named countries including China, Russia and Belarus as nations that committed “repressive and brutal actions” against journalists.\n",
            "China is “one of the worst media environments in the world and seeks to curtail political speech inside and outside the country...,” stated the resolution, citing the Committee to Protect Journalists’ 2021 findings.\n",
            "Bahram Sintash, a Uyghur American, said his father is one of the journalists detained in China.\n",
            "“The U.S. government should speak up for many Uyghur journalists like my father who are arbitrarily detained and imprisoned by the Chinese authorities,” Sintash, who lives in Virginia, told VOA.\n",
            "Sintash lost contact with his father, Qurban Mamut, who was the former chief editor of the China-controlled Uyghur journal Xinjiang Civilization, more than four years ago.\n",
            "Then earlier this year, Sintash learned that his father was taken by Chinese authorities from his residence in Urumqi, the capital of Xinjiang in northwest China.\n",
            "“In February, I received an indirect message from my sister in Urumqi that our father, Qurban Mamut, was sentenced to 15 years in prison,” Sintash said.\n",
            "Fifty journalists are imprisoned in China, according to CPJ’s 2021 report released last December.\n",
            "Twenty-two of them are Uyghur journalists from Xinjiang, who make up 44% of the incarcerated journalists in China and 7.5% of the 293 jailed journalists worldwide in 2021.\n",
            "Peter Irwin, the senior program officer for advocacy and communications at the Washington-based Uyghur Human Rights Project, told VOA that China has for many years targeted Uyghur journalists.\n",
            "\"In many ways, (Uyghur) journalists were among the earliest targets for suppression and imprisonment by the Chinese government,\" Irwin said.\n",
            "Rights groups and some countries, including the U.S., have accused China of mistreating Uyghurs, including subjecting more than 1 million Uyghurs to mass internment for \"reeducation,\" forced sterilization and labor or those either in and out of detention since late 2016.\n",
            "The U.S. government officially designated China's treatment of Uyghurs as genocide in January 2021.\n",
            "Beijing calls the accusations \"lies,\" saying that \"the local people are living a safe and happy life\" in Xinjiang.\n",
            "CPJ's list of China's jailed journalists show that half of the 22 Uyghur journalists were arrested after 2016, and the rest were jailed from 2009 to 2014.\n",
            "According to Irwin, before 2015, Uyghur journalists who wrote independently or moderated blogs or other publications were targeted for their work.\n",
            "\"After 2015 or so, you see a heightened attention to Uyghur journalists who tried their best to follow the arbitrary rules set out by the government and still couldn't avoid imprisonment,\" Irwin said.\n",
            "Nine of the 22 imprisoned Uyghur journalists worked for an independent website called Uyghurbiz, which was co-founded by Ilham Tohti, a former Uyghur economics professor at Minzu University of China in Beijing.\n",
            "According to CPJ's report, Tohti was sentenced to life in prison on charges of \"separatism\" in September 2014.\n",
            "Jewher Ilham, a Washington-based Uyghur rights activist and Tohti's daughter, told VOA that some of the Uyghur journalists who used to work for her father's website had not been released from prison after they had finished their sentence.\n",
            "\"Even though some of them should have been released by 2019 or 2020, they still remain in prison,\" she said.\n",
            "According to Jewher Ilham, Chinese authorities repressed not only Uyghur journalists but also any Uyghur who tried to save or circulate uncensored news content.\n",
            "\"My cousin was sentenced for 10 years in prison for refusing to hand in her phone at a checkpoint and saving a picture of my father and the text of his article,\" Jewher Ilham told VOA.\n",
            "'Tip of the iceberg' \n",
            "Abduweli Ayup, founder of Uyghur Hjelp, a Norway-based organization that documents China's Uyghur rights violations, said the CPJ’s findings are just “the tip of the iceberg.” His organization found 40 Uyghur journalists who were jailed in China in recent years.\n",
            "\"In our data, there are at least 40 imprisoned Uyghur journalists among over 400 Uyghur intellectuals incarcerated by Chinese authorities,\" Ayup told VOA. \"If we include Uyghur website bloggers and government radio and TV hosts to our list, the number of jailed Uyghur journalists is at least over a hundred.\"\n",
            "Ayup said that the 22 imprisoned Uyghur journalists in CPJ's report are only the ones confirmed by media.\n",
            "\"(There are) still many more imprisoned Uyghur journalists yet to be confirmed by media and added to the CPJ's list of imprisoned journalists,\" Ayup said adding that the CPJ’s number of imprisoned Uyghur journalists will be 23 if Qurban Mamut is included.\n"
          ]
        }
      ]
    },
    {
      "cell_type": "code",
      "source": [
        "\n",
        "model = Summarizer()\n",
        "china_res1 = model(china_1, ratio=0.2) "
      ],
      "metadata": {
        "colab": {
          "base_uri": "https://localhost:8080/"
        },
        "id": "lLYeeqWlo1-C",
        "outputId": "b3ac56e4-f2dd-4b70-f5b2-7dc7fc7077c7"
      },
      "execution_count": 44,
      "outputs": [
        {
          "output_type": "stream",
          "name": "stderr",
          "text": [
            "Some weights of the model checkpoint at bert-large-uncased were not used when initializing BertModel: ['cls.predictions.transform.LayerNorm.weight', 'cls.predictions.bias', 'cls.predictions.transform.LayerNorm.bias', 'cls.predictions.transform.dense.bias', 'cls.seq_relationship.weight', 'cls.seq_relationship.bias', 'cls.predictions.decoder.weight', 'cls.predictions.transform.dense.weight']\n",
            "- This IS expected if you are initializing BertModel from the checkpoint of a model trained on another task or with another architecture (e.g. initializing a BertForSequenceClassification model from a BertForPreTraining model).\n",
            "- This IS NOT expected if you are initializing BertModel from the checkpoint of a model that you expect to be exactly identical (initializing a BertForSequenceClassification model from a BertForSequenceClassification model).\n"
          ]
        }
      ]
    },
    {
      "cell_type": "code",
      "source": [
        "china_res1 # a pretty decent summary"
      ],
      "metadata": {
        "colab": {
          "base_uri": "https://localhost:8080/",
          "height": 88
        },
        "id": "s7Oz-Hcoo8eU",
        "outputId": "5d62a59e-c9fd-43cd-99e6-c879b0d4ce9f"
      },
      "execution_count": 46,
      "outputs": [
        {
          "output_type": "execute_result",
          "data": {
            "text/plain": [
              "'A group of U.S. House lawmakers introduced a resolution on Tuesday, World Press Freedom Day, which named countries including China, Russia and Belarus as nations that committed “repressive and brutal actions” against journalists. Bahram Sintash, a Uyghur American, said his father is one of the journalists detained in China. “The U.S. government should speak up for many Uyghur journalists like my father who are arbitrarily detained and imprisoned by the Chinese authorities,” Sintash, who lives in Virginia, told VOA. \"In many ways, (Uyghur) journalists were among the earliest targets for suppression and imprisonment by the Chinese government,\" Irwin said. Beijing calls the accusations \"lies,\" saying that \"the local people are living a safe and happy life\" in Xinjiang. CPJ\\'s list of China\\'s jailed journalists show that half of the 22 Uyghur journalists were arrested after 2016, and the rest were jailed from 2009 to 2014.'"
            ],
            "application/vnd.google.colaboratory.intrinsic+json": {
              "type": "string"
            }
          },
          "metadata": {},
          "execution_count": 46
        }
      ]
    },
    {
      "cell_type": "code",
      "source": [
        "response = requests.get('https://news.webindia123.com/news/Articles/World/20220407/3928697.html')\n",
        "doc = Document(response.text)\n",
        "doc.title()\n",
        "cleaned_html = doc.summary()\n",
        "#print(cleaned_html)\n",
        "htmlParse2 = BeautifulSoup(cleaned_html, 'html.parser')\n",
        "#print(htmlParse)\n",
        "# getting all the paragraphs\n",
        "china_2 = \"\"\n",
        "for para in htmlParse2.find_all(\"p\"):\n",
        "    print(para.get_text())\n",
        "    china_2 += para.get_text() + \"\\n\""
      ],
      "metadata": {
        "colab": {
          "base_uri": "https://localhost:8080/"
        },
        "id": "K7hdTXBapAKX",
        "outputId": "6552297e-9c2f-4f11-a029-c81d2bc20cf8"
      },
      "execution_count": 59,
      "outputs": [
        {
          "output_type": "stream",
          "name": "stdout",
          "text": [
            "\n",
            "\n",
            "\n",
            "Turmuhamet Hashim, president of Japan Uyghur Union in a letter to the Pakistani government, wrote, \"Today, in the holy Ramadan period, we, the Uyghurs living in Japan, are making this kind of demonstration, to ask the government of Islamic Republic of Pakistan to stop supporting the genocide of Uyghur Muslims by China immediately!\"\n",
            "\"Prime Minister Imran Khan and other Pakistani leaders have to remember that they are Muslim, and reflect on the sins they have committed before Alla. If Imran Khan and the Pakistan government want to be a true leader of the Islamic world, the right way is supporting and helping the Uyghur Muslim brothers and sisters, who are facing genocide by China right now!\" the letter added.\n",
            "Slamming Pakistan, the President of Japan Uyghur Union said, \"As an Islamic country, it would be unconscionable and in clear disregard of your own moral values and principles to close your eyes to the terrible fate of millions of your Muslim brothers and sisters.\"\n",
            "\"If Pakistan Government continues the silence on China's egregious crimes against Uyghurs, Kazakhs, and other Muslims in East Turkistan (so-called Xinjiang), it would be not only shameful things to your country, but also it would be a terrible crime in front of Allah Suhanallah!\" it noted.\n",
            "Moreover, it stated that the presence of Chinese Foreign Minister Wang Yi as 'special guest' in the 48th Council of Foreign Ministers (CFM) of Organisation of Islamic Cooperation (OIC) in Pakistan on 22 and 23 March comes at the time when more than three million Uyghur Muslims are in concentration camps in China.\n",
            "While condemning Pakistan for its support to China, the Japan Uyghur Union added, \"Because the Pakistan government used its special title to invite Wang Yi as \"special guest\", it gave him the chance to pull the wool over eyes of whole Islamic world!\n",
            "All the world knows that the Uyghur Muslims of East Turkistan (Xinjiang) are facing \"genocide\" and cultural aggression from the Chinese Communist Party (CCP), said the letter.\n",
            "It expressed its condemnation towards the Chinese FM Wang and said that he not only used this occasion to push CCP's narrative of how well Muslim minorities in China are treated, but also said, \"China and the Islamic world both enjoy a profound history, seek similar values, and share historic missions\".\n",
            "\"A country like China, with its genocide of Uyghur Muslims, how can they say that they have same values with Muslims? How can they say that the Chinese communist shares same historic mission with holy Islam?! This is a big shame of Pakistan and a big insult to all Muslims in the world!\" it stated in the letter. (ANI)\n"
          ]
        }
      ]
    },
    {
      "cell_type": "code",
      "source": [
        "\n",
        "model = Summarizer()\n",
        "china_res2 = model(china_2, ratio=0.2) "
      ],
      "metadata": {
        "colab": {
          "base_uri": "https://localhost:8080/"
        },
        "id": "iMeczw9KpULc",
        "outputId": "5e98adb4-a9ed-4c98-bf5e-3d89b23c6d0b"
      },
      "execution_count": 60,
      "outputs": [
        {
          "output_type": "stream",
          "name": "stderr",
          "text": [
            "Some weights of the model checkpoint at bert-large-uncased were not used when initializing BertModel: ['cls.predictions.transform.LayerNorm.weight', 'cls.predictions.bias', 'cls.predictions.transform.LayerNorm.bias', 'cls.predictions.transform.dense.bias', 'cls.seq_relationship.weight', 'cls.seq_relationship.bias', 'cls.predictions.decoder.weight', 'cls.predictions.transform.dense.weight']\n",
            "- This IS expected if you are initializing BertModel from the checkpoint of a model trained on another task or with another architecture (e.g. initializing a BertForSequenceClassification model from a BertForPreTraining model).\n",
            "- This IS NOT expected if you are initializing BertModel from the checkpoint of a model that you expect to be exactly identical (initializing a BertForSequenceClassification model from a BertForSequenceClassification model).\n"
          ]
        }
      ]
    },
    {
      "cell_type": "code",
      "source": [
        "print(china_res2)"
      ],
      "metadata": {
        "colab": {
          "base_uri": "https://localhost:8080/"
        },
        "id": "WYUDaF3UpV1D",
        "outputId": "477fbe22-a614-431d-a50c-9aa60889745a"
      },
      "execution_count": 61,
      "outputs": [
        {
          "output_type": "stream",
          "name": "stdout",
          "text": [
            "Turmuhamet Hashim, president of Japan Uyghur Union in a letter to the Pakistani government, wrote, \"Today, in the holy Ramadan period, we, the Uyghurs living in Japan, are making this kind of demonstration, to ask the government of Islamic Republic of Pakistan to stop supporting the genocide of Uyghur Muslims by China immediately!\" If Imran Khan and the Pakistan government want to be a true leader of the Islamic world, the right way is supporting and helping the Uyghur Muslim brothers and sisters, who are facing genocide by China right now!\" \"A country like China, with its genocide of Uyghur Muslims, how can they say that they have same values with Muslims?\n"
          ]
        }
      ]
    },
    {
      "cell_type": "code",
      "source": [
        "china_res2"
      ],
      "metadata": {
        "colab": {
          "base_uri": "https://localhost:8080/",
          "height": 71
        },
        "id": "0P5L15pUpWuS",
        "outputId": "5a6824ee-279e-47ea-e0a7-1ba5f20d2878"
      },
      "execution_count": 62,
      "outputs": [
        {
          "output_type": "execute_result",
          "data": {
            "text/plain": [
              "'Turmuhamet Hashim, president of Japan Uyghur Union in a letter to the Pakistani government, wrote, \"Today, in the holy Ramadan period, we, the Uyghurs living in Japan, are making this kind of demonstration, to ask the government of Islamic Republic of Pakistan to stop supporting the genocide of Uyghur Muslims by China immediately!\" If Imran Khan and the Pakistan government want to be a true leader of the Islamic world, the right way is supporting and helping the Uyghur Muslim brothers and sisters, who are facing genocide by China right now!\" \"A country like China, with its genocide of Uyghur Muslims, how can they say that they have same values with Muslims?'"
            ],
            "application/vnd.google.colaboratory.intrinsic+json": {
              "type": "string"
            }
          },
          "metadata": {},
          "execution_count": 62
        }
      ]
    },
    {
      "cell_type": "code",
      "source": [],
      "metadata": {
        "id": "0I4ahuJqqcHG"
      },
      "execution_count": null,
      "outputs": []
    }
  ]
}