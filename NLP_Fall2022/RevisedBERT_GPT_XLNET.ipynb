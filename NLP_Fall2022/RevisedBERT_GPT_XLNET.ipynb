{
 "cells": [
  {
   "cell_type": "code",
   "execution_count": 29,
   "id": "10ec710f-6078-49c1-b333-42a14bc0df8a",
   "metadata": {},
   "outputs": [],
   "source": [
    "from summarizer import Summarizer\n",
    "from summarizer import Summarizer,TransformerSummarizer\n",
    "from pdfminer.high_level import extract_pages\n",
    "from pdfminer.high_level import extract_text\n",
    "import torch\n",
    "import re\n",
    "from urllib.request import Request, urlopen \n",
    "import requests  \n",
    "import urllib.request  \n",
    "from pdfminer.high_level import extract_pages\n",
    "from pdfminer.high_level import extract_text\n",
    "from summarizer import TransformerSummarizer"
   ]
  },
  {
   "cell_type": "code",
   "execution_count": 30,
   "id": "666e6eff-3fe2-4b61-b8c5-1f03452fdfa8",
   "metadata": {},
   "outputs": [],
   "source": [
    "## Change these as needed."
   ]
  },
  {
   "cell_type": "code",
   "execution_count": 31,
   "id": "d3997f3d-5f03-4457-a432-e0d53fb80ded",
   "metadata": {},
   "outputs": [],
   "source": [
    "EXAMPLE_URLS = [\"https://publicpartnershipdata.azureedge.net/gef/GEFProjectVersions/c1366692-d840-ed11-9db0-000d3a31b2d8_PIF.pdf\", \"https://publicpartnershipdata.azureedge.net/gef/GEFProjectVersions/ac49cabb-44c2-ec11-983e-000d3a3006f7_PIF.pdf\", \"https://publicpartnershipdata.azureedge.net/gef/GEFProjectVersions/742b9aaf-55ba-ec11-983f-0022480a35bf_STAPReview.pdf\"]\n",
    "TEXT_DESTINATION = [\"text1.pdf\", \"text2.pdf\", \"text3.pdf\"]"
   ]
  },
  {
   "cell_type": "markdown",
   "id": "9cfe444e-e01d-4f92-9fff-25edf71043a4",
   "metadata": {},
   "source": [
    "## Converting PDFs Link into Local PDFs"
   ]
  },
  {
   "cell_type": "code",
   "execution_count": 32,
   "id": "66ab1226-a37b-4640-bc1d-7f78eddb015e",
   "metadata": {},
   "outputs": [],
   "source": [
    "for example_url_idx in range(len(EXAMPLE_URLS)):\n",
    "    \n",
    "    ## grabbing url and corresponding filename\n",
    "    cur_url = EXAMPLE_URLS[example_url_idx]\n",
    "    filename = TEXT_DESTINATION[example_url_idx ]\n",
    "    \n",
    "    # accessing websiteto get PDF link\n",
    "    # user-agent needed to circumvent website blockers (usually)\n",
    "    req = urllib.request.Request(cur_url, headers={'User-Agent': 'Mozilla/5.0'})\n",
    "    r  = requests.get(cur_url)\n",
    "    \n",
    "    with open(filename, \"wb\") as code:\n",
    "        code.write(r.content)\n",
    "        "
   ]
  },
  {
   "cell_type": "markdown",
   "id": "a41c63f6-448f-412b-89fd-e9d5d9ecfce9",
   "metadata": {},
   "source": [
    "## Extracting Text from PDFs Using PDFMINER"
   ]
  },
  {
   "cell_type": "code",
   "execution_count": 33,
   "id": "880587c7-f83a-4c8d-a5a9-4fa346ef5c43",
   "metadata": {},
   "outputs": [],
   "source": [
    "text_raw_1 = extract_text('text1.pdf')\n",
    "text_raw_2 = extract_text('text2.pdf')\n",
    "text_raw_3 = extract_text('text3.pdf')\n",
    "\n",
    "raw_texts = [text_raw_1, text_raw_2, text_raw_3]"
   ]
  },
  {
   "cell_type": "markdown",
   "id": "7b2651fc-8156-4a85-99e5-a58b370cc6f1",
   "metadata": {},
   "source": [
    "## PDFMINER Information"
   ]
  },
  {
   "cell_type": "markdown",
   "id": "83b8247f-8710-4cf4-bb2c-00c4868b8510",
   "metadata": {},
   "source": [
    "PDFMiner is a text extraction tool for PDf documents.\n",
    "Some resources to see how to use it are:\n",
    " 1. https://towardsdatascience.com/how-to-extract-text-from-pdf-245482a96de7\n",
    " 2. https://pypi.org/project/pdfminer/\n",
    "It should be noted that this module is no longer actively maintained. "
   ]
  },
  {
   "cell_type": "markdown",
   "id": "8618f6ce-0fb6-4fcd-a004-aa7925a17af8",
   "metadata": {},
   "source": [
    "## Experimental Preprocessing on the effect of model output."
   ]
  },
  {
   "cell_type": "code",
   "execution_count": 49,
   "id": "c7718bbc-fe74-4964-8948-1a362005e261",
   "metadata": {},
   "outputs": [],
   "source": [
    "def experimental_preprocess(text):\n",
    "    \n",
    "    post_process = []\n",
    "    preprocess = text.split(\".\")\n",
    "    \n",
    "    # This is a variable that can be changed.\n",
    "    # It represents the minimum # words a line of text can have.\n",
    "    # This is a very experimental value : should be investigated further.\n",
    "    VAR_LEN = 3\n",
    "    \n",
    "    for i in range(0,len(preprocess)):\n",
    "        \n",
    "        temp_str = re.sub(r'[^$a-zA-Z0-9 ]', '', preprocess[i]) \n",
    "        temp_str_len = len(temp_str.split(\" \"))\n",
    "        \n",
    "        ## Trying to weed out junk content - if something is less than\n",
    "        ## This number of characters it shouldn't be included.\n",
    "        if temp_str_len >= VAR_LEN:\n",
    "            post_process.append(preprocess[i] + \".\")\n",
    "        \n",
    "    ## Since we have broken up the characters in the string into an array of characters\n",
    "    ## It is necessary to put them back together.\n",
    "    final_text = \"\".join(post_process)\n",
    "    \n",
    "    return final_text\n",
    "        \n",
    "        "
   ]
  },
  {
   "cell_type": "markdown",
   "id": "e98afd92-1126-4818-99d6-4124c9c7e99b",
   "metadata": {},
   "source": [
    "## Questions of PDF Preprocessing:"
   ]
  },
  {
   "cell_type": "markdown",
   "id": "31d0854a-bf96-45ef-8ca3-5321c68dda22",
   "metadata": {},
   "source": [
    "1. Should the \\n character be included in the final input string? There are some models where this has shown to be potentially beneficial.\n",
    "2. What is the optimal length of VAR_LEN? The smaller it is the higher the risk of junk characters to get it, but the larger it is the higher the risk of losing potentially valuable information.\n",
    "3. Are there other potentially better algorithms (perhaps already implemented) for doing this? "
   ]
  },
  {
   "cell_type": "markdown",
   "id": "40d16f73-9c4d-40da-bb3b-83a8bf66b428",
   "metadata": {},
   "source": [
    "## Creating the final processed texts:"
   ]
  },
  {
   "cell_type": "code",
   "execution_count": 50,
   "id": "b6208823-be7b-4a14-8879-fe09293f0599",
   "metadata": {},
   "outputs": [],
   "source": [
    "text_processed_1 = experimental_preprocess(text_raw_1)\n",
    "text_processed_2 = experimental_preprocess(text_raw_2)\n",
    "text_processed_3 = experimental_preprocess(text_raw_3)\n",
    "\n",
    "processed_texts = [text_processed_1, text_processed_2, text_processed_3]"
   ]
  },
  {
   "cell_type": "markdown",
   "id": "3a511db2-820e-44a0-b092-ab357d1137f7",
   "metadata": {},
   "source": [
    "## BERT Summarizer Tests"
   ]
  },
  {
   "cell_type": "code",
   "execution_count": 51,
   "id": "355a46c7-5e3e-4443-88c6-df108d35b9ab",
   "metadata": {},
   "outputs": [],
   "source": [
    "## Going to contrast between processed / preprocessed input outputs\n",
    "## To analyze the impact of preprocessing\n",
    "results_raw_bert = []\n",
    "results_processed_bert = []"
   ]
  },
  {
   "cell_type": "code",
   "execution_count": 52,
   "id": "db024bb7-01ec-4185-bba7-da4a5a790e79",
   "metadata": {},
   "outputs": [
    {
     "name": "stderr",
     "output_type": "stream",
     "text": [
      "Some weights of the model checkpoint at bert-large-uncased were not used when initializing BertModel: ['cls.predictions.transform.dense.weight', 'cls.predictions.transform.LayerNorm.weight', 'cls.predictions.bias', 'cls.seq_relationship.weight', 'cls.predictions.transform.LayerNorm.bias', 'cls.seq_relationship.bias', 'cls.predictions.transform.dense.bias', 'cls.predictions.decoder.weight']\n",
      "- This IS expected if you are initializing BertModel from the checkpoint of a model trained on another task or with another architecture (e.g. initializing a BertForSequenceClassification model from a BertForPreTraining model).\n",
      "- This IS NOT expected if you are initializing BertModel from the checkpoint of a model that you expect to be exactly identical (initializing a BertForSequenceClassification model from a BertForSequenceClassification model).\n",
      "Some weights of the model checkpoint at bert-large-uncased were not used when initializing BertModel: ['cls.predictions.transform.dense.weight', 'cls.predictions.transform.LayerNorm.weight', 'cls.predictions.bias', 'cls.seq_relationship.weight', 'cls.predictions.transform.LayerNorm.bias', 'cls.seq_relationship.bias', 'cls.predictions.transform.dense.bias', 'cls.predictions.decoder.weight']\n",
      "- This IS expected if you are initializing BertModel from the checkpoint of a model trained on another task or with another architecture (e.g. initializing a BertForSequenceClassification model from a BertForPreTraining model).\n",
      "- This IS NOT expected if you are initializing BertModel from the checkpoint of a model that you expect to be exactly identical (initializing a BertForSequenceClassification model from a BertForSequenceClassification model).\n",
      "Some weights of the model checkpoint at bert-large-uncased were not used when initializing BertModel: ['cls.predictions.transform.dense.weight', 'cls.predictions.transform.LayerNorm.weight', 'cls.predictions.bias', 'cls.seq_relationship.weight', 'cls.predictions.transform.LayerNorm.bias', 'cls.seq_relationship.bias', 'cls.predictions.transform.dense.bias', 'cls.predictions.decoder.weight']\n",
      "- This IS expected if you are initializing BertModel from the checkpoint of a model trained on another task or with another architecture (e.g. initializing a BertForSequenceClassification model from a BertForPreTraining model).\n",
      "- This IS NOT expected if you are initializing BertModel from the checkpoint of a model that you expect to be exactly identical (initializing a BertForSequenceClassification model from a BertForSequenceClassification model).\n"
     ]
    }
   ],
   "source": [
    "## For each text in the raw text collection\n",
    "## Run it through the out of box BERT model and record the input.\n",
    "for text in raw_texts:\n",
    "    model = Summarizer()\n",
    "    result = model(text, num_sentences=5) # Var to research: Changing num_sentences\n",
    "    results_raw_bert.append(result)\n",
    "\n"
   ]
  },
  {
   "cell_type": "code",
   "execution_count": 53,
   "id": "bf3ee95c-124b-4eea-b9f5-ee3b91ec36b5",
   "metadata": {},
   "outputs": [
    {
     "name": "stderr",
     "output_type": "stream",
     "text": [
      "Some weights of the model checkpoint at bert-large-uncased were not used when initializing BertModel: ['cls.predictions.transform.dense.weight', 'cls.predictions.transform.LayerNorm.weight', 'cls.predictions.bias', 'cls.seq_relationship.weight', 'cls.predictions.transform.LayerNorm.bias', 'cls.seq_relationship.bias', 'cls.predictions.transform.dense.bias', 'cls.predictions.decoder.weight']\n",
      "- This IS expected if you are initializing BertModel from the checkpoint of a model trained on another task or with another architecture (e.g. initializing a BertForSequenceClassification model from a BertForPreTraining model).\n",
      "- This IS NOT expected if you are initializing BertModel from the checkpoint of a model that you expect to be exactly identical (initializing a BertForSequenceClassification model from a BertForSequenceClassification model).\n",
      "Some weights of the model checkpoint at bert-large-uncased were not used when initializing BertModel: ['cls.predictions.transform.dense.weight', 'cls.predictions.transform.LayerNorm.weight', 'cls.predictions.bias', 'cls.seq_relationship.weight', 'cls.predictions.transform.LayerNorm.bias', 'cls.seq_relationship.bias', 'cls.predictions.transform.dense.bias', 'cls.predictions.decoder.weight']\n",
      "- This IS expected if you are initializing BertModel from the checkpoint of a model trained on another task or with another architecture (e.g. initializing a BertForSequenceClassification model from a BertForPreTraining model).\n",
      "- This IS NOT expected if you are initializing BertModel from the checkpoint of a model that you expect to be exactly identical (initializing a BertForSequenceClassification model from a BertForSequenceClassification model).\n",
      "Some weights of the model checkpoint at bert-large-uncased were not used when initializing BertModel: ['cls.predictions.transform.dense.weight', 'cls.predictions.transform.LayerNorm.weight', 'cls.predictions.bias', 'cls.seq_relationship.weight', 'cls.predictions.transform.LayerNorm.bias', 'cls.seq_relationship.bias', 'cls.predictions.transform.dense.bias', 'cls.predictions.decoder.weight']\n",
      "- This IS expected if you are initializing BertModel from the checkpoint of a model trained on another task or with another architecture (e.g. initializing a BertForSequenceClassification model from a BertForPreTraining model).\n",
      "- This IS NOT expected if you are initializing BertModel from the checkpoint of a model that you expect to be exactly identical (initializing a BertForSequenceClassification model from a BertForSequenceClassification model).\n"
     ]
    }
   ],
   "source": [
    "## Running processed texts through Bert Summarizer\n",
    "for text in processed_texts:\n",
    "    model = Summarizer()\n",
    "    result = model(text, num_sentences=5) # Var to research: Changing num_sentences\n",
    "    results_processed_bert.append(result)"
   ]
  },
  {
   "cell_type": "markdown",
   "id": "e44b471d-9cf5-4d0b-8844-c941429e289a",
   "metadata": {},
   "source": [
    "## Some background resources into the BERT Model"
   ]
  },
  {
   "cell_type": "markdown",
   "id": "e9318580-6c7e-4a08-a7d2-8eabbd0d3f24",
   "metadata": {},
   "source": [
    "1.https://en.wikipedia.org/wiki/BERT_(language_model)\n",
    "\n",
    "2.https://www.techtarget.com/searchenterpriseai/definition/BERT-language-model\n"
   ]
  },
  {
   "cell_type": "markdown",
   "id": "0c692dae-7928-4fe7-a821-e358702bfc06",
   "metadata": {},
   "source": [
    "## Comparing and Constrasting Between Processed/Unprocessed Products [BERT]"
   ]
  },
  {
   "cell_type": "markdown",
   "id": "9a0ddb42-7615-4b5e-8ded-9282d7950be1",
   "metadata": {},
   "source": [
    "## Text Document 1"
   ]
  },
  {
   "cell_type": "code",
   "execution_count": 54,
   "id": "01b47b8b-9ce9-4814-855c-a198189a4751",
   "metadata": {},
   "outputs": [
    {
     "name": "stdout",
     "output_type": "stream",
     "text": [
      "**** UNPROCESSED TEXT RESULT ******\n",
      "\n",
      "\n",
      "Yes \n",
      "\n",
      " No\n",
      "\n",
      "If yes, please describe\n",
      "\n",
      "B: Enabling Activity Summary\n",
      "Provide a brief description of the Enabling Activity. The platform will consolidate global \u0000nance sources and mapping of available \u0000nancial sources for\n",
      "biodiversity, including the development of an impact investment and private sector knowledge and capacity development stream to facilitate the creation of\n",
      "national impact investment platforms and related project pipelines (for example, see the UNDP SDG Investor Platform). 5.1.3 Global Catalogue of Biodiversity Finance Solutions\n",
      "expanded and a consolidated global database of biodiversity\n",
      "\u0000nance sources and mapping of available \u0000nancial sources for\n",
      "biodiversity made available for users around the world. Information generated by the project will enable countries to complete the CBD Financial Reporting Framework. Minimum project monitoring and reporting requirements as required by the GEF:\n",
      "\n",
      " \n",
      " \n",
      " \n",
      " \n",
      " \n",
      "\f",
      "Inception Workshop and Report:  A project inception workshop(s) will be held by the Global Project Management and Technical Support Unit (GPMTSU)\n",
      "with all the partner countries within 2 months from the First disbursement date, with the aim to:\n",
      "\n",
      "Familiarize key stakeholders with the detailed project strategy and discuss any changes that may have taken place in the overall context since the\n",
      "project idea was initially conceptualized that may in\u0000uence its strategy and implementation.\n",
      "\n",
      "\n",
      "**** PROCESSED TEXT RESULT ******\n",
      "\n",
      "\n",
      "Yes \n",
      "\n",
      " No\n",
      "\n",
      "If yes, please describe\n",
      "\n",
      "B: Enabling Activity Summary\n",
      "Provide a brief description of the Enabling Activity.00\n",
      "\n",
      "Enabling Activity Objective (max. The platform will consolidate global \u0000nance sources and mapping of available \u0000nancial sources for\n",
      "biodiversity, including the development of an impact investment and private sector knowledge and capacity development stream to facilitate the creation of\n",
      "national impact investment platforms and related project pipelines (for example, see the UNDP SDG Investor Platform). Information generated by the project will enable countries to complete the CBD Financial Reporting Framework. The goal of the\n",
      "Biodiversity Finance Plan is to be institutionalized to ensure its implementation and mainstreaming of biodiversity \u0000nance. Minimum project monitoring and reporting requirements as required by the GEF:\n",
      "\n",
      " \n",
      " \n",
      " \n",
      " \n",
      " \n",
      "\f",
      "Inception Workshop and Report:  A project inception workshop(s) will be held by the Global Project Management and Technical Support Unit (GPMTSU)\n",
      "with all the partner countries within 2 months from the First disbursement date, with the aim to:\n",
      "\n",
      "Familiarize key stakeholders with the detailed project strategy and discuss any changes that may have taken place in the overall context since the\n",
      "project idea was initially conceptualized that may in\u0000uence its strategy and implementation.\n"
     ]
    }
   ],
   "source": [
    "print (\"**** UNPROCESSED TEXT RESULT ******\\n\\n\")\n",
    "\n",
    "\n",
    "print(results_raw_bert[0])\n",
    "\n",
    "\n",
    "print (\"\\n\\n**** PROCESSED TEXT RESULT ******\\n\\n\")\n",
    "\n",
    "\n",
    "\n",
    "print(results_processed_bert[0])\n",
    "\n"
   ]
  },
  {
   "cell_type": "markdown",
   "id": "416b5271-23cd-49e5-848b-260fb70cfde9",
   "metadata": {},
   "source": [
    "## Text Document 2"
   ]
  },
  {
   "cell_type": "code",
   "execution_count": 55,
   "id": "47bf4d29-269f-43e8-b1ba-66a009f48caa",
   "metadata": {},
   "outputs": [
    {
     "name": "stdout",
     "output_type": "stream",
     "text": [
      "**** UNPROCESSED TEXT RESULT ******\n",
      "\n",
      "\n",
      "World\n",
      "\n",
      "In-kind\n",
      "\n",
      "Recurrent \n",
      "expenditures\n",
      "\n",
      "100,000.00\n",
      "\n",
      "Total Project Cost($)\n",
      "\n",
      "6,300,000.00\n",
      "\n",
      "Describe how any \"Investment Mobilized\" was identified\n",
      "\n",
      "Investment mobilized was defined based on amount of in-kind and grant contribution from the executing \n",
      "\n",
      "ministry, other contributing government institutions, civil society, private sector and other stakeholders \n",
      "\n",
      "active in sustainable land management and conservation initiatives. The  participation  of  local  producers  in  green  value  chains  is  also  being  promoted  by  several \n",
      "development  projects  including  One  Village  One  Project  OVOP  funded  by  JICA,  JANEEMO \n",
      "agroforestry  initiative  funded  by  the  Scottish  government  aiming  at  strengthening  the  organizations \n",
      "capacity in production and marketing. This will in turn \n",
      "result in an improved \n",
      "reduction of forest crimes and \n",
      "illegal forest activities. Innovation:  Collaborative  Forest  Management  (CFM)  mechanism  is  not  yet  a  widespread  practice  in \n",
      "Malawi, and the methodologies of establishing the Integrated Management Effectiveness Tool (IMET) \n",
      "to track Protected Area Management Effectiveness (PAME) and to inform management decisions will \n",
      "be  applied  for  the  first  time  in  the  Bua  Basin  landscape. which together will \n",
      "incentivize local communities to continue these \n",
      "practices even in the absence of external support\n",
      "\n",
      "Development partners will be engaged in \n",
      "strengthening the capacity of the government in \n",
      "conducting environmental assessments and \n",
      "valuations.\n",
      "\n",
      "\n",
      "**** PROCESSED TEXT RESULT ******\n",
      "\n",
      "\n",
      "Indicative Focal/Non-Focal Area Elements \n",
      "\n",
      "Programming Directions\n",
      "\n",
      "Trust Fund\n",
      "\n",
      "GEF Amount($)\n",
      "\n",
      "Co-Fin Amount($)\n",
      "\n",
      "BD-2-7\n",
      "\n",
      "BD-1-1\n",
      "\n",
      "GET\n",
      "\n",
      "GET\n",
      "\n",
      "621,508.00\n",
      "\n",
      "Total Project Cost ($)\n",
      "\n",
      "921,508. The  participation  of  local  producers  in  green  value  chains  is  also  being  promoted  by  several \n",
      "development  projects  including  One  Village  One  Project  OVOP  funded  by  JICA,  JANEEMO \n",
      "agroforestry  initiative  funded  by  the  Scottish  government  aiming  at  strengthening  the  organizations \n",
      "capacity in production and marketing. This will in turn \n",
      "result in an improved \n",
      "reduction of forest crimes and \n",
      "illegal forest activities. Innovation:  Collaborative  Forest  Management  (CFM)  mechanism  is  not  yet  a  widespread  practice  in \n",
      "Malawi, and the methodologies of establishing the Integrated Management Effectiveness Tool (IMET) \n",
      "to track Protected Area Management Effectiveness (PAME) and to inform management decisions will \n",
      "be  applied  for  the  first  time  in  the  Bua  Basin  landscape. which together will \n",
      "incentivize local communities to continue these \n",
      "practices even in the absence of external support\n",
      "\n",
      "Development partners will be engaged in \n",
      "strengthening the capacity of the government in \n",
      "conducting environmental assessments and \n",
      "valuations.\n"
     ]
    }
   ],
   "source": [
    "print (\"**** UNPROCESSED TEXT RESULT ******\\n\\n\")\n",
    "\n",
    "\n",
    "print(results_raw_bert[1])\n",
    "\n",
    "\n",
    "print (\"\\n\\n**** PROCESSED TEXT RESULT ******\\n\\n\")\n",
    "\n",
    "\n",
    "\n",
    "print(results_processed_bert[1])\n",
    "\n"
   ]
  },
  {
   "cell_type": "markdown",
   "id": "e8baf828-c0a4-4826-b8cc-ed72394cd998",
   "metadata": {},
   "source": [
    "## Text Document 3"
   ]
  },
  {
   "cell_type": "code",
   "execution_count": 56,
   "id": "a3a1005a-c930-45a7-8624-af9a556014ae",
   "metadata": {},
   "outputs": [
    {
     "name": "stdout",
     "output_type": "stream",
     "text": [
      "**** UNPROCESSED TEXT RESULT ******\n",
      "\n",
      "\n",
      "STAP guidelines for screening GEF projects \n",
      "\n",
      "Response \n",
      "\n",
      "Part I: Project \n",
      "Information \n",
      "GEF ID \n",
      "Project Title \n",
      "\n",
      "11004 \n",
      "Strengthening the resilience of small farmers through Climate \n",
      "Smart Agriculture (PRP-AIC) techniques in Tahoua Region. The \n",
      "PIF does not offer references for either barrier \n",
      "that suggest these emerged from research or \n",
      "the farmers themselves, which could be a \n",
      "problem:  \n",
      "\n",
      "1)  The project asserts, as Barrier #3, that a \n",
      "lack of access to low-cost, long-term \n",
      "financing. During the \n",
      "PPG stage, the project will need to \n",
      "clearly articulate what a learning \n",
      "M&E system looks like – what \n",
      "\n",
      "9 \n",
      "\n",
      " \n",
      "\f",
      "Is there a recognition of what adaptations may be required \n",
      "during project implementation to respond to changing \n",
      "conditions in pursuit of the targeted outcomes? During the PPG \n",
      "stage, the project should determine this during \n",
      "its gender assessment. How these risks play out will, in large \n",
      "part, depend on how the project is \n",
      "implemented and the extent to which the \n",
      "drivers of these risks (understanding local \n",
      "social context, understanding farmer \n",
      "incentives, understanding farmer decisions to \n",
      "adopt or not adopt technology) are \n",
      "apprehended and addressed by the project.\n",
      "\n",
      "\n",
      "**** PROCESSED TEXT RESULT ******\n",
      "\n",
      "\n",
      "STAP guidelines for screening GEF projects \n",
      "\n",
      "Response \n",
      "\n",
      "Part I: Project \n",
      "Information \n",
      "GEF ID \n",
      "Project Title \n",
      "\n",
      "11004 \n",
      "Strengthening the resilience of small farmers through Climate \n",
      "Smart Agriculture (PRP-AIC) techniques in Tahoua Region. The \n",
      "PIF does not offer references for either barrier \n",
      "that suggest these emerged from research or \n",
      "the farmers themselves, which could be a \n",
      "problem:  \n",
      "\n",
      "1)  The project asserts, as Barrier #3, that a \n",
      "lack of access to low-cost, long-term \n",
      "financing. During the \n",
      "PPG stage, the project will need to \n",
      "clearly articulate what a learning \n",
      "M&E system looks like – what \n",
      "\n",
      "9 \n",
      "\n",
      " \n",
      "\f",
      "Is there a recognition of what adaptations may be required \n",
      "during project implementation to respond to changing \n",
      "conditions in pursuit of the targeted outcomes? During the PPG \n",
      "stage, the project should determine this during \n",
      "its gender assessment. How these risks play out will, in large \n",
      "part, depend on how the project is \n",
      "implemented and the extent to which the \n",
      "drivers of these risks (understanding local \n",
      "social context, understanding farmer \n",
      "incentives, understanding farmer decisions to \n",
      "adopt or not adopt technology) are \n",
      "apprehended and addressed by the project.\n"
     ]
    }
   ],
   "source": [
    "print (\"**** UNPROCESSED TEXT RESULT ******\\n\\n\")\n",
    "\n",
    "\n",
    "print(results_raw_bert[2])\n",
    "\n",
    "\n",
    "print (\"\\n\\n**** PROCESSED TEXT RESULT ******\\n\\n\")\n",
    "\n",
    "\n",
    "\n",
    "print(results_processed_bert[2])\n",
    "\n"
   ]
  },
  {
   "cell_type": "markdown",
   "id": "7b783e0d-3f38-4680-aed6-d4cc215d3868",
   "metadata": {},
   "source": [
    "## GPT-2 Model Tests (Unprocessed/Vs Processed)"
   ]
  },
  {
   "cell_type": "code",
   "execution_count": 58,
   "id": "dc93be23-2f54-4494-9f61-75ce93f24654",
   "metadata": {},
   "outputs": [],
   "source": [
    "results_raw_gpt2 = []\n",
    "results_processed_gpt2 = []"
   ]
  },
  {
   "cell_type": "code",
   "execution_count": 59,
   "id": "46111c5b-9ab6-41ee-8e39-328a04eb7838",
   "metadata": {},
   "outputs": [],
   "source": [
    "\n",
    "\n",
    "for text in raw_texts:\n",
    "    GPT2_model = TransformerSummarizer(transformer_type=\"GPT2\",transformer_model_key=\"gpt2-medium\")\n",
    "    result = ''.join(GPT2_model(text, min_length=20, max_length=100))\n",
    "    results_raw_gpt2.append(result)\n",
    "\n"
   ]
  },
  {
   "cell_type": "code",
   "execution_count": 60,
   "id": "68655500-80b0-4502-b939-6b66679f9520",
   "metadata": {},
   "outputs": [],
   "source": [
    "\n",
    "\n",
    "for text in processed_texts:\n",
    "    GPT2_model = TransformerSummarizer(transformer_type=\"GPT2\",transformer_model_key=\"gpt2-medium\")\n",
    "    result = ''.join(GPT2_model(text, min_length=20, max_length=100))\n",
    "    results_processed_gpt2.append(result)\n",
    "\n"
   ]
  },
  {
   "cell_type": "markdown",
   "id": "a51f5f70-9ee4-43bb-9299-6543f76529ef",
   "metadata": {},
   "source": [
    "## Document 1"
   ]
  },
  {
   "cell_type": "code",
   "execution_count": 61,
   "id": "c835cc2a-a5f8-4896-837e-b99cc94ea372",
   "metadata": {},
   "outputs": [
    {
     "name": "stdout",
     "output_type": "stream",
     "text": [
      "**** UNPROCESSED TEXT RESULT ******\n",
      "\n",
      "\n",
      "Enabling Activity Summary (max. 1.2.1 Nature positive and harmful subsidies and incentives to\n",
      "biodiversity are assessed. The GPMTSU will hire consultants and service providers as required to\n",
      "execute the work. Future implementation of \u0000nance plans can be covered through STAR allocations. Project outputs, activities, and budget. Finalize the TOR of the Project Board. The evaluation will be ‘independent, impartial and rigorous’.\n",
      "\n",
      "\n",
      "**** PROCESSED TEXT RESULT ******\n",
      "\n",
      "\n",
      "Enabling Activity Summary (max. Project monitoring and evaluation. Project outputs, activities, and budget. Finalize the TOR of the Project Board. The independent TE will take place upon completion of all\n",
      "major project outputs and activities. Check this box if ESS screening is not required per Agency's regulations\n",
      "\n",
      " \n",
      "\f",
      ".\n"
     ]
    }
   ],
   "source": [
    "print (\"**** UNPROCESSED TEXT RESULT ******\\n\\n\")\n",
    "\n",
    "\n",
    "print(results_raw_gpt2[0])\n",
    "\n",
    "\n",
    "print (\"\\n\\n**** PROCESSED TEXT RESULT ******\\n\\n\")\n",
    "\n",
    "\n",
    "\n",
    "print(results_processed_gpt2[0])\n",
    "\n"
   ]
  },
  {
   "cell_type": "markdown",
   "id": "7dae1902-ac6c-4235-93c2-4810991b3e0d",
   "metadata": {},
   "source": [
    "## Document 2"
   ]
  },
  {
   "cell_type": "code",
   "execution_count": 62,
   "id": "bda14343-da07-4ffe-b249-2c2f19bdcad9",
   "metadata": {},
   "outputs": [
    {
     "name": "stdout",
     "output_type": "stream",
     "text": [
      "**** UNPROCESSED TEXT RESULT ******\n",
      "\n",
      "\n",
      "Project Justification\n",
      "\n",
      "1a. It predominantly \n",
      "has rocky soils and sandy clay soils. Approximately  2%  of  Malawi?s  cropland  is  irrigated. Nineteen percent of the country?s total land area is \n",
      "protected. The geographic proximity of ? Hence \n",
      "making the project aligned with BD2.7. benefit and contribute to ecosystem degradation of \n",
      "the Bua River catchment ecosystem. Further procurement of PPE for project participants \n",
      "and staff. Describe possible coordination with other relevant GEF-\n",
      "financed projects and other initiatives. The Environment Management Act (No. The plan has prioritized a number of areas that this concept note seeks to address.\n",
      "\n",
      "\n",
      "**** PROCESSED TEXT RESULT ******\n",
      "\n",
      "\n",
      "Project Justification\n",
      "\n",
      "1a. Approximately  2%  of  Malawi?s  cropland  is  irrigated. especially tobacco, tea, and sugar ? The plan has prioritized a number of areas that \n",
      "this project proposal seeks to address. Awareness  is  present  in \n",
      "communities thanks to national and project-led campaigns. The geographic proximity of ? will facilitate the extension of the PES activity to the project districts. Hence \n",
      "making the project aligned with BD2. benefit and contribute to ecosystem degradation of \n",
      "the Bua River catchment ecosystem. Private sector engagement \n",
      "\n",
      "Will there be private sector engagement in the project? The Environment Management Act (No.\n"
     ]
    }
   ],
   "source": [
    "print (\"**** UNPROCESSED TEXT RESULT ******\\n\\n\")\n",
    "\n",
    "\n",
    "print(results_raw_gpt2[1])\n",
    "\n",
    "\n",
    "print (\"\\n\\n**** PROCESSED TEXT RESULT ******\\n\\n\")\n",
    "\n",
    "\n",
    "\n",
    "print(results_processed_gpt2[1])\n",
    "\n"
   ]
  },
  {
   "cell_type": "markdown",
   "id": "9b1e9f3b-0442-46aa-8523-e174104d3e01",
   "metadata": {},
   "source": [
    "## Document 3"
   ]
  },
  {
   "cell_type": "code",
   "execution_count": 63,
   "id": "edd51a67-8b69-4363-805b-68932551b29e",
   "metadata": {},
   "outputs": [
    {
     "name": "stdout",
     "output_type": "stream",
     "text": [
      "**** UNPROCESSED TEXT RESULT ******\n",
      "\n",
      "\n",
      "These include: \n",
      "\n",
      "1)  Communities need to be sensitized to better land \n",
      "\n",
      "management. 2)  The project states that low knowledge and \n",
      "technical capacity is limiting the adoption \n",
      "of CSA. doi:10.2458/v24i1.20969). Taken as a whole, yes. However, if any of \n",
      "these assumptions are incorrect, the project \n",
      "will deliver far fewer benefits. The \n",
      "financing activities under component 3 are \n",
      "meant to be exclusively focused on women. During the PPG \n",
      "stage, the project should determine this during \n",
      "its gender assessment. Are the identified risks valid and comprehensive? Are the risks \n",
      "specifically for things outside the project’s control? 13 \n",
      "\n",
      " \n",
      " \n",
      " \n",
      " \n",
      " \n",
      "\f",
      "There is very little direct discussion of project \n",
      "sensitivity to climate change. See STAP \n",
      "brief on simple future narratives. Is there adequate recognition of previous projects and the \n",
      "learning derived from them? Knowledge \n",
      "management. 15 \n",
      "\n",
      " \n",
      " \n",
      " \n",
      " \n",
      "\f",
      "Notes \n",
      "\n",
      "STAP advisory \n",
      "response \n",
      "1.\n",
      "\n",
      "\n",
      "**** PROCESSED TEXT RESULT ******\n",
      "\n",
      "\n",
      "These include: \n",
      "\n",
      "1)  Communities need to be sensitized to better land \n",
      "\n",
      "management. Yes \n",
      "\n",
      "Part II: Project \n",
      "justification \n",
      "\n",
      "1. 2)  The project states that low knowledge and \n",
      "technical capacity is limiting the adoption \n",
      "of CSA. Taken as a whole, yes. Is the baseline identified clearly? n/a \n",
      "\n",
      "If all the assumptions hold, yes. Project Map and \n",
      "Coordinates. The PIF does not discuss this. Are the identified risks valid and comprehensive? Are the risks \n",
      "specifically for things outside the project’s control? It appears the project is aware of a range of \n",
      "projects and initiatives relevant to its goals. No \n",
      "\n",
      "The KM strategy will be developed in the \n",
      "PPG stage. Is there adequate recognition of previous projects and the \n",
      "learning derived from them? 15 \n",
      "\n",
      " \n",
      " \n",
      " \n",
      " \n",
      "\f",
      "Notes \n",
      "\n",
      "STAP advisory \n",
      "response \n",
      "1.\n"
     ]
    }
   ],
   "source": [
    "print (\"**** UNPROCESSED TEXT RESULT ******\\n\\n\")\n",
    "\n",
    "\n",
    "print(results_raw_gpt2[2])\n",
    "\n",
    "\n",
    "print (\"\\n\\n**** PROCESSED TEXT RESULT ******\\n\\n\")\n",
    "\n",
    "\n",
    "\n",
    "print(results_processed_gpt2[2])\n",
    "\n"
   ]
  },
  {
   "cell_type": "markdown",
   "id": "f4e03986-1d3c-4950-928d-f285cef17a4c",
   "metadata": {},
   "source": [
    "## XLNET Testing"
   ]
  },
  {
   "cell_type": "code",
   "execution_count": 64,
   "id": "9e2db2ab-9fb4-48a6-9a3a-b4cf8d5d2b15",
   "metadata": {},
   "outputs": [],
   "source": [
    "\n",
    "results_raw_xlnet = []\n",
    "results_processed_xlnet = []\n"
   ]
  },
  {
   "cell_type": "code",
   "execution_count": 65,
   "id": "10a750dc-0367-4081-984f-b3d1f339baa4",
   "metadata": {},
   "outputs": [
    {
     "name": "stderr",
     "output_type": "stream",
     "text": [
      "Some weights of the model checkpoint at xlnet-base-cased were not used when initializing XLNetModel: ['lm_loss.bias', 'lm_loss.weight']\n",
      "- This IS expected if you are initializing XLNetModel from the checkpoint of a model trained on another task or with another architecture (e.g. initializing a BertForSequenceClassification model from a BertForPreTraining model).\n",
      "- This IS NOT expected if you are initializing XLNetModel from the checkpoint of a model that you expect to be exactly identical (initializing a BertForSequenceClassification model from a BertForSequenceClassification model).\n",
      "Some weights of the model checkpoint at xlnet-base-cased were not used when initializing XLNetModel: ['lm_loss.bias', 'lm_loss.weight']\n",
      "- This IS expected if you are initializing XLNetModel from the checkpoint of a model trained on another task or with another architecture (e.g. initializing a BertForSequenceClassification model from a BertForPreTraining model).\n",
      "- This IS NOT expected if you are initializing XLNetModel from the checkpoint of a model that you expect to be exactly identical (initializing a BertForSequenceClassification model from a BertForSequenceClassification model).\n",
      "Some weights of the model checkpoint at xlnet-base-cased were not used when initializing XLNetModel: ['lm_loss.bias', 'lm_loss.weight']\n",
      "- This IS expected if you are initializing XLNetModel from the checkpoint of a model trained on another task or with another architecture (e.g. initializing a BertForSequenceClassification model from a BertForPreTraining model).\n",
      "- This IS NOT expected if you are initializing XLNetModel from the checkpoint of a model that you expect to be exactly identical (initializing a BertForSequenceClassification model from a BertForSequenceClassification model).\n"
     ]
    }
   ],
   "source": [
    "for text in raw_texts:\n",
    "    model = TransformerSummarizer(transformer_type=\"XLNet\",transformer_model_key=\"xlnet-base-cased\")\n",
    "    result = ''.join(model(text, min_length=20, max_length=100))\n",
    "    results_raw_xlnet.append(result)"
   ]
  },
  {
   "cell_type": "code",
   "execution_count": 66,
   "id": "a54e1fcf-7734-4333-b849-eb1fb8dc489e",
   "metadata": {},
   "outputs": [
    {
     "name": "stderr",
     "output_type": "stream",
     "text": [
      "Some weights of the model checkpoint at xlnet-base-cased were not used when initializing XLNetModel: ['lm_loss.bias', 'lm_loss.weight']\n",
      "- This IS expected if you are initializing XLNetModel from the checkpoint of a model trained on another task or with another architecture (e.g. initializing a BertForSequenceClassification model from a BertForPreTraining model).\n",
      "- This IS NOT expected if you are initializing XLNetModel from the checkpoint of a model that you expect to be exactly identical (initializing a BertForSequenceClassification model from a BertForSequenceClassification model).\n",
      "Some weights of the model checkpoint at xlnet-base-cased were not used when initializing XLNetModel: ['lm_loss.bias', 'lm_loss.weight']\n",
      "- This IS expected if you are initializing XLNetModel from the checkpoint of a model trained on another task or with another architecture (e.g. initializing a BertForSequenceClassification model from a BertForPreTraining model).\n",
      "- This IS NOT expected if you are initializing XLNetModel from the checkpoint of a model that you expect to be exactly identical (initializing a BertForSequenceClassification model from a BertForSequenceClassification model).\n",
      "Some weights of the model checkpoint at xlnet-base-cased were not used when initializing XLNetModel: ['lm_loss.bias', 'lm_loss.weight']\n",
      "- This IS expected if you are initializing XLNetModel from the checkpoint of a model trained on another task or with another architecture (e.g. initializing a BertForSequenceClassification model from a BertForPreTraining model).\n",
      "- This IS NOT expected if you are initializing XLNetModel from the checkpoint of a model that you expect to be exactly identical (initializing a BertForSequenceClassification model from a BertForSequenceClassification model).\n"
     ]
    }
   ],
   "source": [
    "\n",
    "\n",
    "for text in processed_texts:\n",
    "    model = TransformerSummarizer(transformer_type=\"XLNet\",transformer_model_key=\"xlnet-base-cased\")\n",
    "    result = ''.join(model(text, min_length=20, max_length=100))\n",
    "    results_processed_xlnet.append(result)\n",
    "\n"
   ]
  },
  {
   "cell_type": "markdown",
   "id": "f85cb5af-7593-4a4b-b2f5-5cc26d017fa8",
   "metadata": {},
   "source": [
    "## Document 1"
   ]
  },
  {
   "cell_type": "code",
   "execution_count": 67,
   "id": "b27651f2-a09f-415c-ba6f-07f400c0b456",
   "metadata": {},
   "outputs": [
    {
     "name": "stdout",
     "output_type": "stream",
     "text": [
      "**** UNPROCESSED TEXT RESULT ******\n",
      "\n",
      "\n",
      "Enabling Activity Summary (max. This Global Programme has the following six components and expected outcomes:\n",
      "\n",
      "Component 1. 1.2 Harmful and positive subsidies and\n",
      "incentives to biodiversity are identi\u0000ed. The GPMTSU will hire consultants and service providers as required to\n",
      "execute the work. E: Monitoring and Evaluation Plan\n",
      "Describe the budgeted M&E plan. ( N/A\n",
      "\n",
      "ANNEX B: PROJECT BUDGET TABLE\n",
      "Attach the project budget table. Will be submitted with CEO endorsement.\n",
      "\n",
      "\n",
      "**** PROCESSED TEXT RESULT ******\n",
      "\n",
      "\n",
      "Enabling Activity Summary (max. The GPMTSU will hire consultants and service providers as required to\n",
      "execute the work. Future implementation of \u0000nance plans can be covered through STAR allocations. E: Monitoring and Evaluation Plan\n",
      "Describe the budgeted M&E plan. N/A\n",
      "\n",
      "ANNEX B: PROJECT BUDGET TABLE\n",
      "Attach the project budget table. ESS screening is not required for EAs but should be included if its\n",
      "\n",
      "available.\n"
     ]
    }
   ],
   "source": [
    "print (\"**** UNPROCESSED TEXT RESULT ******\\n\\n\")\n",
    "\n",
    "\n",
    "print(results_raw_xlnet[0])\n",
    "\n",
    "\n",
    "print (\"\\n\\n**** PROCESSED TEXT RESULT ******\\n\\n\")\n",
    "\n",
    "\n",
    "\n",
    "print(results_processed_xlnet[0])\n",
    "\n"
   ]
  },
  {
   "cell_type": "markdown",
   "id": "012cbf67-0cd4-4923-a3c4-26edccad9808",
   "metadata": {},
   "source": [
    "## Document 2"
   ]
  },
  {
   "cell_type": "code",
   "execution_count": 68,
   "id": "d4ad72e5-d4d2-41a5-9ee0-9baea856a3fb",
   "metadata": {},
   "outputs": [
    {
     "name": "stdout",
     "output_type": "stream",
     "text": [
      "**** UNPROCESSED TEXT RESULT ******\n",
      "\n",
      "\n",
      "Project Justification\n",
      "\n",
      "1a. Forest land comprises 36% of the total land area. Private  land  is  composed  of \n",
      "freehold land, leasehold and customary estates. The plan has prioritized a number of areas that \n",
      "this project proposal seeks to address. The geographic proximity of ? will facilitate the extension of the PES activity to the project districts. A baseline study conducted in 2021 revealed that all \n",
      "gender groups, men, women, girls? benefit and contribute to ecosystem degradation of \n",
      "the Bua River catchment ecosystem. Additional efforts will also be made to enhance capacity and awareness amongst women ? Malawi  stands  to  gain  if  women  are  more \n",
      "involved in the entire agricultural value chain. The Environment Management Act (No.\n",
      "\n",
      "\n",
      "**** PROCESSED TEXT RESULT ******\n",
      "\n",
      "\n",
      "Project Justification\n",
      "\n",
      "1a. Project Description \n",
      "\n",
      "PART II:  PROJECT JUSTIFICATION \n",
      "1a. At \n",
      "Independence in 1964, ownership of the estates passed into the hands of the Malawian elites. Malawi?s  land  distribution  is  highly  skewed. The geographic proximity of ? This will result in \n",
      "improved implementation of \n",
      "forest extension services. Committee that promote tree planting and management of natural \n",
      "resources. A baseline study conducted in 2021 revealed that all \n",
      "gender groups, men, women, girls? benefit and contribute to ecosystem degradation of \n",
      "the Bua River catchment ecosystem. These private institutions will continuously be engaged in the activities \n",
      "of the project. Further procurement of PPE for project participants \n",
      "and staff.\n"
     ]
    }
   ],
   "source": [
    "print (\"**** UNPROCESSED TEXT RESULT ******\\n\\n\")\n",
    "\n",
    "\n",
    "print(results_raw_xlnet[1])\n",
    "\n",
    "\n",
    "print (\"\\n\\n**** PROCESSED TEXT RESULT ******\\n\\n\")\n",
    "\n",
    "\n",
    "\n",
    "print(results_processed_xlnet[1])\n",
    "\n"
   ]
  },
  {
   "cell_type": "markdown",
   "id": "4ac87dd6-2182-4c27-8221-cf62ff7b86ed",
   "metadata": {},
   "source": [
    "## Document 3"
   ]
  },
  {
   "cell_type": "code",
   "execution_count": 69,
   "id": "848d9209-46d8-40bc-8bf0-3725d95b2f9b",
   "metadata": {},
   "outputs": [
    {
     "name": "stdout",
     "output_type": "stream",
     "text": [
      "**** UNPROCESSED TEXT RESULT ******\n",
      "\n",
      "\n",
      "These include: \n",
      "\n",
      "1)  Communities need to be sensitized to better land \n",
      "\n",
      "management. A description of the products and services which are expected \n",
      "to result from the project. 2)  The project states that low knowledge and \n",
      "technical capacity is limiting the adoption \n",
      "of CSA. In this sense, the \n",
      "PIF is right: the farmers perceive CSA as \n",
      "risky. Taken as a whole, yes. Is the baseline identified clearly? What activities will be implemented to increase the project’s \n",
      "resilience to climate change? Do gender considerations hinder full participation of an \n",
      "important stakeholder group (or groups)? If so, how will these \n",
      "obstacles be addressed? During the PPG \n",
      "stage, the project should determine this during \n",
      "its gender assessment. It appears the project is aware of a range of \n",
      "projects and initiatives relevant to its goals. Is there adequate recognition of previous projects and the \n",
      "learning derived from them? Knowledge \n",
      "management. 15 \n",
      "\n",
      " \n",
      " \n",
      " \n",
      " \n",
      "\f",
      "Notes \n",
      "\n",
      "STAP advisory \n",
      "response \n",
      "1.\n",
      "\n",
      "\n",
      "**** PROCESSED TEXT RESULT ******\n",
      "\n",
      "\n",
      "These include: \n",
      "\n",
      "1)  Communities need to be sensitized to better land \n",
      "\n",
      "management. Outputs \n",
      "\n",
      "Are the global environmental benefits/adaptation benefits likely \n",
      "to be generated? Are the barriers and threats well described, and substantiated by \n",
      "data and references? 2)  The project states that low knowledge and \n",
      "technical capacity is limiting the adoption \n",
      "of CSA. Taken as a whole, yes. 6)  The PIF assumes communities need \n",
      "\n",
      "to be sensitized to better land \n",
      "management. These efforts rarely \n",
      "\n",
      " \n",
      " \n",
      " \n",
      "\f",
      "work. 10 \n",
      "\n",
      "indicators and tools it will use, what \n",
      "questions it will ask, etc. Will the project’s results \n",
      "framework or logical \n",
      "framework include gender-\n",
      "sensitive indicators? During the PPG \n",
      "stage, the project should determine this during \n",
      "its gender assessment. How will these be dealt with? Is there adequate recognition of previous projects and the \n",
      "learning derived from them? How have these lessons informed the project’s formulation? 15 \n",
      "\n",
      " \n",
      " \n",
      " \n",
      " \n",
      "\f",
      "Notes \n",
      "\n",
      "STAP advisory \n",
      "response \n",
      "1.\n"
     ]
    }
   ],
   "source": [
    "print (\"**** UNPROCESSED TEXT RESULT ******\\n\\n\")\n",
    "\n",
    "\n",
    "print(results_raw_xlnet[2])\n",
    "\n",
    "\n",
    "print (\"\\n\\n**** PROCESSED TEXT RESULT ******\\n\\n\")\n",
    "\n",
    "\n",
    "\n",
    "print(results_processed_xlnet[2])\n",
    "\n"
   ]
  },
  {
   "cell_type": "code",
   "execution_count": null,
   "id": "5aa62748-2afd-4c4e-8bb2-902d144c4d29",
   "metadata": {},
   "outputs": [],
   "source": []
  }
 ],
 "metadata": {
  "kernelspec": {
   "display_name": "Python 3 (ipykernel)",
   "language": "python",
   "name": "python3"
  },
  "language_info": {
   "codemirror_mode": {
    "name": "ipython",
    "version": 3
   },
   "file_extension": ".py",
   "mimetype": "text/x-python",
   "name": "python",
   "nbconvert_exporter": "python",
   "pygments_lexer": "ipython3",
   "version": "3.7.13"
  }
 },
 "nbformat": 4,
 "nbformat_minor": 5
}
