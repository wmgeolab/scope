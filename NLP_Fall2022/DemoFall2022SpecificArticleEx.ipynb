{
  "nbformat": 4,
  "nbformat_minor": 0,
  "metadata": {
    "colab": {
      "provenance": []
    },
    "kernelspec": {
      "name": "python3",
      "display_name": "Python 3"
    },
    "language_info": {
      "name": "python"
    }
  },
  "cells": [
    {
      "cell_type": "code",
      "execution_count": 20,
      "metadata": {
        "id": "23g9iGfqhwh-"
      },
      "outputs": [],
      "source": [
        "import pandas as pd\n",
        "from newspaper import Article"
      ]
    },
    {
      "cell_type": "code",
      "source": [
        "df = pd.read_csv(\"Demo_GDELTURLS.csv\")"
      ],
      "metadata": {
        "id": "eXVs2KYzh6Br"
      },
      "execution_count": 3,
      "outputs": []
    },
    {
      "cell_type": "code",
      "source": [
        "df.loc[1]"
      ],
      "metadata": {
        "colab": {
          "base_uri": "https://localhost:8080/"
        },
        "id": "rv6nI9GgidMT",
        "outputId": "01ad1a5f-1048-48e8-e201-46ecf4e47419"
      },
      "execution_count": 4,
      "outputs": [
        {
          "output_type": "execute_result",
          "data": {
            "text/plain": [
              "Unnamed: 0                                                            1\n",
              "URL                   https://www.vanityfair.com/news/2022/11/elon-m...\n",
              "Text                  Elon Musk warned that filing for bankruptcy wa...\n",
              "Extracted Entities    [('Elon', 'PERSON'), ('Musk', 'PERSON'), ('7,5...\n",
              "Summary               – Elon Musk sent an email to Twitter employees...\n",
              "Name: 1, dtype: object"
            ]
          },
          "metadata": {},
          "execution_count": 4
        }
      ]
    },
    {
      "cell_type": "markdown",
      "source": [
        "## Example 1:"
      ],
      "metadata": {
        "id": "Fq7FD73TijQt"
      }
    },
    {
      "cell_type": "markdown",
      "source": [
        "URL:\n",
        "https://www.vanityfair.com/news/2022/11/elon-musk-cautions-twitter-could-go-bankrupt"
      ],
      "metadata": {
        "id": "IVonlFcnkF9A"
      }
    },
    {
      "cell_type": "code",
      "source": [
        "a = Article(\"https://www.vanityfair.com/news/2022/11/elon-musk-cautions-twitter-could-go-bankrupt\") \n",
        "\n",
        "a.download()\n",
        "a.parse()\n",
        "print(a.text)"
      ],
      "metadata": {
        "colab": {
          "base_uri": "https://localhost:8080/"
        },
        "id": "mIxURG3Io3Zd",
        "outputId": "93136c0b-9b45-40f6-f05d-eaf68bcf947f"
      },
      "execution_count": 22,
      "outputs": [
        {
          "output_type": "stream",
          "name": "stdout",
          "text": [
            "Elon Musk warned that filing for bankruptcy was a distinct possibility for his newly acquired company, after he laid off half of the staff, which numbered 7,500 earlier this year, and made changes to the platform that are causing users, brands, and advertisers to fly the coop.\n",
            "\n",
            "“Sorry that this is my first email to the whole company, but there is no way to sugarcoat the message,” Musk wrote to employees. “Without significant subscription revenue, there is a good chance Twitter will not survive the upcoming economic downturn.”\n",
            "\n",
            "Musk sold nearly $4 billion worth of Telsa stock since reaching his deal to buy Twitter for $44 billion last month. He told Twitter employees on Thursday that he was selling his other company’s stock in order to “save Twitter.”\n",
            "\n",
            "On top of mass layoffs and unwelcome platform changes, Musk told employees on Wednesday in an email that he is requiring them to come into the office for a minimum of 40 hours per week, ending the company’s work-from-home policy; he added that he had to personally approve any remote work requests.\n",
            "\n",
            "Musk also said in the email, “We need roughly half of our revenue to be subscription,” alluding to the new controversial blue checkmark subscription service. The blue checkmark, which used to indicate a user’s verified identity to combat misinformation and scam accounts, now costs $8 per month and can be given to anyone who will pay. It’s unclear whether eventually users will have to show identity verification for a blue checkmark.\n",
            "\n",
            "In the email, Musk mentioned the growing bot problem: “Over the next few days, the absolute top priority is finding and suspending any verified bots/trolls/spam.”\n",
            "\n",
            "He echoed this on Twitter: “Going forward, accounts engaged in parody must include ‘parody’ in their name, not just in bio.”\n",
            "\n",
            "Twitter content This content can also be viewed on the site it originates from.\n",
            "\n",
            "Ironically, it was difficult to even find this tweet from the real Elon Musk’s Twitter account. One must sift through a sea of fake Elon Musks to find the real one, as a number of users are demonstrating the dangerousness of the new blue checkmark’s leniency, pairing his name with a paid-for checkmark.\n",
            "\n",
            "CNN pointed out that under the new blue checkmark system, Twitter gave Jesus Christ verified status.\n"
          ]
        }
      ]
    },
    {
      "cell_type": "markdown",
      "source": [
        "Text Summary:"
      ],
      "metadata": {
        "id": "QitGXi6wj0iR"
      }
    },
    {
      "cell_type": "markdown",
      "source": [
        "– Elon Musk sent an email to Twitter employees this week, and it was a bleak one. \"Sorry that this is my first email to the whole company, but there is no way to sugarcoat the message,\" he wrote. \"Without significant subscription revenue, there is a good chance Twitter will not survive the upcoming economic downturn.\" He added that he was selling his other company's stock in order to \"save Twitter,\" CNBC reports. Musk laid off half of the staff when he bought the company for $44 billion last month, and he told employees this week that they are now required to come into the office for a minimum of 40 hours per week, ending the company's work-from-home policy. \"We need roughly half of our revenue to be subscription,\" he wrote, referring to the company's controversial blue checkmark subscription service. \"Over the next few days, the absolute top priority is finding and suspending any verified bots/trolls/spam,\" he wrote. \"Going forward, accounts engaged in parody must include 'parody' in their name, not just in bio.\" He also noted that going forward, \"accounts engaged in parody must include 'parody' in their name, not just in bio.\"\n"
      ],
      "metadata": {
        "id": "7_xpZcdXju7u"
      }
    },
    {
      "cell_type": "markdown",
      "source": [
        "Entities:"
      ],
      "metadata": {
        "id": "6PjMxJeIpjhh"
      }
    },
    {
      "cell_type": "code",
      "source": [
        "df.loc[1][\"Extracted Entities\"]"
      ],
      "metadata": {
        "colab": {
          "base_uri": "https://localhost:8080/",
          "height": 106
        },
        "id": "j5yOvk_EpWfb",
        "outputId": "812fbd02-458b-49d6-964a-f437fccc55e3"
      },
      "execution_count": 23,
      "outputs": [
        {
          "output_type": "execute_result",
          "data": {
            "text/plain": [
              "\"[('Elon', 'PERSON'), ('Musk', 'PERSON'), ('7,500', 'NUMBER'), ('earlier', 'DATE'), ('this', 'DATE'), ('year', 'DATE'), ('first', 'ORDINAL'), ('Musk', 'PERSON'), ('Twitter', 'ORGANIZATION'), ('Musk', 'ORGANIZATION'), ('$', 'MONEY'), ('4', 'MONEY'), ('billion', 'MONEY'), ('Telsa', 'LOCATION'), ('Twitter', 'ORGANIZATION'), ('$', 'MONEY'), ('44', 'MONEY'), ('billion', 'MONEY'), ('last', 'DATE'), ('month', 'DATE'), ('Twitter', 'ORGANIZATION'), ('Thursday', 'DATE'), ('Twitter', 'ORGANIZATION'), ('Musk', 'PERSON'), ('Wednesday', 'DATE'), ('40', 'DURATION'), ('hours', 'DURATION'), ('week', 'DURATION'), ('Musk', 'PERSON'), ('now', 'DATE'), ('$', 'MONEY'), ('8', 'MONEY'), ('month', 'DURATION'), ('Musk', 'PERSON'), ('the', 'DURATION'), ('next', 'DURATION'), ('few', 'DURATION'), ('days', 'DURATION'), ('Elon', 'ORGANIZATION'), ('Musk', 'ORGANIZATION'), ('’s', 'ORGANIZATION'), ('Twitter', 'ORGANIZATION'), ('One', 'NUMBER'), ('Elon', 'ORGANIZATION'), ('Musks', 'ORGANIZATION'), ('one', 'NUMBER'), ('CNN', 'ORGANIZATION'), ('Twitter', 'ORGANIZATION'), ('Jesus', 'PERSON'), ('Christ', 'PERSON')]\""
            ],
            "application/vnd.google.colaboratory.intrinsic+json": {
              "type": "string"
            }
          },
          "metadata": {},
          "execution_count": 23
        }
      ]
    },
    {
      "cell_type": "markdown",
      "source": [
        "## Example 2:"
      ],
      "metadata": {
        "id": "HbTtlE14kpgD"
      }
    },
    {
      "cell_type": "code",
      "source": [
        "df.loc[24][\"URL\"]"
      ],
      "metadata": {
        "colab": {
          "base_uri": "https://localhost:8080/",
          "height": 35
        },
        "id": "I3B3p8lZjbDx",
        "outputId": "b5af09a0-023f-42d6-ab60-49d31a3c61c4"
      },
      "execution_count": 9,
      "outputs": [
        {
          "output_type": "execute_result",
          "data": {
            "text/plain": [
              "'https://freerepublic.com/focus/f-news/4108589/posts'"
            ],
            "application/vnd.google.colaboratory.intrinsic+json": {
              "type": "string"
            }
          },
          "metadata": {},
          "execution_count": 9
        }
      ]
    },
    {
      "cell_type": "markdown",
      "source": [
        "URL: https://freerepublic.com/focus/f-news/4108589/posts"
      ],
      "metadata": {
        "id": "_ByKqVufk1rw"
      }
    },
    {
      "cell_type": "code",
      "source": [
        "a = Article(\"https://freerepublic.com/focus/f-news/4108589/posts\") \n",
        "\n",
        "a.download()\n",
        "a.parse()\n",
        "print(a.text)"
      ],
      "metadata": {
        "colab": {
          "base_uri": "https://localhost:8080/"
        },
        "id": "x2iOYiPzluou",
        "outputId": "1418090f-b500-471f-dd26-29eb49ecc13d"
      },
      "execution_count": 24,
      "outputs": [
        {
          "output_type": "stream",
          "name": "stdout",
          "text": [
            "Skip to comments.\n",
            "\n",
            "Embattled Cryptocurrency Founder Spent $40 Million on Midterms\n",
            "\n",
            "Wall Street Journal ^ | By Julie Bykowicz\n",
            "\n",
            "Posted on by NoLibZone\n",
            "\n",
            "Even before polls closed, one of the year's biggest Democratic donors had a very bad Tuesday.\n",
            "\n",
            "Sam Bankman-Fried's cryptocurrency exchange FTX -- valued at $32 billion in January -- suffered a sudden liquidity crunch and was taken over by its rival Binance.\n",
            "\n",
            "\n",
            "\n",
            "(Excerpt) Read more at wsj.com ...\n",
            "\n",
            "TOPICS:\n",
            "\n",
            "Extended News\n",
            "\n",
            "News/Current Events\n",
            "\n",
            "Politics/Elections\n",
            "\n",
            "KEYWORDS:\n",
            "\n",
            "1moretime\n",
            "\n",
            "bitcoin\n",
            "\n",
            "cryptocurrency\n",
            "\n",
            "ftx\n",
            "\n",
            "ftxcryptoexchange\n",
            "\n",
            "ftxfundeddnc\n",
            "\n",
            "juliebykowicz\n",
            "\n",
            "sambankmanfried\n",
            "\n",
            "wallstreetjournal\n",
            "\n",
            "FTX crypto exchange was a DNC funding operation. FTX stole billions of dollars from investors and then funnel the money directly to the DNC. Samuel Bankman Fried owner of FTX met regularly with Bill Clinton and Gensler\n",
            "\n",
            "\n",
            "\n",
            "To: NoLibZone\n",
            "\n",
            "His mother spent at least as much. Incidentally, this mess has a Epstein Island tint to it. Details developing.\n",
            "\n",
            "\n",
            "\n",
            "To: NoLibZone\n",
            "\n",
            "Criminals are a core constituency of the Democrat Party.\n",
            "\n",
            "\n",
            "\n",
            "by 3 posted onby BenLurkin (The above is not a statement of fact. It is either opinion, or satire, or both.)\n",
            "\n",
            "To: NoLibZone\n",
            "\n",
            "Bill hangs around with interesting people. Police should dog his footsteps.\n",
            "\n",
            "\n",
            "\n",
            "To: NoLibZone\n",
            "\n",
            "https://www.coindesk.com/policy/2022/03/14/ukraine-partners-with-ftx-everstake-to-launch-new-crypto-donation-website/ Dems + Ukraine + criminal crypto Because of course\n",
            "\n",
            "\n",
            "\n",
            "by 5 posted onby Pollard (Worm & GMO Free - some call us purebloods)\n",
            "\n",
            "To: JonPreston\n",
            "\n",
            "Get picture of girlfriend. Then ask yourself that auesyGain\n",
            "\n",
            "\n",
            "\n",
            "by 6 posted onby Kozy (new age haruspex; \"Everyone has a plan 'till they get punched in the mouth.\")\n",
            "\n",
            "To: NoLibZone\n",
            "\n",
            "He “spent” other peoples’ money. Just like the Rats he gave others’ money to do without our money.\n",
            "\n",
            "\n",
            "\n",
            "To: Trumpisourlastchance\n",
            "\n",
            "with out money.\n",
            "\n",
            "\n",
            "\n",
            "To: BenLurkin\n",
            "\n",
            "Get out the vote payments. Mules ain’t cheap these days.\n",
            "\n",
            "\n",
            "\n",
            "by 9 posted onby blackdog (The head, hands, and heart, serve even further than the purse. )\n",
            "\n",
            "To: Kozy\n",
            "\n",
            "I’ve seen her. There’s something wrong with all of them. How anyone would give then a penny to invest is beyond me.\n",
            "\n",
            "\n",
            "\n",
            "To: NoLibZone\n",
            "\n",
            "Ponzi paid to play. The DNC will protect him or kill him. Flip a coin.\n",
            "\n",
            "\n",
            "\n",
            "by 11 posted onby blackdog (The head, hands, and heart, serve even further than the purse. )\n",
            "\n",
            "To: NoLibZone\n",
            "\n",
            "That’s a shame. 😜😱😎🤡\n",
            "\n",
            "\n",
            "\n",
            "by 12 posted onby miserare ( Impeach Joe Biden!)\n",
            "\n",
            "To: NoLibZone\n",
            "\n",
            "This guy has a funny take on the FTX crash. Great British dry humor: FTX Bankruptcy Explained!\n",
            "\n",
            "\n",
            "\n",
            "by 13 posted onby who_would_fardels_bear (This is not a tagline.)\n",
            "\n",
            "To: NoLibZone\n",
            "\n",
            "Second largest donor to Biden and Democrats behind Soros. His mommy is a big Democrat voting advocate (as in fraud). So sonny boy is protected like Hunter.\n",
            "\n",
            "\n",
            "\n",
            "To: NoLibZone\n",
            "\n",
            "It looks he’ll have some “empty pockets” heading towards 2024. That makes me happy. I’m sick of the so called party of the rich getting their “brains beat in” on spending. It seems like its gotten worse since the Obama Presidency, in this regard.\n",
            "\n",
            "\n",
            "\n",
            "by 15 posted onby unclebankster (Globalism is the last refuge of a scoundrel)\n",
            "\n",
            "To: NoLibZone\n",
            "\n",
            "Let’s review. Democrat marxists give unaccounted billions to Ukraine. Ukraine puts unaccounted billions into FTX. The “Founder” of FTX and buddies becomes the largest donors to the democrat marxist party. Implodes immediately after massive fraud in the midterms. Zero news in the legacy and big tech media.\n",
            "\n",
            "\n",
            "\n",
            "by 16 posted onby 2banana (Common ground with islamic terrorists-they want to die for allah and we want to arrange the meeting)\n",
            "\n",
            "To: 2banana\n",
            "\n",
            "After spending $180,000 USD worth of Ethereum on a Bored Ape Yacht Club NFT, Stephen Curry has announced that he will serve as Global Brand Ambassador and shareholder for the cryptocurrency trading platform FTX.\n",
            "\n",
            "“I’m excited to partner with a company that demystifies the crypto space and eliminates the intimidation factor for first-time users,” said Curry in a statement. “FTX is likeminded when it comes to giving back to the community in meaningful ways and I can’t wait to see what we can achieve together.”\n",
            "\n",
            "\n",
            "\n",
            "To: NoLibZone\n",
            "\n",
            "https://www.coindesk.com/policy/2022/03/14/ukraine-partners-with-ftx-everstake-to-launch-new-crypto-donation-website/ How much of our taxpayer money was laundered through Ukraine?\n",
            "\n",
            "\n",
            "\n",
            "To: NoLibZone\n",
            "\n",
            "Democrat administrations are always for sale. All the way back to Lyndon Johnson.\n",
            "\n",
            "\n",
            "\n",
            "To: NoLibZone\n",
            "\n",
            "It’s a scam, Jim And it’s not the only one\n",
            "\n",
            "\n",
            "\n",
            "by 20 posted onby NWFree (Somebody has to say it 🤪)\n",
            "\n",
            "Disclaimer: Opinions posted on Free Republic are those of the individual posters and do not necessarily represent the opinion of Free Republic or its management. All materials posted herein are protected by copyright law and the exemption for fair use of copyrighted works.\n",
            "\n",
            "FreeRepublic , LLC, PO BOX 9771, FRESNO, CA 93794\n",
            "\n",
            "FreeRepublic.com is powered by software copyright 2000-2008 John Robinson\n"
          ]
        }
      ]
    },
    {
      "cell_type": "markdown",
      "source": [
        "Summary:\n",
        "\n",
        "– In the days leading up to the midterms, the Wall Street Journal reported that Sam Bankman-Fried, the founder of cryptocurrency exchange FTX, had donated $40 million to the Democratic National Committee—more than any other major donor to the party. The same day, Bankman-Fried's company filed for bankruptcy, according to the New York Times. The collapse of FTX, valued at $$32 billion at the start of the year, was first reported by CoinDesk. It was later revealed that Bankman-Fried met regularly with Bill Clinton, and that his mother had also donated at least as much to the DNC. FTX has since been taken over by a rival exchange. Bankman-Fried's company, Ukrainebank, is accused of running a Ponzi scheme that bilked investors out of billions of dollars, the Times reports. According to the Journal, Bankman-Fried has admitted to defrauding investors, but he says he didn't know about the scheme until after FTX went under. He has also been accused of funneling money from FTX to the DNC in order to boost the party's chances in the midterms. According to CoinDesk, FTX was the second largest cryptocurrency exchange in the world at the start"
      ],
      "metadata": {
        "id": "UK7qXtSCpzzI"
      }
    },
    {
      "cell_type": "markdown",
      "source": [
        "Extracted Entities:"
      ],
      "metadata": {
        "id": "kiIwtWhHqCfu"
      }
    },
    {
      "cell_type": "code",
      "source": [
        "df.loc[24][\"Extracted Entities\"]"
      ],
      "metadata": {
        "colab": {
          "base_uri": "https://localhost:8080/",
          "height": 247
        },
        "id": "IPrTNUF7pxNe",
        "outputId": "2d31a4b1-783f-4c0c-b071-4a5d522b5363"
      },
      "execution_count": 26,
      "outputs": [
        {
          "output_type": "execute_result",
          "data": {
            "text/plain": [
              "\"[('Founder', 'TITLE'), ('$', 'MONEY'), ('40', 'MONEY'), ('Million', 'MONEY'), ('Julie', 'PERSON'), ('Bykowicz', 'PERSON'), ('one', 'NUMBER'), ('the', 'DATE'), ('year', 'DATE'), ('Democratic', 'IDEOLOGY'), ('Tuesday', 'DATE'), ('Sam', 'PERSON'), ('Bankman', 'PERSON'), ('-', 'PERSON'), ('Fried', 'PERSON'), ('FTX', 'ORGANIZATION'), ('$', 'MONEY'), ('32', 'MONEY'), ('billion', 'MONEY'), ('January', 'DATE'), ('Binance', 'PERSON'), ('wsj.com', 'URL'), ('Current', 'DATE'), ('DNC', 'ORGANIZATION'), ('FTX', 'ORGANIZATION'), ('stole', 'MONEY'), ('billions', 'MONEY'), ('of', 'MONEY'), ('dollars', 'MONEY'), ('DNC', 'ORGANIZATION'), ('Samuel', 'PERSON'), ('Bankman', 'PERSON'), ('owner', 'TITLE'), ('FTX', 'ORGANIZATION'), ('Bill', 'PERSON'), ('Clinton', 'PERSON'), ('Gensler', 'PERSON'), ('Epstein', 'LOCATION'), ('Island', 'LOCATION'), ('Democrat', 'ORGANIZATION'), ('Party', 'ORGANIZATION'), ('3', 'NUMBER'), ('NoLibZone', 'PERSON'), ('Bill', 'PERSON'), ('https://www.coindesk.com/policy/2022/03/14/ukraine-partners-with-ftx-everstake-to-launch-new-crypto-donation-website/', 'DATE'), ('Ukraine', 'COUNTRY'), ('5', 'NUMBER'), ('JonPreston', 'PERSON'), ('6', 'NUMBER'), ('new', 'RELIGION'), ('age', 'RELIGION'), ('Trumpisourlastchance', 'PERSON'), ('days', 'DURATION'), ('9', 'NUMBER'), ('Kozy', 'PERSON'), ('NoLibZone', 'PERSON'), ('Ponzi', 'PERSON'), ('DNC', 'ORGANIZATION'), ('11', 'NUMBER'), ('12', 'NUMBER'), ('Joe', 'PERSON'), ('Biden', 'PERSON'), ('FTX', 'ORGANIZATION'), ('crash', 'CAUSE_OF_DEATH'), ('British', 'NATIONALITY'), ('13', 'NUMBER'), ('Second', 'ORDINAL'), ('Biden', 'PERSON'), ('Democrats', 'IDEOLOGY'), ('Soros', 'PERSON'), ('Democrat', 'MISC'), ('fraud', 'CRIMINAL_CHARGE'), ('Hunter', 'PERSON'), ('2024', 'DATE'), ('Obama', 'ORGANIZATION'), ('Presidency', 'ORGANIZATION'), ('15', 'NUMBER'), ('Globalism', 'MISC'), ('Democrat', 'MISC'), ('Ukraine', 'COUNTRY'), ('Ukraine', 'COUNTRY'), ('FTX', 'ORGANIZATION'), ('Founder', 'TITLE'), ('FTX', 'ORGANIZATION'), ('marxist', 'IDEOLOGY'), ('fraud', 'CRIMINAL_CHARGE'), ('Zero', 'NUMBER'), ('16', 'NUMBER'), ('islamic', 'IDEOLOGY'), ('2banana', 'NUMBER'), ('$', 'MONEY'), ('180,000', 'MONEY'), ('Bored', 'ORGANIZATION'), ('Ape', 'ORGANIZATION'), ('Yacht', 'ORGANIZATION'), ('Club', 'ORGANIZATION'), ('NFT', 'ORGANIZATION'), ('Stephen', 'PERSON'), ('Curry', 'PERSON'), ('Ambassador', 'TITLE'), ('FTX', 'ORGANIZATION'), ('intimidation', 'CRIMINAL_CHARGE'), ('Curry', 'PERSON'), ('FTX', 'ORGANIZATION'), ('https://www.coindesk.com/policy/2022/03/14/ukraine-partners-with-ftx-everstake-to-launch-new-crypto-donation-website/', 'DATE'), ('Ukraine', 'COUNTRY'), ('Democrat', 'MISC'), ('Lyndon', 'PERSON'), ('Johnson', 'PERSON'), ('Jim', 'PERSON'), ('one', 'NUMBER'), ('20', 'NUMBER'), ('9771', 'NUMBER'), ('FRESNO', 'CITY'), ('CA', 'STATE_OR_PROVINCE'), ('93794', 'NUMBER'), ('FreeRepublic.com', 'URL'), ('2000', 'DURATION'), ('-', 'DURATION'), ('2008', 'DURATION'), ('John', 'PERSON'), ('Robinson', 'PERSON')]\""
            ],
            "application/vnd.google.colaboratory.intrinsic+json": {
              "type": "string"
            }
          },
          "metadata": {},
          "execution_count": 26
        }
      ]
    },
    {
      "cell_type": "markdown",
      "source": [
        "## Example 3"
      ],
      "metadata": {
        "id": "0yx4qDbcqNe6"
      }
    },
    {
      "cell_type": "code",
      "source": [
        "df.loc[49][\"URL\"]"
      ],
      "metadata": {
        "colab": {
          "base_uri": "https://localhost:8080/",
          "height": 35
        },
        "id": "VcSuL_FsqHHd",
        "outputId": "8e0a73ce-147d-49dc-a8b8-11ca923635a6"
      },
      "execution_count": 27,
      "outputs": [
        {
          "output_type": "execute_result",
          "data": {
            "text/plain": [
              "'https://www.aljazeera.com/news/2022/11/12/zelenskyy-says-russia-destroyed-khersons-critical-infrastructure'"
            ],
            "application/vnd.google.colaboratory.intrinsic+json": {
              "type": "string"
            }
          },
          "metadata": {},
          "execution_count": 27
        }
      ]
    },
    {
      "cell_type": "code",
      "source": [
        "a = Article(\"https://www.aljazeera.com/news/2022/11/12/zelenskyy-says-russia-destroyed-khersons-critical-infrastructure\") \n",
        "\n",
        "a.download()\n",
        "a.parse()\n",
        "print(a.text)"
      ],
      "metadata": {
        "colab": {
          "base_uri": "https://localhost:8080/"
        },
        "id": "dwyRg97-qQaF",
        "outputId": "105013f8-2677-40a6-ee7f-a72960ebe90e"
      },
      "execution_count": 28,
      "outputs": [
        {
          "output_type": "stream",
          "name": "stdout",
          "text": [
            "Ukraine’s president says communications, water, heat, electricity have been disrupted as Russians left the city.\n",
            "\n",
            "Russian forces destroyed critical infrastructure in the southern city of Kherson before their withdrawal, Ukrainian President Volodymyr Zelenskyy has said, as Kyiv’s military retook control of the southeastern city.\n",
            "\n",
            "“Before fleeing from Kherson, the occupiers destroyed all the critical infrastructure: communications, water, heat, electricity,” Zelenskyy stated in a video address on Saturday.\n",
            "\n",
            "“[Russians] everywhere have the same goal: to humiliate people as much as possible. But we will restore everything, believe me,” he said.\n",
            "\n",
            "Jubilant residents welcomed troops arriving in the city centre on Friday after Russia abandoned the only regional capital it had captured since the start of the war in February.\n",
            "\n",
            "Ukrainian troops retook control of more than 60 settlements in the Kherson region, Zelenskyy said, adding that almost 2,000 mines, tripwires and unexploded shells had been dealt with so far.\n",
            "\n",
            "Foreign minister Dmytro Kuleba said Ukraine was “winning battles on the ground. But the war continues.”\n",
            "\n",
            "Ukraine’s triumphant recovery of Kherson was welcomed by the United States as an “extraordinary victory”.\n",
            "\n",
            "“It’s a big moment and it’s due to the incredible tenacity and skill of the Ukrainians, backed by the relentless and united support of the United States and our allies,” US National Security Adviser Jake Sullivan said while travelling to Cambodia with President Joe Biden for a regional summit.\n",
            "\n",
            "‘Most decisive’ event in the war\n",
            "\n",
            "Al Jazeera’s Assed Baig, reporting from the Kherson region, said Moscow’s withdrawal was the “most decisive” event in this war so far.\n",
            "\n",
            "“It’s boosted the morale of Ukrainian soldiers who say … they now believe they can win this war.”\n",
            "\n",
            "Ukraine’s National Police chief, Ihor Klymenko, said some 200 officers were at work in the city, setting up checkpoints and documenting evidence of possible war crimes.\n",
            "\n",
            "He urged Kherson residents to watch out for possible landmines laid by the Russian troops, saying one policeman had been wounded while de-mining an administrative building.\n",
            "\n",
            "Officials also said humanitarian aid was being delivered to the city’s residents.\n",
            "\n",
            "“The situation is very difficult because Russia created intolerable conditions for the people to stay and live in Kherson. And before the retreat of Russian troops, Russia had deliberately tried to create a humanitarian catastrophe,” said Oleksandr Merezhko, the chair of the Ukrainian Parliament’s Committee on Foreign Policy.\n",
            "\n",
            "“The process of de-mining has already started, and humanitarian aid has started to flow to the city. And we hope within a month that we will open post offices, we will start giving money and pensions and salaries to workers in Kherson,” he told Al Jazeera.\n",
            "\n",
            "About 70 percent of the Kherson region remains under Moscow’s control, with Russian troops fortifying their battle lines on the eastern bank of the Dnieper River, according to the General Staff of Ukraine’s armed forces.\n",
            "\n",
            "Russia established the Ukrainian city of Henichesk as the Kherson region’s temporary administrative capital following its withdrawal from Kherson city.\n",
            "\n",
            "Sergey Markov, a former adviser to Russian President Vladimir Putin, told Al Jazeera that losing Kherson was a blow for Russia, but that Moscow’s mobilisation means it will be Ukraine’s last victory.\n",
            "\n",
            "“It’s really embarrassing for Russia. We used to believe that Russian army is the second army in the world, after the United States. Probably even equal to the United States. So, it’s depressive for the population, it’s depressive for the army, but we still believe this is the last military victory of the Ukrainian army,” he said.\n",
            "\n",
            "“The main reason is that Ukraine has a total military mobilisation over the spring. Ukraine is five times less than Russia in terms of population, but Ukraine’s army is twice as big as the Russian army. But now that privilege will be over for Ukrainian army, because 300,000 mobilised Russians will come to the Russian army.”\n",
            "\n",
            "The Kremlin meanwhile insisted Kherson was still part of Russia and it did not regret annexing the entire Kherson region. Russia announced the annexation of four Ukrainian regions, including Kherson, in September — a step dubbed illegal by Kyiv and denounced by Western countries.\n",
            "\n",
            "The full Ukrainian recapture of the Kherson region would disrupt a vital land bridge for Russia between its mainland and the Crimean Peninsula, which Moscow annexed from Ukraine in 2014.\n"
          ]
        }
      ]
    },
    {
      "cell_type": "markdown",
      "source": [
        "Summary:\n",
        "\n",
        "– Ukrainian troops have reclaimed the government-held city of Kherson from Russia-backed separatists, marking what the country's president says is the biggest victory since Russia's annexation of Crimea in 2014. \"Before fleeing from Kherson, the occupiers destroyed all the critical infrastructure: communications, water, heat, electricity,\" President Volodymyr Zelenskyy said in a video address Saturday, per al-Jazeera. \"We will restore everything, believe me,\" he added, vowing to restore power, water, and communications to the city, which had been without electricity or running water for more than a week. The recapture of Kherson, which had been the only government-held city since February, was welcomed by the US and other Western countries, the AP reports. \"It's a big moment and it's due to the incredible tenacity and skill of the Ukrainians, backed by the relentless and united support of the United States and our allies,\" National Security Adviser Jake Sullivan said while traveling in Cambodia with President Joe Biden for a regional summit. \"It's boosted the morale of Ukrainian soldiers who say... they now believe they can win this war,\" Al-Jazeera's Assed Baig reported from the Kherson region"
      ],
      "metadata": {
        "id": "Vlk_WeWYqXKb"
      }
    },
    {
      "cell_type": "markdown",
      "source": [
        "Entities"
      ],
      "metadata": {
        "id": "WVate2p8qXO6"
      }
    },
    {
      "cell_type": "code",
      "source": [
        "df.loc[49][\"Extracted Entities\"]"
      ],
      "metadata": {
        "colab": {
          "base_uri": "https://localhost:8080/",
          "height": 283
        },
        "id": "9Du-nwBRqUN9",
        "outputId": "8a556ab5-f53e-466e-d3f9-74ca1ccb0113"
      },
      "execution_count": 30,
      "outputs": [
        {
          "output_type": "execute_result",
          "data": {
            "text/plain": [
              "\"[('Ukraine', 'COUNTRY'), ('president', 'TITLE'), ('Russians', 'MISC'), ('Russian', 'NATIONALITY'), ('Kherson', 'CITY'), ('Ukrainian', 'NATIONALITY'), ('President', 'TITLE'), ('Volodymyr', 'PERSON'), ('Zelenskyy', 'PERSON'), ('Kyiv', 'PERSON'), ('Kherson', 'CITY'), ('Saturday', 'DATE'), ('Russians', 'MISC'), ('Friday', 'DATE'), ('Russia', 'COUNTRY'), ('war', 'CAUSE_OF_DEATH'), ('February', 'DATE'), ('Ukrainian', 'NATIONALITY'), ('60', 'NUMBER'), ('Kherson', 'CITY'), ('Zelenskyy', 'PERSON'), ('2,000', 'NUMBER'), ('Foreign', 'TITLE'), ('minister', 'TITLE'), ('Dmytro', 'PERSON'), ('Kuleba', 'PERSON'), ('Ukraine', 'COUNTRY'), ('war', 'CAUSE_OF_DEATH'), ('Ukraine', 'COUNTRY'), ('Kherson', 'CITY'), ('United', 'COUNTRY'), ('States', 'COUNTRY'), ('Ukrainians', 'MISC'), ('United', 'COUNTRY'), ('States', 'COUNTRY'), ('US', 'COUNTRY'), ('Security', 'TITLE'), ('Adviser', 'TITLE'), ('Jake', 'PERSON'), ('Sullivan', 'PERSON'), ('Cambodia', 'COUNTRY'), ('President', 'TITLE'), ('Joe', 'PERSON'), ('Biden', 'PERSON'), ('war', 'CAUSE_OF_DEATH'), ('Al', 'ORGANIZATION'), ('Jazeera', 'ORGANIZATION'), ('Assed', 'PERSON'), ('Baig', 'PERSON'), ('Kherson', 'CITY'), ('Moscow', 'CITY'), ('war', 'CAUSE_OF_DEATH'), ('Ukrainian', 'NATIONALITY'), ('now', 'DATE'), ('war', 'CAUSE_OF_DEATH'), ('Ukraine', 'COUNTRY'), ('Police', 'TITLE'), ('chief', 'TITLE'), ('Ihor', 'PERSON'), ('Klymenko', 'PERSON'), ('200', 'NUMBER'), ('war', 'CRIMINAL_CHARGE'), ('crimes', 'CRIMINAL_CHARGE'), ('Kherson', 'CITY'), ('Russian', 'NATIONALITY'), ('one', 'NUMBER'), ('policeman', 'TITLE'), ('Russia', 'COUNTRY'), ('Kherson', 'CITY'), ('Russian', 'NATIONALITY'), ('Russia', 'COUNTRY'), ('Oleksandr', 'PERSON'), ('Merezhko', 'PERSON'), ('Ukrainian', 'NATIONALITY'), ('Parliament', 'ORGANIZATION'), ('a', 'DURATION'), ('month', 'DURATION'), ('Kherson', 'CITY'), ('Al', 'ORGANIZATION'), ('Jazeera', 'ORGANIZATION'), ('70', 'PERCENT'), ('percent', 'PERCENT'), ('Kherson', 'CITY'), ('Moscow', 'CITY'), ('Russian', 'NATIONALITY'), ('Dnieper', 'LOCATION'), ('River', 'TITLE'), ('General', 'TITLE'), ('Ukraine', 'COUNTRY'), ('Russia', 'COUNTRY'), ('Ukrainian', 'NATIONALITY'), ('Henichesk', 'LOCATION'), ('Kherson', 'CITY'), ('Kherson', 'CITY'), ('Sergey', 'PERSON'), ('Markov', 'PERSON'), ('Russian', 'NATIONALITY'), ('President', 'TITLE'), ('Vladimir', 'PERSON'), ('Putin', 'PERSON'), ('Al', 'ORGANIZATION'), ('Jazeera', 'ORGANIZATION'), ('Kherson', 'CITY'), ('Russia', 'COUNTRY'), ('Moscow', 'CITY'), ('Ukraine', 'COUNTRY'), ('Russia', 'COUNTRY'), ('Russian', 'NATIONALITY'), ('second', 'ORDINAL'), ('United', 'COUNTRY'), ('States', 'COUNTRY'), ('United', 'COUNTRY'), ('States', 'COUNTRY'), ('Ukrainian', 'NATIONALITY'), ('Ukraine', 'COUNTRY'), ('spring', 'DATE'), ('Ukraine', 'COUNTRY'), ('five', 'NUMBER'), ('Russia', 'COUNTRY'), ('Ukraine', 'COUNTRY'), ('Russian', 'NATIONALITY'), ('now', 'DATE'), ('Ukrainian', 'NATIONALITY'), ('300,000', 'NUMBER'), ('Russians', 'MISC'), ('Russian', 'NATIONALITY'), ('Kremlin', 'ORGANIZATION'), ('Kherson', 'CITY'), ('Russia', 'COUNTRY'), ('Kherson', 'CITY'), ('Russia', 'COUNTRY'), ('four', 'NUMBER'), ('Ukrainian', 'NATIONALITY'), ('Kherson', 'CITY'), ('September', 'DATE'), ('Western', 'MISC'), ('Ukrainian', 'NATIONALITY'), ('Kherson', 'CITY'), ('Russia', 'COUNTRY'), ('Crimean', 'LOCATION'), ('Peninsula', 'LOCATION'), ('Moscow', 'CITY'), ('Ukraine', 'COUNTRY'), ('2014', 'DATE')]\""
            ],
            "application/vnd.google.colaboratory.intrinsic+json": {
              "type": "string"
            }
          },
          "metadata": {},
          "execution_count": 30
        }
      ]
    },
    {
      "cell_type": "code",
      "source": [],
      "metadata": {
        "id": "XHH_JK_fqaxQ"
      },
      "execution_count": null,
      "outputs": []
    }
  ]
}