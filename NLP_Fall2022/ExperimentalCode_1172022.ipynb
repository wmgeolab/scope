{
 "cells": [
  {
   "cell_type": "code",
   "execution_count": 1,
   "id": "7753a41d-a479-494e-9a7e-3d930043dbb5",
   "metadata": {},
   "outputs": [
    {
     "name": "stderr",
     "output_type": "stream",
     "text": [
      "/opt/bitnami/miniconda/lib/python3.7/site-packages/tqdm/auto.py:22: TqdmWarning: IProgress not found. Please update jupyter and ipywidgets. See https://ipywidgets.readthedocs.io/en/stable/user_install.html\n",
      "  from .autonotebook import tqdm as notebook_tqdm\n"
     ]
    }
   ],
   "source": [
    "from summarizer import Summarizer\n",
    "from summarizer import Summarizer,TransformerSummarizer\n",
    "from pdfminer.high_level import extract_pages\n",
    "from pdfminer.high_level import extract_text\n",
    "import torch\n",
    "import re\n",
    "from urllib.request import Request, urlopen \n",
    "import requests  \n",
    "import urllib.request  \n",
    "from pdfminer.high_level import extract_pages\n",
    "from pdfminer.high_level import extract_text\n",
    "from summarizer import TransformerSummarizer"
   ]
  },
  {
   "cell_type": "code",
   "execution_count": 2,
   "id": "18c7a990-6da8-46cc-992c-6b9522d489e3",
   "metadata": {},
   "outputs": [],
   "source": [
    "EXAMPLE_URLS = [\"https://publicpartnershipdata.azureedge.net/gef/GEFProjectVersions/c1366692-d840-ed11-9db0-000d3a31b2d8_PIF.pdf\", \"https://publicpartnershipdata.azureedge.net/gef/GEFProjectVersions/ac49cabb-44c2-ec11-983e-000d3a3006f7_PIF.pdf\", \"https://publicpartnershipdata.azureedge.net/gef/GEFProjectVersions/742b9aaf-55ba-ec11-983f-0022480a35bf_STAPReview.pdf\"]\n",
    "TEXT_DESTINATION = [\"text1.pdf\", \"text2.pdf\", \"text3.pdf\"]"
   ]
  },
  {
   "cell_type": "markdown",
   "id": "cb884a2e-f09a-4737-8528-d9803a58b5e7",
   "metadata": {},
   "source": [
    "## Converting PDF Link to Locally Stored PDF "
   ]
  },
  {
   "cell_type": "code",
   "execution_count": 3,
   "id": "782b955f-8c91-4c0b-8da9-a7d40ff443d5",
   "metadata": {},
   "outputs": [],
   "source": [
    "for idx in range(len(EXAMPLE_URLS)):\n",
    "    url = EXAMPLE_URLS[idx]\n",
    "    filename = TEXT_DESTINATION[idx]\n",
    "    \n",
    "    req = urllib.request.Request(url, headers={'User-Agent': 'Mozilla/5.0'})  \n",
    "    r = requests.get(url)\n",
    "    \n",
    "    with open(filename, \"wb\") as code:\n",
    "        code.write(r.content)"
   ]
  },
  {
   "cell_type": "markdown",
   "id": "e43c31ec-18ad-4faa-afb1-182cef1f2da7",
   "metadata": {},
   "source": [
    "## Extracting Text from PDFs Using PDFMINER"
   ]
  },
  {
   "cell_type": "code",
   "execution_count": 4,
   "id": "f5ecf584-a04e-49c5-bf65-3e8523324e95",
   "metadata": {},
   "outputs": [],
   "source": [
    "text_raw_1 = extract_text('text1.pdf')\n",
    "text_raw_2 = extract_text('text2.pdf')\n",
    "text_raw_3 = extract_text('text3.pdf')\n",
    "\n",
    "raw_texts = [text_raw_1, text_raw_2, text_raw_3]"
   ]
  },
  {
   "cell_type": "markdown",
   "id": "2369248b-0664-4a15-a801-d84e60b43bae",
   "metadata": {},
   "source": [
    "## Experimental Preprocessing : More work should be done to improve on this"
   ]
  },
  {
   "cell_type": "code",
   "execution_count": 50,
   "id": "53a189ed-78f4-417c-a110-e49b60c4404f",
   "metadata": {},
   "outputs": [],
   "source": [
    "def experimental_preprocess(text):\n",
    "    post_preprocess1 = []\n",
    "    preprocess = text.split(\".\")\n",
    "\n",
    "    for i in range(0,len(preprocess)):\n",
    "        dummy = re.sub(r'[^$a-zA-Z0-9 ]', '', preprocess[i]) \n",
    "        dummy_len = len(dummy.split(\" \"))\n",
    "        if dummy_len > 4:\n",
    "            post_preprocess1.append(preprocess[i] + \".\" )\n",
    "            \n",
    "    post_preprocess2 = \"\".join(post_preprocess1)\n",
    "    \n",
    "    return post_preprocess2\n",
    "    "
   ]
  },
  {
   "cell_type": "code",
   "execution_count": 44,
   "id": "12221ad5-466e-4f28-be46-b6bcb827b90f",
   "metadata": {},
   "outputs": [],
   "source": [
    "# Questions:\n",
    "# Include \\n or no? \n",
    "# Length?\n",
    "# Change algorithm?"
   ]
  },
  {
   "cell_type": "code",
   "execution_count": 51,
   "id": "1ad65b9a-3180-48b8-b15a-e56a2ccb6b7b",
   "metadata": {},
   "outputs": [],
   "source": [
    "text_processed_1 = experimental_preprocess(text_raw_1)\n",
    "text_processed_2 = experimental_preprocess(text_raw_2)\n",
    "text_processed_3 = experimental_preprocess(text_raw_3)\n",
    "\n",
    "processed_texts = [text_processed_1, text_processed_2, text_processed_3]"
   ]
  },
  {
   "cell_type": "markdown",
   "id": "08e606e4-d4b1-45c6-b986-2f6268df513c",
   "metadata": {},
   "source": [
    "## Bert Summarizer Tests"
   ]
  },
  {
   "cell_type": "code",
   "execution_count": 8,
   "id": "ee092ad3-a8dc-47f1-8747-95f46d6e2ca7",
   "metadata": {},
   "outputs": [],
   "source": [
    "results_raw_bert = []"
   ]
  },
  {
   "cell_type": "code",
   "execution_count": 52,
   "id": "f0edd793-cf85-424a-8731-a9ce100b7213",
   "metadata": {},
   "outputs": [],
   "source": [
    "results_processed_bert = []"
   ]
  },
  {
   "cell_type": "code",
   "execution_count": 10,
   "id": "72ab6780-dca9-4f98-826e-15b32c934cd1",
   "metadata": {},
   "outputs": [
    {
     "name": "stderr",
     "output_type": "stream",
     "text": [
      "Some weights of the model checkpoint at bert-large-uncased were not used when initializing BertModel: ['cls.seq_relationship.weight', 'cls.predictions.bias', 'cls.seq_relationship.bias', 'cls.predictions.decoder.weight', 'cls.predictions.transform.dense.weight', 'cls.predictions.transform.LayerNorm.bias', 'cls.predictions.transform.dense.bias', 'cls.predictions.transform.LayerNorm.weight']\n",
      "- This IS expected if you are initializing BertModel from the checkpoint of a model trained on another task or with another architecture (e.g. initializing a BertForSequenceClassification model from a BertForPreTraining model).\n",
      "- This IS NOT expected if you are initializing BertModel from the checkpoint of a model that you expect to be exactly identical (initializing a BertForSequenceClassification model from a BertForSequenceClassification model).\n",
      "Some weights of the model checkpoint at bert-large-uncased were not used when initializing BertModel: ['cls.seq_relationship.weight', 'cls.predictions.bias', 'cls.seq_relationship.bias', 'cls.predictions.decoder.weight', 'cls.predictions.transform.dense.weight', 'cls.predictions.transform.LayerNorm.bias', 'cls.predictions.transform.dense.bias', 'cls.predictions.transform.LayerNorm.weight']\n",
      "- This IS expected if you are initializing BertModel from the checkpoint of a model trained on another task or with another architecture (e.g. initializing a BertForSequenceClassification model from a BertForPreTraining model).\n",
      "- This IS NOT expected if you are initializing BertModel from the checkpoint of a model that you expect to be exactly identical (initializing a BertForSequenceClassification model from a BertForSequenceClassification model).\n",
      "Some weights of the model checkpoint at bert-large-uncased were not used when initializing BertModel: ['cls.seq_relationship.weight', 'cls.predictions.bias', 'cls.seq_relationship.bias', 'cls.predictions.decoder.weight', 'cls.predictions.transform.dense.weight', 'cls.predictions.transform.LayerNorm.bias', 'cls.predictions.transform.dense.bias', 'cls.predictions.transform.LayerNorm.weight']\n",
      "- This IS expected if you are initializing BertModel from the checkpoint of a model trained on another task or with another architecture (e.g. initializing a BertForSequenceClassification model from a BertForPreTraining model).\n",
      "- This IS NOT expected if you are initializing BertModel from the checkpoint of a model that you expect to be exactly identical (initializing a BertForSequenceClassification model from a BertForSequenceClassification model).\n"
     ]
    }
   ],
   "source": [
    "for text in raw_texts:\n",
    "    model = Summarizer()\n",
    "    result = model(text, num_sentences=5) # Var to research: Changing num_sentences\n",
    "    results_raw_bert.append(result)"
   ]
  },
  {
   "cell_type": "code",
   "execution_count": 11,
   "id": "cfd39327-1ece-4300-b321-fc0178437948",
   "metadata": {},
   "outputs": [
    {
     "name": "stdout",
     "output_type": "stream",
     "text": [
      "Yes \n",
      "\n",
      " No\n",
      "\n",
      "If yes, please describe\n",
      "\n",
      "B: Enabling Activity Summary\n",
      "Provide a brief description of the Enabling Activity. The platform will consolidate global \u0000nance sources and mapping of available \u0000nancial sources for\n",
      "biodiversity, including the development of an impact investment and private sector knowledge and capacity development stream to facilitate the creation of\n",
      "national impact investment platforms and related project pipelines (for example, see the UNDP SDG Investor Platform). 5.1.3 Global Catalogue of Biodiversity Finance Solutions\n",
      "expanded and a consolidated global database of biodiversity\n",
      "\u0000nance sources and mapping of available \u0000nancial sources for\n",
      "biodiversity made available for users around the world. Information generated by the project will enable countries to complete the CBD Financial Reporting Framework. Minimum project monitoring and reporting requirements as required by the GEF:\n",
      "\n",
      " \n",
      " \n",
      " \n",
      " \n",
      " \n",
      "\f",
      "Inception Workshop and Report:  A project inception workshop(s) will be held by the Global Project Management and Technical Support Unit (GPMTSU)\n",
      "with all the partner countries within 2 months from the First disbursement date, with the aim to:\n",
      "\n",
      "Familiarize key stakeholders with the detailed project strategy and discuss any changes that may have taken place in the overall context since the\n",
      "project idea was initially conceptualized that may in\u0000uence its strategy and implementation.\n"
     ]
    }
   ],
   "source": [
    "print(results_raw_bert[0])"
   ]
  },
  {
   "cell_type": "code",
   "execution_count": 12,
   "id": "a5c2946c-7c98-45bf-b408-f4210b17f951",
   "metadata": {},
   "outputs": [
    {
     "name": "stdout",
     "output_type": "stream",
     "text": [
      "World\n",
      "\n",
      "In-kind\n",
      "\n",
      "Recurrent \n",
      "expenditures\n",
      "\n",
      "100,000.00\n",
      "\n",
      "Total Project Cost($)\n",
      "\n",
      "6,300,000.00\n",
      "\n",
      "Describe how any \"Investment Mobilized\" was identified\n",
      "\n",
      "Investment mobilized was defined based on amount of in-kind and grant contribution from the executing \n",
      "\n",
      "ministry, other contributing government institutions, civil society, private sector and other stakeholders \n",
      "\n",
      "active in sustainable land management and conservation initiatives. The  participation  of  local  producers  in  green  value  chains  is  also  being  promoted  by  several \n",
      "development  projects  including  One  Village  One  Project  OVOP  funded  by  JICA,  JANEEMO \n",
      "agroforestry  initiative  funded  by  the  Scottish  government  aiming  at  strengthening  the  organizations \n",
      "capacity in production and marketing. This will in turn \n",
      "result in an improved \n",
      "reduction of forest crimes and \n",
      "illegal forest activities. Innovation:  Collaborative  Forest  Management  (CFM)  mechanism  is  not  yet  a  widespread  practice  in \n",
      "Malawi, and the methodologies of establishing the Integrated Management Effectiveness Tool (IMET) \n",
      "to track Protected Area Management Effectiveness (PAME) and to inform management decisions will \n",
      "be  applied  for  the  first  time  in  the  Bua  Basin  landscape. which together will \n",
      "incentivize local communities to continue these \n",
      "practices even in the absence of external support\n",
      "\n",
      "Development partners will be engaged in \n",
      "strengthening the capacity of the government in \n",
      "conducting environmental assessments and \n",
      "valuations.\n"
     ]
    }
   ],
   "source": [
    "print(results_raw_bert[1])"
   ]
  },
  {
   "cell_type": "code",
   "execution_count": 13,
   "id": "b0fc65bf-e186-4e0f-889e-cebdce785ff3",
   "metadata": {},
   "outputs": [
    {
     "name": "stdout",
     "output_type": "stream",
     "text": [
      "STAP guidelines for screening GEF projects \n",
      "\n",
      "Response \n",
      "\n",
      "Part I: Project \n",
      "Information \n",
      "GEF ID \n",
      "Project Title \n",
      "\n",
      "11004 \n",
      "Strengthening the resilience of small farmers through Climate \n",
      "Smart Agriculture (PRP-AIC) techniques in Tahoua Region. The \n",
      "PIF does not offer references for either barrier \n",
      "that suggest these emerged from research or \n",
      "the farmers themselves, which could be a \n",
      "problem:  \n",
      "\n",
      "1)  The project asserts, as Barrier #3, that a \n",
      "lack of access to low-cost, long-term \n",
      "financing. During the \n",
      "PPG stage, the project will need to \n",
      "clearly articulate what a learning \n",
      "M&E system looks like – what \n",
      "\n",
      "9 \n",
      "\n",
      " \n",
      "\f",
      "Is there a recognition of what adaptations may be required \n",
      "during project implementation to respond to changing \n",
      "conditions in pursuit of the targeted outcomes? During the PPG \n",
      "stage, the project should determine this during \n",
      "its gender assessment. How these risks play out will, in large \n",
      "part, depend on how the project is \n",
      "implemented and the extent to which the \n",
      "drivers of these risks (understanding local \n",
      "social context, understanding farmer \n",
      "incentives, understanding farmer decisions to \n",
      "adopt or not adopt technology) are \n",
      "apprehended and addressed by the project.\n"
     ]
    }
   ],
   "source": [
    "print(results_raw_bert[2])"
   ]
  },
  {
   "cell_type": "code",
   "execution_count": 53,
   "id": "dd6fef99-7532-40e5-85fc-fa93e5a84832",
   "metadata": {},
   "outputs": [
    {
     "name": "stderr",
     "output_type": "stream",
     "text": [
      "Some weights of the model checkpoint at bert-large-uncased were not used when initializing BertModel: ['cls.seq_relationship.weight', 'cls.predictions.bias', 'cls.seq_relationship.bias', 'cls.predictions.decoder.weight', 'cls.predictions.transform.dense.weight', 'cls.predictions.transform.LayerNorm.bias', 'cls.predictions.transform.dense.bias', 'cls.predictions.transform.LayerNorm.weight']\n",
      "- This IS expected if you are initializing BertModel from the checkpoint of a model trained on another task or with another architecture (e.g. initializing a BertForSequenceClassification model from a BertForPreTraining model).\n",
      "- This IS NOT expected if you are initializing BertModel from the checkpoint of a model that you expect to be exactly identical (initializing a BertForSequenceClassification model from a BertForSequenceClassification model).\n",
      "Some weights of the model checkpoint at bert-large-uncased were not used when initializing BertModel: ['cls.seq_relationship.weight', 'cls.predictions.bias', 'cls.seq_relationship.bias', 'cls.predictions.decoder.weight', 'cls.predictions.transform.dense.weight', 'cls.predictions.transform.LayerNorm.bias', 'cls.predictions.transform.dense.bias', 'cls.predictions.transform.LayerNorm.weight']\n",
      "- This IS expected if you are initializing BertModel from the checkpoint of a model trained on another task or with another architecture (e.g. initializing a BertForSequenceClassification model from a BertForPreTraining model).\n",
      "- This IS NOT expected if you are initializing BertModel from the checkpoint of a model that you expect to be exactly identical (initializing a BertForSequenceClassification model from a BertForSequenceClassification model).\n",
      "Some weights of the model checkpoint at bert-large-uncased were not used when initializing BertModel: ['cls.seq_relationship.weight', 'cls.predictions.bias', 'cls.seq_relationship.bias', 'cls.predictions.decoder.weight', 'cls.predictions.transform.dense.weight', 'cls.predictions.transform.LayerNorm.bias', 'cls.predictions.transform.dense.bias', 'cls.predictions.transform.LayerNorm.weight']\n",
      "- This IS expected if you are initializing BertModel from the checkpoint of a model trained on another task or with another architecture (e.g. initializing a BertForSequenceClassification model from a BertForPreTraining model).\n",
      "- This IS NOT expected if you are initializing BertModel from the checkpoint of a model that you expect to be exactly identical (initializing a BertForSequenceClassification model from a BertForSequenceClassification model).\n"
     ]
    }
   ],
   "source": [
    "for text in processed_texts:\n",
    "    model = Summarizer()\n",
    "    result = model(text, num_sentences=5) # Var to research: Changing num_sentences\n",
    "    results_processed_bert.append(result)"
   ]
  },
  {
   "cell_type": "code",
   "execution_count": 54,
   "id": "4306fa94-f78e-42c7-8329-21a1aa9a24d4",
   "metadata": {},
   "outputs": [
    {
     "name": "stdout",
     "output_type": "stream",
     "text": [
      "Yes \n",
      "\n",
      " No\n",
      "\n",
      "If yes, please describe\n",
      "\n",
      "B: Enabling Activity Summary\n",
      "Provide a brief description of the Enabling Activity. The platform will consolidate global \u0000nance sources and mapping of available \u0000nancial sources for\n",
      "biodiversity, including the development of an impact investment and private sector knowledge and capacity development stream to facilitate the creation of\n",
      "national impact investment platforms and related project pipelines (for example, see the UNDP SDG Investor Platform). This platform will be one of the most\n",
      "essential resources and act as an experience sharing mechanism for participating countries as well as other countries with similar experiences. The goal of the\n",
      "Biodiversity Finance Plan is to be institutionalized to ensure its implementation and mainstreaming of biodiversity \u0000nance. Minimum project monitoring and reporting requirements as required by the GEF:\n",
      "\n",
      " \n",
      " \n",
      " \n",
      " \n",
      " \n",
      "\f",
      "Inception Workshop and Report:  A project inception workshop(s) will be held by the Global Project Management and Technical Support Unit (GPMTSU)\n",
      "with all the partner countries within 2 months from the First disbursement date, with the aim to:\n",
      "\n",
      "Familiarize key stakeholders with the detailed project strategy and discuss any changes that may have taken place in the overall context since the\n",
      "project idea was initially conceptualized that may in\u0000uence its strategy and implementation.\n"
     ]
    }
   ],
   "source": [
    "print(results_processed_bert[0])"
   ]
  },
  {
   "cell_type": "code",
   "execution_count": 55,
   "id": "5db18957-cbad-4193-9395-9c8da3e6098d",
   "metadata": {},
   "outputs": [
    {
     "name": "stdout",
     "output_type": "stream",
     "text": [
      "Indicative Focal/Non-Focal Area Elements \n",
      "\n",
      "Programming Directions\n",
      "\n",
      "Trust Fund\n",
      "\n",
      "GEF Amount($)\n",
      "\n",
      "Co-Fin Amount($)\n",
      "\n",
      "BD-2-7\n",
      "\n",
      "BD-1-1\n",
      "\n",
      "GET\n",
      "\n",
      "GET\n",
      "\n",
      "621,508. The  participation  of  local  producers  in  green  value  chains  is  also  being  promoted  by  several \n",
      "development  projects  including  One  Village  One  Project  OVOP  funded  by  JICA,  JANEEMO \n",
      "agroforestry  initiative  funded  by  the  Scottish  government  aiming  at  strengthening  the  organizations \n",
      "capacity in production and marketing. This will in turn \n",
      "result in an improved \n",
      "reduction of forest crimes and \n",
      "illegal forest activities. Innovation:  Collaborative  Forest  Management  (CFM)  mechanism  is  not  yet  a  widespread  practice  in \n",
      "Malawi, and the methodologies of establishing the Integrated Management Effectiveness Tool (IMET) \n",
      "to track Protected Area Management Effectiveness (PAME) and to inform management decisions will \n",
      "be  applied  for  the  first  time  in  the  Bua  Basin  landscape. which together will \n",
      "incentivize local communities to continue these \n",
      "practices even in the absence of external support\n",
      "\n",
      "Development partners will be engaged in \n",
      "strengthening the capacity of the government in \n",
      "conducting environmental assessments and \n",
      "valuations.\n"
     ]
    }
   ],
   "source": [
    "print(results_processed_bert[1])"
   ]
  },
  {
   "cell_type": "code",
   "execution_count": 56,
   "id": "19adfdc6-a1fb-4547-98e8-b241447d1c37",
   "metadata": {},
   "outputs": [
    {
     "name": "stdout",
     "output_type": "stream",
     "text": [
      "STAP guidelines for screening GEF projects \n",
      "\n",
      "Response \n",
      "\n",
      "Part I: Project \n",
      "Information \n",
      "GEF ID \n",
      "Project Title \n",
      "\n",
      "11004 \n",
      "Strengthening the resilience of small farmers through Climate \n",
      "Smart Agriculture (PRP-AIC) techniques in Tahoua Region. The \n",
      "PIF does not offer references for either barrier \n",
      "that suggest these emerged from research or \n",
      "the farmers themselves, which could be a \n",
      "problem:  \n",
      "\n",
      "1)  The project asserts, as Barrier #3, that a \n",
      "lack of access to low-cost, long-term \n",
      "financing. However, there are a number of \n",
      "studies showing that the limited uptake of \n",
      "CSA is rarely about these issues, and \n",
      "more about how CSA introduces new \n",
      "risks and tradeoffs to people’s livelihoods \n",
      "(see, for example, Anderson, J. Adoption of Climate-\n",
      "Smart Agriculture in Africa: Constraints, \n",
      "Incentives, and Recommendations. During the PPG \n",
      "stage, the project should determine this during \n",
      "its gender assessment. How these risks play out will, in large \n",
      "part, depend on how the project is \n",
      "implemented and the extent to which the \n",
      "drivers of these risks (understanding local \n",
      "social context, understanding farmer \n",
      "incentives, understanding farmer decisions to \n",
      "adopt or not adopt technology) are \n",
      "apprehended and addressed by the project.\n"
     ]
    }
   ],
   "source": [
    "print(results_processed_bert[2])"
   ]
  },
  {
   "cell_type": "markdown",
   "id": "b760ab57-867c-4677-87a3-8ea3f6ac41d6",
   "metadata": {},
   "source": [
    "## GPT-2 Model Tests"
   ]
  },
  {
   "cell_type": "code",
   "execution_count": 57,
   "id": "b132a7d8-01d7-4c92-bb71-f94b46004b0c",
   "metadata": {},
   "outputs": [],
   "source": [
    "results_raw_gpt2 = []\n",
    "results_processed_gpt2 = []"
   ]
  },
  {
   "cell_type": "code",
   "execution_count": 58,
   "id": "32d2937a-1ac5-4364-b905-8e796c2457fa",
   "metadata": {},
   "outputs": [],
   "source": [
    "for text in raw_texts:\n",
    "    GPT2_model = TransformerSummarizer(transformer_type=\"GPT2\",transformer_model_key=\"gpt2-medium\")\n",
    "    result = ''.join(GPT2_model(text, min_length=20, max_length=100))\n",
    "    results_raw_gpt2.append(result)"
   ]
  },
  {
   "cell_type": "code",
   "execution_count": 59,
   "id": "ac082c13-4e4a-4da4-90b1-b586e5f7c316",
   "metadata": {},
   "outputs": [
    {
     "name": "stdout",
     "output_type": "stream",
     "text": [
      "Enabling Activity Summary (max. 1.2.1 Nature positive and harmful subsidies and incentives to\n",
      "biodiversity are assessed. The GPMTSU will hire consultants and service providers as required to\n",
      "execute the work. Future implementation of \u0000nance plans can be covered through STAR allocations. Project outputs, activities, and budget. Finalize the TOR of the Project Board. The evaluation will be ‘independent, impartial and rigorous’.\n"
     ]
    }
   ],
   "source": [
    "print(results_raw_gpt2[0])"
   ]
  },
  {
   "cell_type": "code",
   "execution_count": 60,
   "id": "8d678a26-efaf-45f3-8af7-9f1001b46c79",
   "metadata": {},
   "outputs": [
    {
     "name": "stdout",
     "output_type": "stream",
     "text": [
      "Project Justification\n",
      "\n",
      "1a. It predominantly \n",
      "has rocky soils and sandy clay soils. Approximately  2%  of  Malawi?s  cropland  is  irrigated. Nineteen percent of the country?s total land area is \n",
      "protected. The geographic proximity of ? Hence \n",
      "making the project aligned with BD2.7. benefit and contribute to ecosystem degradation of \n",
      "the Bua River catchment ecosystem. Further procurement of PPE for project participants \n",
      "and staff. Describe possible coordination with other relevant GEF-\n",
      "financed projects and other initiatives. The Environment Management Act (No. The plan has prioritized a number of areas that this concept note seeks to address.\n"
     ]
    }
   ],
   "source": [
    "print(results_raw_gpt2[1])"
   ]
  },
  {
   "cell_type": "code",
   "execution_count": 61,
   "id": "c868d3c0-32e6-446a-b89c-24511d08b0b1",
   "metadata": {},
   "outputs": [
    {
     "name": "stdout",
     "output_type": "stream",
     "text": [
      "These include: \n",
      "\n",
      "1)  Communities need to be sensitized to better land \n",
      "\n",
      "management. 2)  The project states that low knowledge and \n",
      "technical capacity is limiting the adoption \n",
      "of CSA. doi:10.2458/v24i1.20969). Taken as a whole, yes. However, if any of \n",
      "these assumptions are incorrect, the project \n",
      "will deliver far fewer benefits. The \n",
      "financing activities under component 3 are \n",
      "meant to be exclusively focused on women. During the PPG \n",
      "stage, the project should determine this during \n",
      "its gender assessment. Are the identified risks valid and comprehensive? Are the risks \n",
      "specifically for things outside the project’s control? 13 \n",
      "\n",
      " \n",
      " \n",
      " \n",
      " \n",
      " \n",
      "\f",
      "There is very little direct discussion of project \n",
      "sensitivity to climate change. See STAP \n",
      "brief on simple future narratives. Is there adequate recognition of previous projects and the \n",
      "learning derived from them? Knowledge \n",
      "management. 15 \n",
      "\n",
      " \n",
      " \n",
      " \n",
      " \n",
      "\f",
      "Notes \n",
      "\n",
      "STAP advisory \n",
      "response \n",
      "1.\n"
     ]
    }
   ],
   "source": [
    "print(results_raw_gpt2[2])"
   ]
  },
  {
   "cell_type": "code",
   "execution_count": 62,
   "id": "1bd3b7bd-8911-469a-a66a-35d8722d28b2",
   "metadata": {},
   "outputs": [],
   "source": [
    "for text in processed_texts:\n",
    "    GPT2_model = TransformerSummarizer(transformer_type=\"GPT2\",transformer_model_key=\"gpt2-medium\")\n",
    "    result = ''.join(GPT2_model(text, min_length=20, max_length=100))\n",
    "    results_processed_gpt2.append(result)"
   ]
  },
  {
   "cell_type": "code",
   "execution_count": 63,
   "id": "1fc42777-42a6-4462-b82f-33d89480dd9e",
   "metadata": {},
   "outputs": [
    {
     "name": "stdout",
     "output_type": "stream",
     "text": [
      "Consequently, this umbrella programme will ultimately cover a total of 100 countries. The GPMTSU will hire consultants and service providers as required to\n",
      "execute the work. Future implementation of \u0000nance plans can be covered through STAR allocations. Project outputs, activities, and budget. Check this box if ESS screening is not required per Agency's regulations\n",
      "\n",
      " \n",
      "\f",
      ".\n"
     ]
    }
   ],
   "source": [
    "print(results_processed_gpt2[0])"
   ]
  },
  {
   "cell_type": "code",
   "execution_count": 64,
   "id": "dcbd3a29-904e-4f82-a3c8-8fab5fe7b858",
   "metadata": {},
   "outputs": [
    {
     "name": "stdout",
     "output_type": "stream",
     "text": [
      "The forest is a miombo woodland dominated by Brachystegia species. Rainfall ranges between 862. Approximately  2%  of  Malawi?s  cropland  is  irrigated. Deforestation is occurring at an annual rate of 0. The plan has prioritized a number of areas that \n",
      "this project proposal seeks to address. will facilitate the extension of the PES activity to the project districts. siltation and gully formation among \n",
      "others. Hence \n",
      "making the project aligned with BD2. Committee that promote tree planting and management of natural \n",
      "resources. The Environment Management Act (No.\n"
     ]
    }
   ],
   "source": [
    "print(results_processed_gpt2[1])"
   ]
  },
  {
   "cell_type": "code",
   "execution_count": 65,
   "id": "0714fd74-d5a7-4650-9507-6d6f6fd3df21",
   "metadata": {},
   "outputs": [
    {
     "name": "stdout",
     "output_type": "stream",
     "text": [
      "These include: \n",
      "\n",
      "1)  Communities need to be sensitized to better land \n",
      "\n",
      "management. Yes \n",
      "\n",
      "Yes, the outcomes are clearly aligned to \n",
      "deliver adaptation benefits. Do the planned outcomes encompass important adaptation \n",
      "benefits? Yes \n",
      "\n",
      "Part II: Project \n",
      "justification \n",
      "\n",
      "1. Is the problem statement well-defined? 2)  The project states that low knowledge and \n",
      "technical capacity is limiting the adoption \n",
      "of CSA. Taken as a whole, yes. n/a \n",
      "\n",
      "If all the assumptions hold, yes. The expected benefits are adaptation benefits. Project Map and \n",
      "Coordinates. The PIF does not discuss this. How will these be dealt with? This is a \n",
      "significant issue with project design that must \n",
      "be addressed in the PPG stage. 15 \n",
      "\n",
      " \n",
      " \n",
      " \n",
      " \n",
      "\f",
      "Notes \n",
      "\n",
      "STAP advisory \n",
      "response \n",
      "1.\n"
     ]
    }
   ],
   "source": [
    "print(results_processed_gpt2[2])"
   ]
  },
  {
   "cell_type": "markdown",
   "id": "b9303e1e-a13b-474a-8ebb-a15ecd1a4e87",
   "metadata": {},
   "source": [
    "## XLNET Testing"
   ]
  },
  {
   "cell_type": "code",
   "execution_count": 66,
   "id": "47b5ade8-2b6e-4914-9d83-facef8566884",
   "metadata": {},
   "outputs": [],
   "source": [
    "results_raw_xlnet = []\n",
    "results_processed_xlnet = []"
   ]
  },
  {
   "cell_type": "code",
   "execution_count": null,
   "id": "3a129b42-74fc-41bd-b951-f517c52360e6",
   "metadata": {},
   "outputs": [
    {
     "name": "stderr",
     "output_type": "stream",
     "text": [
      "Some weights of the model checkpoint at xlnet-base-cased were not used when initializing XLNetModel: ['lm_loss.bias', 'lm_loss.weight']\n",
      "- This IS expected if you are initializing XLNetModel from the checkpoint of a model trained on another task or with another architecture (e.g. initializing a BertForSequenceClassification model from a BertForPreTraining model).\n",
      "- This IS NOT expected if you are initializing XLNetModel from the checkpoint of a model that you expect to be exactly identical (initializing a BertForSequenceClassification model from a BertForSequenceClassification model).\n",
      "Some weights of the model checkpoint at xlnet-base-cased were not used when initializing XLNetModel: ['lm_loss.bias', 'lm_loss.weight']\n",
      "- This IS expected if you are initializing XLNetModel from the checkpoint of a model trained on another task or with another architecture (e.g. initializing a BertForSequenceClassification model from a BertForPreTraining model).\n",
      "- This IS NOT expected if you are initializing XLNetModel from the checkpoint of a model that you expect to be exactly identical (initializing a BertForSequenceClassification model from a BertForSequenceClassification model).\n",
      "Some weights of the model checkpoint at xlnet-base-cased were not used when initializing XLNetModel: ['lm_loss.bias', 'lm_loss.weight']\n",
      "- This IS expected if you are initializing XLNetModel from the checkpoint of a model trained on another task or with another architecture (e.g. initializing a BertForSequenceClassification model from a BertForPreTraining model).\n",
      "- This IS NOT expected if you are initializing XLNetModel from the checkpoint of a model that you expect to be exactly identical (initializing a BertForSequenceClassification model from a BertForSequenceClassification model).\n"
     ]
    }
   ],
   "source": [
    "for text in raw_texts:\n",
    "    model = TransformerSummarizer(transformer_type=\"XLNet\",transformer_model_key=\"xlnet-base-cased\")\n",
    "    result = ''.join(model(text, min_length=20, max_length=100))\n",
    "    results_raw_xlnet.append(result)"
   ]
  },
  {
   "cell_type": "code",
   "execution_count": null,
   "id": "5e3da7cf-0e2a-4df4-86f1-ed91aa609e36",
   "metadata": {},
   "outputs": [],
   "source": [
    "print(results_raw_xlnet[0])"
   ]
  },
  {
   "cell_type": "code",
   "execution_count": null,
   "id": "433f1b50-0b57-4370-859d-8dc8be7ea281",
   "metadata": {},
   "outputs": [],
   "source": [
    "print(results_raw_xlnet[1])"
   ]
  },
  {
   "cell_type": "code",
   "execution_count": null,
   "id": "145f18e6-eca2-49e7-ace3-4aaad15eb9ec",
   "metadata": {},
   "outputs": [],
   "source": [
    "print(results_raw_xlnet[2])"
   ]
  },
  {
   "cell_type": "code",
   "execution_count": null,
   "id": "7212f738-5fb1-44f2-84b9-0bd27a968979",
   "metadata": {},
   "outputs": [],
   "source": [
    "for text in processed_texts:\n",
    "    model = TransformerSummarizer(transformer_type=\"XLNet\",transformer_model_key=\"xlnet-base-cased\")\n",
    "    result = ''.join(model(text, min_length=20, max_length=100))\n",
    "    results_processed_xlnet.append(result)"
   ]
  },
  {
   "cell_type": "code",
   "execution_count": null,
   "id": "b2c0a946-4ecc-48ec-8d94-e2d74d643901",
   "metadata": {},
   "outputs": [],
   "source": [
    "print(results_processed_xlnet[0])"
   ]
  },
  {
   "cell_type": "code",
   "execution_count": null,
   "id": "e5c461a3-af26-4702-81bb-2d911a9233d8",
   "metadata": {},
   "outputs": [],
   "source": [
    "print(results_processed_xlnet[1])"
   ]
  },
  {
   "cell_type": "code",
   "execution_count": null,
   "id": "e2e9a1df-c838-4209-b038-37542a81a3e3",
   "metadata": {},
   "outputs": [],
   "source": [
    "print(results_processed_xlnet[2])"
   ]
  },
  {
   "cell_type": "code",
   "execution_count": null,
   "id": "24fd8387-99b3-43d8-8102-9a2aa977190d",
   "metadata": {},
   "outputs": [],
   "source": []
  },
  {
   "cell_type": "code",
   "execution_count": null,
   "id": "1b78aae4-8213-42ab-aba0-baac7ba3be73",
   "metadata": {},
   "outputs": [],
   "source": []
  },
  {
   "cell_type": "code",
   "execution_count": null,
   "id": "52d72880-2e09-4d5c-9e42-af6fa54c3734",
   "metadata": {},
   "outputs": [],
   "source": []
  },
  {
   "cell_type": "code",
   "execution_count": null,
   "id": "20f96e9b-b9c9-482b-9094-32e312880d05",
   "metadata": {},
   "outputs": [],
   "source": []
  }
 ],
 "metadata": {
  "kernelspec": {
   "display_name": "Python 3 (ipykernel)",
   "language": "python",
   "name": "python3"
  },
  "language_info": {
   "codemirror_mode": {
    "name": "ipython",
    "version": 3
   },
   "file_extension": ".py",
   "mimetype": "text/x-python",
   "name": "python",
   "nbconvert_exporter": "python",
   "pygments_lexer": "ipython3",
   "version": "3.7.13"
  }
 },
 "nbformat": 4,
 "nbformat_minor": 5
}
