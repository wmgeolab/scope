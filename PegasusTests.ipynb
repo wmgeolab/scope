{
 "cells": [
  {
   "cell_type": "code",
   "execution_count": 1,
   "id": "31fa971e-18a8-4a8b-b916-1fe6083e8f68",
   "metadata": {},
   "outputs": [
    {
     "name": "stderr",
     "output_type": "stream",
     "text": [
      "/opt/bitnami/miniconda/lib/python3.7/site-packages/requests/__init__.py:104: RequestsDependencyWarning: urllib3 (1.26.8) or chardet (5.0.0)/charset_normalizer (2.0.4) doesn't match a supported version!\n",
      "  RequestsDependencyWarning)\n",
      "/opt/bitnami/miniconda/lib/python3.7/site-packages/tqdm/auto.py:22: TqdmWarning: IProgress not found. Please update jupyter and ipywidgets. See https://ipywidgets.readthedocs.io/en/stable/user_install.html\n",
      "  from .autonotebook import tqdm as notebook_tqdm\n"
     ]
    }
   ],
   "source": [
    "from newspaper import Article\n",
    "from transformers import AutoConfig, AutoTokenizer, AutoModel\n",
    "from summarizer import Summarizer\n",
    "import pandas as pd\n",
    "from transformers import PegasusForConditionalGeneration, AutoTokenizer\n",
    "import torch"
   ]
  },
  {
   "cell_type": "code",
   "execution_count": null,
   "id": "8522c681-c7ba-4ea3-a7e3-722d8e5f1f46",
   "metadata": {},
   "outputs": [],
   "source": [
    "!pip install pandas"
   ]
  },
  {
   "cell_type": "code",
   "execution_count": 4,
   "id": "4254ad83-6948-4d01-acd6-e0c4a8148389",
   "metadata": {},
   "outputs": [],
   "source": [
    "url = \"https://www.npr.org/2022/11/12/1136205315/musk-twitter-bankruptcy-how-likely\"\n",
    "article = Article(url)\n",
    "article.download()\n",
    "article.parse()\n",
    "txt = article.txt"
   ]
  },
  {
   "cell_type": "code",
   "execution_count": 5,
   "id": "76b2b6f1-75d9-4751-9541-e50a36cd3243",
   "metadata": {},
   "outputs": [],
   "source": [
    "article.download()"
   ]
  },
  {
   "cell_type": "code",
   "execution_count": 6,
   "id": "403ea3aa-4051-4885-9150-0488a5f8985c",
   "metadata": {},
   "outputs": [],
   "source": [
    "article.parse()"
   ]
  },
  {
   "cell_type": "code",
   "execution_count": 7,
   "id": "1ae91d0d-546a-44b8-ab2c-9c8fe3675312",
   "metadata": {},
   "outputs": [
    {
     "data": {
      "text/plain": [
       "[]"
      ]
     },
     "execution_count": 7,
     "metadata": {},
     "output_type": "execute_result"
    }
   ],
   "source": [
    "article.authors"
   ]
  },
  {
   "cell_type": "code",
   "execution_count": 9,
   "id": "e1b9ed0c-c081-48f2-ac9a-8441f4157311",
   "metadata": {},
   "outputs": [],
   "source": [
    "txt = article.text"
   ]
  },
  {
   "cell_type": "code",
   "execution_count": null,
   "id": "fe75c4fc-ac19-48c0-af47-71ce30d5c6df",
   "metadata": {},
   "outputs": [],
   "source": [
    "from summarizer import Summarizer"
   ]
  },
  {
   "cell_type": "code",
   "execution_count": null,
   "id": "9fa47896-bb0d-4663-97d6-435cf6de384f",
   "metadata": {},
   "outputs": [],
   "source": [
    "def generate_summary_from_text(text):\n",
    "\n",
    "    model = Summarizer()\n",
    "    result = model(text, ratio=0.2)\n",
    "\n",
    "    return result"
   ]
  },
  {
   "cell_type": "code",
   "execution_count": null,
   "id": "06c0248f-04c6-4c60-9405-077461f050c7",
   "metadata": {},
   "outputs": [],
   "source": [
    "print(generate_summary_from_text(article.text))"
   ]
  },
  {
   "cell_type": "code",
   "execution_count": null,
   "id": "e3be01f7-b0b1-4901-8aa4-68bbb043d530",
   "metadata": {},
   "outputs": [],
   "source": []
  },
  {
   "cell_type": "code",
   "execution_count": null,
   "id": "72895562-e586-47a0-b649-4eea0e1f0d42",
   "metadata": {},
   "outputs": [],
   "source": [
    "from transformers import AutoConfig, AutoTokenizer, AutoModel\n",
    "from summarizer import Summarizer\n",
    "\n",
    "# Load model, model config and tokenizer via Transformers\n",
    "custom_config = AutoConfig.from_pretrained(pretrained_model_name_or_path=\"indobenchmark/indobert-base-p1\")\n",
    "custom_config.output_hidden_states = True\n",
    "custom_tokenizer = AutoTokenizer.from_pretrained(pretrained_model_name_or_path=\"indobenchmark/indobert-base-p1\")\n",
    "custom_model = AutoModel.from_pretrained(\"./IndoBERT/indobert-base-p1\", config=custom_config)"
   ]
  },
  {
   "cell_type": "code",
   "execution_count": 15,
   "id": "2ab23574-c811-4083-801c-5bc74b004896",
   "metadata": {},
   "outputs": [],
   "source": [
    "df = pd.read_csv(\"gdelt.csv\")\n",
    "urls = df[\"URLs\"]"
   ]
  },
  {
   "cell_type": "code",
   "execution_count": 16,
   "id": "e1554c92-c67f-4da4-9d57-2140e0808b01",
   "metadata": {},
   "outputs": [],
   "source": [
    "first_ten = urls[0:10]"
   ]
  },
  {
   "cell_type": "code",
   "execution_count": 18,
   "id": "7df2c585-b3e0-44e1-b396-421304ac3e24",
   "metadata": {},
   "outputs": [
    {
     "data": {
      "text/plain": [
       "'https://news.yahoo.com/waiting-2-weeks-address-twitter-110801142.html?guccounter=1&guce_referrer=aHR0cHM6Ly9hcGkuZ2RlbHRwcm9qZWN0Lm9yZy8&guce_referrer_sig=AQAAANzLNVzWaIFvpMpBKIYllRx9I_peg90-RHcOeBg20QHqtoj1wYpiTO27C0ZajBaXrPi1CD1WoiBG_mIxn1ZqXDK2Pr0M8h8vNR3HFEM9UFhuI_gD8KWeRlS55s8U7H3PXKxBHs_RFTqVVd-B36YpPzanXhpGpqyTJPHjV5oN-QPl'"
      ]
     },
     "execution_count": 18,
     "metadata": {},
     "output_type": "execute_result"
    }
   ],
   "source": [
    "first_ten[5]"
   ]
  },
  {
   "cell_type": "code",
   "execution_count": null,
   "id": "dd538acd-401d-463d-a3be-6699cfd699f3",
   "metadata": {},
   "outputs": [],
   "source": [
    "results = {}"
   ]
  },
  {
   "cell_type": "code",
   "execution_count": null,
   "id": "3d97aef9-6810-42a0-8416-b60c94b27170",
   "metadata": {},
   "outputs": [],
   "source": [
    "for url in first_ten:\n",
    "    result = \"\"\n",
    "    try:\n",
    "        article = Article(url)\n",
    "        article.download()\n",
    "        article.parse()\n",
    "        result = generate_summary_from_text(article.text)\n",
    "        results[url] = result\n",
    "    except:\n",
    "        results[url] = \"FAILED\"\n",
    "    "
   ]
  },
  {
   "cell_type": "code",
   "execution_count": null,
   "id": "9e779532-db40-4847-b975-600a8960007e",
   "metadata": {},
   "outputs": [],
   "source": [
    "list(results.keys())"
   ]
  },
  {
   "cell_type": "code",
   "execution_count": null,
   "id": "f2c666b1-8d47-4574-8329-36ae38e92f82",
   "metadata": {},
   "outputs": [],
   "source": [
    "list(results.values())"
   ]
  },
  {
   "cell_type": "code",
   "execution_count": null,
   "id": "9c6aca35-a69d-4455-a14e-613113095bb5",
   "metadata": {},
   "outputs": [],
   "source": [
    "df_final  = pd.DataFrame(columns=[\"url\", \"summary\"])"
   ]
  },
  {
   "cell_type": "code",
   "execution_count": 14,
   "id": "210db122-b0be-44b1-b8e4-e386f2c73114",
   "metadata": {},
   "outputs": [
    {
     "ename": "NameError",
     "evalue": "name 'results' is not defined",
     "output_type": "error",
     "traceback": [
      "\u001b[0;31m---------------------------------------------------------------------------\u001b[0m",
      "\u001b[0;31mNameError\u001b[0m                                 Traceback (most recent call last)",
      "\u001b[0;32m/tmp/ipykernel_18/330357954.py\u001b[0m in \u001b[0;36m<module>\u001b[0;34m\u001b[0m\n\u001b[0;32m----> 1\u001b[0;31m \u001b[0mdf_final\u001b[0m\u001b[0;34m[\u001b[0m\u001b[0;34m\"url\"\u001b[0m\u001b[0;34m]\u001b[0m \u001b[0;34m=\u001b[0m \u001b[0mlist\u001b[0m\u001b[0;34m(\u001b[0m\u001b[0mresults\u001b[0m\u001b[0;34m.\u001b[0m\u001b[0mkeys\u001b[0m\u001b[0;34m(\u001b[0m\u001b[0;34m)\u001b[0m\u001b[0;34m)\u001b[0m\u001b[0;34m\u001b[0m\u001b[0;34m\u001b[0m\u001b[0m\n\u001b[0m",
      "\u001b[0;31mNameError\u001b[0m: name 'results' is not defined"
     ]
    }
   ],
   "source": [
    "df_final[\"url\"] = list(results.keys())"
   ]
  },
  {
   "cell_type": "code",
   "execution_count": null,
   "id": "ea0953ab-e327-4803-b0c6-396a51406562",
   "metadata": {},
   "outputs": [],
   "source": [
    "txt = article.text"
   ]
  },
  {
   "cell_type": "code",
   "execution_count": null,
   "id": "e42feb53-1450-4be8-bb98-cbc4feaedd03",
   "metadata": {},
   "outputs": [],
   "source": [
    "df_final[\"summary\"] = list(results.values())"
   ]
  },
  {
   "cell_type": "code",
   "execution_count": null,
   "id": "9c84843f-48f1-4fa5-ac84-caa6fe9b02f5",
   "metadata": {},
   "outputs": [],
   "source": [
    "df_final.to_csv(\"summaries_2.csv\")"
   ]
  },
  {
   "cell_type": "code",
   "execution_count": 32,
   "id": "9ad66f87-0543-4970-b101-e81b03cbfb4f",
   "metadata": {},
   "outputs": [],
   "source": [
    "all_urls = urls"
   ]
  },
  {
   "cell_type": "code",
   "execution_count": 53,
   "id": "fbd3099d-7933-4b69-9462-430c79129dea",
   "metadata": {},
   "outputs": [],
   "source": [
    "results = {}"
   ]
  },
  {
   "cell_type": "code",
   "execution_count": null,
   "id": "2e34bb12-e14a-4966-80d1-9c530e133f44",
   "metadata": {},
   "outputs": [],
   "source": [
    "url = \"https://www.npr.org/2022/11/12/1136205315/musk-twitter-bankruptcy-how-likely\"\n",
    "article = Article(url)\n",
    "article.download()\n",
    "article.parse()\n",
    "txt = article.txt"
   ]
  },
  {
   "cell_type": "code",
   "execution_count": 57,
   "id": "887fb511-e7fc-4d5e-9d01-6f408ce1cf6f",
   "metadata": {},
   "outputs": [
    {
     "name": "stderr",
     "output_type": "stream",
     "text": [
      "Downloading: 100%|██████████| 2.28G/2.28G [03:21<00:00, 11.3MB/s]\n",
      "/opt/bitnami/jupyterhub-singleuser/.local/lib/python3.7/site-packages/transformers/generation_utils.py:1364: UserWarning: Neither `max_length` nor `max_new_tokens` has been set, `max_length` will default to 256 (`self.config.max_length`). Controlling `max_length` via the config is deprecated and `max_length` will be removed from the config in v5 of Transformers -- we recommend using `max_new_tokens` to control the maximum length of the generation.\n",
      "  UserWarning,\n"
     ]
    },
    {
     "name": "stdout",
     "output_type": "stream",
     "text": [
      "Done\n",
      "Done\n",
      "Done\n",
      "Done\n",
      "Done\n",
      "Done\n",
      "Done\n",
      "Done\n",
      "Done\n",
      "Done\n",
      "Done\n",
      "Done\n",
      "Done\n",
      "Done\n",
      "Done\n",
      "Done\n",
      "Done\n",
      "Done\n",
      "Done\n",
      "Done\n",
      "Done\n",
      "Done\n",
      "Done\n",
      "Done\n",
      "Done\n",
      "Done\n",
      "Done\n",
      "Done\n",
      "Done\n",
      "Done\n",
      "Done\n",
      "Done\n",
      "Done\n",
      "Done\n",
      "Done\n",
      "Done\n",
      "Done\n",
      "Done\n",
      "Done\n",
      "Done\n",
      "Done\n",
      "Done\n",
      "Done\n",
      "Done\n",
      "Done\n",
      "Done\n",
      "Done\n"
     ]
    }
   ],
   "source": [
    "for url in all_urls:\n",
    "    try:\n",
    "        article = Article(url)\n",
    "        article.download()\n",
    "        article.parse()\n",
    "        txt = article.text\n",
    "        # You can chose models from following list\n",
    "        # https://huggingface.co/models?sort=downloads&search=google%2Fpegasus\n",
    "        model_name = 'google/pegasus-multi_news'\n",
    "        device = 'cuda' if torch.cuda.is_available() else 'cpu'\n",
    "        tokenizer = AutoTokenizer.from_pretrained(model_name)\n",
    "        model = PegasusForConditionalGeneration.from_pretrained(model_name).to(device)\n",
    "        batch = tokenizer(txt, truncation=True, padding='longest', return_tensors=\"pt\").to(device)\n",
    "        translated = model.generate(**batch)\n",
    "        tgt_text = tokenizer.batch_decode(translated, skip_special_tokens=True)\n",
    "        results[url] = tgt_text\n",
    "    except:\n",
    "        results[url] = \"FAILURE\""
   ]
  },
  {
   "cell_type": "code",
   "execution_count": 58,
   "id": "456fb3c1-248f-4cea-a2fc-a347ce968e29",
   "metadata": {},
   "outputs": [],
   "source": [
    "results_clean = {}"
   ]
  },
  {
   "cell_type": "code",
   "execution_count": 59,
   "id": "e0e4c709-f013-4c42-b249-08801f54e944",
   "metadata": {},
   "outputs": [],
   "source": [
    "for key, value in results.items():\n",
    "    \n",
    "    results_clean[key] = (value[0].replace(\"<n>\", \"\\n\"))"
   ]
  },
  {
   "cell_type": "code",
   "execution_count": 60,
   "id": "2cd0a978-dbc0-4fa0-a606-40de942a389d",
   "metadata": {},
   "outputs": [
    {
     "data": {
      "text/plain": [
       "{'https://www.npr.org/2022/11/12/1136205315/musk-twitter-bankruptcy-how-likely': '– Elon Musk says he\\'s open to bailing out Twitter if the social media company doesn\\'t start making more money, and he\\'s apparently got plenty of cash on hand to do just that. The problem is that Twitter is saddled with $13 billion in debt—seven times the company\\'s projected earnings for 2022—and only has $632 million in cash on hand last year, NPR reports. \"It\\'s hypothetically possible that he could use more of his Tesla stock to bail out Twitter, or turn to his cadre of co-investors, who would probably have no trouble finding the money,\" says Andy Wu, an assistant professor at Harvard\\'s business school. \"The saying,\\'If you owe the bank $100, that\\'s your problem, but if you owe the bank $100 million, that\\'s the bank\\'s problem\\' might apply here.\" If Twitter does file for bankruptcy, it could help Musk by allowing him to refinance the debt, which would make the company \"more financially stable,\" says Wu. But even if Twitter does file for bankruptcy, it would likely operate as normal, says Wu. \"In addition to potential financial returns, my sense is that Musk and his co-investors are ideologically driven, that they',\n",
       " 'https://www.vanityfair.com/news/2022/11/elon-musk-cautions-twitter-could-go-bankrupt': '– Elon Musk sent an email to Twitter employees this week, and it was a bleak one. \"Sorry that this is my first email to the whole company, but there is no way to sugarcoat the message,\" he wrote. \"Without significant subscription revenue, there is a good chance Twitter will not survive the upcoming economic downturn.\" He added that he was selling his other company\\'s stock in order to \"save Twitter,\" CNBC reports. Musk laid off half of the staff when he bought the company for $44 billion last month, and he told employees this week that they are now required to come into the office for a minimum of 40 hours per week, ending the company\\'s work-from-home policy. \"We need roughly half of our revenue to be subscription,\" he wrote, referring to the company\\'s controversial blue checkmark subscription service. \"Over the next few days, the absolute top priority is finding and suspending any verified bots/trolls/spam,\" he wrote. \"Going forward, accounts engaged in parody must include \\'parody\\' in their name, not just in bio.\" He also noted that going forward, \"accounts engaged in parody must include \\'parody\\' in their name, not just in bio.\"',\n",
       " 'https://www.msn.com/en-us/lifestyle/family/twitter-begins-a-new-wave-of-firings-by-letting-go-of-contractors-with-no-notice-reports-say/ar-AA143uF8': '– Elon Musk\\'s mass layoffs at Twitter are now hitting contractors as well as full-time employees, Axios reports. On Saturday, some contractors found out they\\'d been fired when they were locked out of their work accounts. Similarly, many of Twitter\\'s full-time employees found out the same when they lost access to work platforms like Slack and email. Some contractors work in content moderation, which had already been hit with layoffs. According to journalist Casey Newton, other departments, such as real estate and marketing, were also affected by contractor layoffs. Some contractors told Axios they were worried about whether or not they would be able to receive their final paycheck. Melissa Ingle, a content moderation contractor, told Axios that she was worried about how the layoffs would affect her and her family financially. \"This is no way to treat people,\" Ingle told Axios. Twitter and representatives for Musk did not immediately respond to Insider\\'s request for comment. On Nov. 4, Twitter—under the new ownership of Musk—cut its full-time employee workforce by nearly 50%. Now, Musk is reportedly planning to slash roughly half of Twitter\\'s 7,500 employees this week. But the conflict between Twitter\\'s old guard and the new owner\\'s loyalists',\n",
       " 'https://www.politico.com/news/2022/11/12/dems-answers-musks-twitter-00066614': '– It\\'s been a rough couple of days for Twitter CEO Elon Musk. First, the Federal Trade Commission warned that his breakneck pace for setting up new systems, including a new subscription service, would lead to \"major incidents.\" Then, the company laid off most of its communications staff last week. Now, a former Twitter lawyer says Musk should be held \"personally liable\" because he bought Twitter, took it private, and \"made the conscious decision to violate the 2011 consent decree in which Twitter pledged, unequivocally, to protect consumer data,\" CNBC reports. The FTC is already on privacy probation for previous security and privacy violations at the company. \"Musk should be held personally liable because he purchased Twitter, took it private, and made the conscious decision to violate the 2011 consent decree in which Twitter pledged, unequivocally, to protect consumer data,\" former Twitter lawyer Jesse Schakowksky says. Schakowksky says Twitter violated that consent decree by allowing third-party apps to gain access to user data. He says the company also violated that consent decree by allowing third-party apps to gain access to user data. Twitter hasn\\'t responded to Schakowksky\\'s request for comment.',\n",
       " 'https://www.vox.com/recode/2022/11/12/23452396/elon-musk-twitter-jason-calacanis-david-sacks-alex-spiro-jared-birchall-inner-circle-war-room': '– It\\'s been less than two weeks since Elon Musk took over as CEO of Twitter, and he\\'s already been criticized for his handling of the company. Now, a new report from Recode reveals that Musk has assembled a \"tight-knit group of his \\'war-room\\' advisers,\" many of whom have known Musk for years and have \"very little background in social media.\" The inner circle includes Jason Calacanis, who started Silicon Alley and was once Musk\\'s first owner of Tesla\\'s Model S car; David Sacks, who was the founding chief operating officer of PayPal and was once the interim CEO of Zenefits; Farhad Manjoo, a New York Times reporter who has written extensively about the tech industry; and Nick Karavites, an early investor and Twitter co-founder. Musk\\'s advisers \"have gained overnight influence over one of the world\\'s most powerful platforms for online communication,\" the report states, though it adds that it\\'s \"unclear exactly how much power they hold at Twitter, but these figures have gained overnight influence over one of the world\\'s most powerful platforms for online communication.\"',\n",
       " 'https://news.yahoo.com/waiting-2-weeks-address-twitter-110801142.html?guccounter=1&guce_referrer=aHR0cHM6Ly9hcGkuZ2RlbHRwcm9qZWN0Lm9yZy8&guce_referrer_sig=AQAAANzLNVzWaIFvpMpBKIYllRx9I_peg90-RHcOeBg20QHqtoj1wYpiTO27C0ZajBaXrPi1CD1WoiBG_mIxn1ZqXDK2Pr0M8h8vNR3HFEM9UFhuI_gD8KWeRlS55s8U7H3PXKxBHs_RFTqVVd-B36YpPzanXhpGpqyTJPHjV5oN-QPl': '– Elon Musk sent his first-ever company-wide email to Twitter workers early Thursday, ordering them to come back to the office for at least 40 hours a week. Hours later, he held a company-wide Q&A, Business Insider reports. \"I\\'m pretty responsive on email,\" Musk said during the Q&A. \"Every now and again, it\\'s a crisis, and if I didn\\'t respond within 24 hours, email me again. It rarely takes me longer than 24 hours to respond. Usually it\\'s within hours.\" Musk said that communication was the reason why workers could lose their jobs if they refused to return to the office. \"It\\'s just my philosophy that people are way more productive when they\\'re in person because the communication is much better.\" Before the email was sent, Twitter workers had only received generic emails sent by the company without Musk\\'s name attached.',\n",
       " 'https://www.newsweek.com/tesla-twitter-impersonator-shares-aim-spoof-amid-blue-tick-horror-show-1759147': 'F',\n",
       " 'https://redstate.com/jeffc/2022/11/12/leftists-are-trying-to-get-people-to-leave-twitter-its-not-going-to-work-n658116': '– Celebrities including Whoopi Goldberg, Shonda Rhimes, and Mick Foley are among those threatening to leave Twitter after Elon Musk\\'s acquisition of the company, the Los Angeles Times reports. \"Twitter has no perfect substitute,\" says Ethan Zuckerman, an associate professor at the University of Massachusetts at Amherst and director of the Initiative for Digital Public Infrastructure. \"It\\'s probably going to be a much less usable network and potentially a much unhealthier network for people who are vulnerable and at risk.\" But he adds that \"it may not make sense for you to jump ship if you\\'ve built a valuable community on the platform.\" Zuckerman tells NBC News that people have \"every reason to be worried\" about the future of Twitter. \"It\\'s probably going to be a much less usable network and potentially a much unhealthier network for people who are vulnerable and at risk,\" he says. And so far, it looks like people on the left are trying to do just that. \"I write all day, I do a large amount of research and so on; I can\\'t spend hours learning to handle a simple social media app,\" military historian Rob Schfer tells NBC. Others say they\\'ve struggled to create an account on Mastodon',\n",
       " 'https://www.washingtonpost.com/business/elon-musks-twitter-deal-is-different-than-most-lbos-heres-how/2022/11/12/7c671b64-62b9-11ed-a131-e900e4a6336b_story.html': '– Twitter\\'s board has given Elon Musk the green light to move forward with his plan to take the company private, the New York Times reports. In a letter to Twitter\\'s board, Musk says he has \"full confidence\" in the board\\'s approval of the deal, which he says is in the best interest of Twitter\\'s shareholders. The deal is expected to close by the end of the year. Here\\'s what you need to know about Musk\\'s plan to take Twitter private: It\\'s different: This is a leveraged buyout, meaning the buyer doesn\\'t borrow the money to buy the company, Bloomberg explains. Instead, the buyer plays the role of the private equity firm. Musk is providing $33.5 billion in equity, or 72% of the total $46.5 billion in financing. That includes $5.2 billion from 18 equity partners, $1.9 billion from Saudi Prince Alwaleed binal Al Saud, and another $7.1 billion from investors including Larry Ellison. Where\\'s the equity? Most of the equity is coming from Musk, who could sell assets, including more Tesla shares, to fund his equity commitment. What\\'s the debt financing: It\\'s a big headache for the banks, which are on the hook for $13 billion of',\n",
       " 'https://www.forbes.com/sites/johnbbrandon/2022/11/12/is-social-media-finally-ready-to-evolve/?sh=c262aa6e7146': 'F',\n",
       " 'https://www.msn.com/en-us/news/politics/democrats-projected-to-keep-control-of-the-senate/ar-AA142INM': \"– The good news for Democrats is that they will keep their majority in the Senate, reports ABC News. The bad news is that they won't be able to confirm many of President Trump's nominees. The good news is that Joe Biden will be able to appoint more judges. The bad news is that Republicans will still control the House. Here's a look at some of the key races still up in the air: Arizona: Democratic Sen. Mark Kelly defeated Republican Blake Masters. Pennsylvania: Democratic Sen. John Fetterman defeated celebrity Dr. Mehmet Oz. Georgia: Republican Herschel Walker will face Democrat Raphael Warnock in a runoff election Dec. 6.\",\n",
       " 'https://www.newsweek.com/what-keeping-senate-means-joe-bidens-presidency-1759142': 'F',\n",
       " 'https://www.cbsnews.com/live-updates/elections-2022-results-democrats-clinch-senate-control/': '– President Trump\\'s former personal lawyer and \"fixer\" Michael Cohen is going to plead guilty to tax evasion, bank fraud, and campaign finance violations before a federal judge in New York on Tuesday, the AP reports. Cohen, who has been acting as Trump\\'s personal lawyer since last year, will face a maximum of 20 years in prison and a $250,000 fine if he\\'s found to have violated campaign finance laws. Cohen will also be required to testify before a grand jury, according to the New York Daily News. The guilty plea is the first time Cohen has pleaded guilty to a federal felony since the special counsel\\'s office opened an investigation into Trump\\'s campaign ahead of the 2016 election. Cohen, who is cooperating with the special counsel\\'s office, will also face a maximum of 10 years in prison and a $250,000 fine if he\\'s found to have violated campaign finance laws.',\n",
       " 'https://www.usatoday.com/story/news/politics/2022/11/12/catherine-cortez-masto-defeats-laxalt-nevada/10680683002/': '– It was a nail-biter, but Democrats will keep control of the Senate. Nevada incumbent Sen. Catherine Cortez Masto defeated Republican challenger Adam Laxalt on Tuesday night, the AP reports. Cortez Masto, the first Latina elected to the Senate, had been widely seen as the most vulnerable Democratic incumbent and the party\\'s best chance to flip the seat. Laxalt, the state\\'s Republican attorney general, had been seen as the party\\'s best chance to flip the seat. But with her seat secured, Democrats are guaranteed control of Congress\\' upper chamber no matter the outcome of a run-off race in Georgia between incumbent Democratic Sen. Raphael Warnock and Republican challenger Herschel Walker, thanks to Vice President Kamala Harris\\' tie-breaking vote. Live election results: Cortez Masto defeated Laxalt in Nevada\\'s Senate race at the 11th hour, including by sending one of their most persuasive surrogates, former President Obama. In Nevada, Obama delivered the same key message he shared in other battleground states in the weeks before the election: \"Democracy is on the ballot.\" A former one-term state attorney general, Laxalt focused his campaign on inflation and the economy, placing the blame on Cortez Masto and President Joe Biden.',\n",
       " 'https://www.latimes.com/politics/story/2022-11-12/2022-midterm-election-democrats-keep-control-of-senate-after-cortez-masto-win-in-nevada': '– Senate Minority Leader Chuck Schumer called it \"a victory and a vindication\" Saturday night for Democrats, who will keep control of the Senate for at least the next two years. \"Our strong candidates beat some very flawed challengers who had no faith in democracy, no fidelity in truth or honor, and even when the polls looked bleak, our candidates never gave up and never lost faith,\" Schumer said at a news conference in New York, per the Los Angeles Times. \"As the MAGA Republicans stoked fear and division, Democrats were talking about how we delivered on issues that matter to people.\" The AP called the race in Nevada for Democratic Sen. Catherine Cortez Masto, who defeated Republican Adam Laxalt, the state\\'s former attorney general. In another closely watched race, Georgia incumbent Sen. Raphael Warnock defeated GOP challenger Herschel Walker to keep the seat in Democratic hands, the Atlanta Journal-Constitution reports. In other races:',\n",
       " 'https://www.foxnews.com/politics/democrats-maintain-control-united-states-senate': \"– Democrats will keep control of the Senate for at least the next two years, according to Fox News' projection. The news comes after Democratic Sen. Catherine Cortez Masto prevailed in a tight race in Nevada against Republican Adam Laxalt. Cortez Masto will be the first black senator from Nevada, and the first Latina to serve in the Senate. Democrats currently hold 50 seats to 49 for Republicans. The AP called the Nevada race as soon as the polls closed at 8pm. Laxalt had been leading until the end, when Cortez Masto capitalized on voter fatigue with President Trump and his policies. Cortez Masto will be the first Latina to serve in the Senate.\",\n",
       " 'https://www.nytimes.com/live/2022/11/13/us/election-results-news#heres-the-latest-on-the-election-results': '– Senate Minority Leader Chuck Schumer called it a \"vindication for Democrats, our agenda and for the American people,\" the New York Times reports. \"The American people rejected the anti-democratic extremist MAGA Republicans.\" According to the AP, Senate Minority Leader Chuck Schumer called it a \"victory for Democrats, our agenda and for the American people.\" Senate Minority Leader Chuck Schumer called it a \"victory for Democrats, our agenda and for the American people.\" Sen. Catherine Cortez Masto of Nevada, the first Latina elected to the Senate, narrowly defeated Adam Laxalt, a Republican former state attorney general. Cortez Masto had to come from behind to defeat Laxalt, who was backed by President Trump. The Nevada victory will bolster Joe Biden\\'s political capital as he looks toward a second term in the Senate. “I feel good, and I’m looking forward to the next couple of years,” Biden told reporters in Phnom Penh, Cambodia. “The American people rejected the anti-democratic extremist MAGA Republicans.” In Arizona, Sen. Mark Kelly was re-elected to a second term by a mere 10,457 votes, the New York Times reports. In Georgia, Sen. Raphael Warnock defeated Republican Herschel Walker to become the first African-American',\n",
       " 'https://www.si.com/nba/spurs/news/san-antonio-tracker-update-kyrie-irving-brooklyn-nets-suspension': '– Dennis Rodman wants to help WNBA star Brittney Griner get out of a Russian prison. \"I got permission to go to Russia to help that girl,\" the former NBA star tells NBC News. \"I\\'m trying to go this week.\" Griner, a former Baylor star, was sentenced to nine years in prison in Russia earlier this month after being convicted of drug charges following her arrest at a Moscow airport in February for possessing hashish oil in her luggage. The US government is working to bring her home.',\n",
       " 'https://www.infowars.com/posts/ye-says-his-mother-was-sacrificed-by-hollywood-elite-they-want-to-monetize-traumatize/': '– Kanye West has a new album coming out in a few weeks, but the rapper is making headlines again for an interview he gave to the Shade Room this week. In it, Ye says his mother\\'s 2008 death was no accident. \"My mama was sacrificed,\" he says. \"My mama was sacrificed. Michael Jordan, what about him? His daddy, right? Bill Cosby, his son. Dr. Dre, his son. Out in Hollywood, a lot of people come up missing. It feels like it might be a lot of that, in order to control, traumatize.\" \"They want to monetize and traumatize,\" he continues. \"And God love me, they hit me, Gap, Adidas, they took all that away. Still, Forbes, who hates me, right, had to write, net worth $400 million. Jesus is king. God loves me.\" The interview has been deleted from the Shade Room\\'s website and Instagram page, but it\\'s going viral on social media despite the fact that the video is no longer available, Rolling Stone reports. Ye has been making headlines in recent weeks for comments he has made about Jewish interests in the entertainment industry. On Monday, for example, he said President Trump was a \"',\n",
       " 'https://www.thecrimson.com/article/2022/11/11/cass-sunstein-interview/': '– Cass Sunstein, a professor at Harvard Law School and former top official in the Obama administration, has been named one of the \"25 Most Intriguing People in the World\" by Time. The honor is given to people who \"epitomize the diversity of thought and action in the world today,\" and Sunstein is no exception. The 72-year-old, who was born in New York and grew up in Concord, Mass., says his favorite place on the planet is Cambridge, Mass. \"There are nice restaurants, it isn\\'t too crowded, it\\'s pleasant, and also you can find what you need there,\" he says. \"I\\'ve lived in New York, which is amazing, but a little overwhelming to me. And I\\'ve lived in Chicago, which I really like, but Cambridge is better than any workplace I\\'ve lived.\" Sunstein, who teaches a course called \"Making Change When Change Is Hard,\" says his inspiration for teaching it came from his wife. \"We had come out of the government; she was in the area of foreign policy, and I was in the area of domestic policy. And we thought that we had learned a lot about what works and what doesn\\'t make change, and',\n",
       " 'https://www.espn.com/nba/story/_/id/35004915/miami-heat-cut-ties-bankrupt-ftx-rename-home-arena': '– Miami\\'s American Airlines Arena will no longer be known as the FTX Arena after all. The Miami Heat and Miami-Dade County announced Friday that they\\'re ending their 19-year, $135 million naming rights deal with cryptocurrency firm FTX, which filed for bankruptcy Friday, CNN reports. \"The reports about FTX and its affiliates are extremely disappointing,\" the county and Heat said in a joint statement. \"Miami-Dade County and the Miami HEAT are immediately taking action to terminate our business relationships with FTX. We will be working together to find a new naming rights partner for the arena.\" FTX, a cryptocurrency exchange, filed for Chapter 11 bankruptcy protection Friday after a steep fall in crypto prices left the company unable to cover accounts as customers rushed to withdraw funds. The deal in Miami was one of a number of sports marketing deals FTX had signed over the past few years, including sponsorship deals with the Golden State Warriors and Washington Wizards. Among top athletes who had FTX deals included Tampa Bay Buccaneers quarterback Tom Brady, Warriors guard Stephen Curry, and tennis star Naomi Osaka. FTX also entered into a deal with Mercedes for Formula One racing and a sponsorship deal with Major League Baseball, whose umpires wear the company\\'s logo. Earlier Friday, Mercedes said',\n",
       " 'https://news.yahoo.com/ftx-ceo-john-ray-confirms-190456555.html': '– New FTX CEO John Ray confirmed Saturday that the company was hacked Friday night, draining hundreds of millions of dollars from its wallets, CNBC reports. In a statement, FTX\\'s general counsel, Ryne Miller, said the company is \"in the process of removing trading and withdrawal functionality and moving as many digital assets as can be identified to a new cold wallet custodian.\" FTX, which filed for bankruptcy protection Friday, says it \"continues to make every effort to secure all assets, wherever located,\" Bloomberg reports. According to Miller, wallets appearing to belong to FTX began moving assets, which Miller said was the exchange taking \"precautionary steps... to mitigate damage upon observing unauthorized transactions.\" FTX says it\\'s \"in the process of removing trading and withdrawal functionality and moving as many digital assets as can be identified to a new cold wallet custodian.\"',\n",
       " 'https://www.naturalnews.com/2022-11-12-the-fall-of-the-crypto-cabal-ftx-was-a-massive-money-laundering-slush-fund-for-democrats.html': '– One of the biggest players in the world of virtual currencies has declared bankruptcy after major investors dumped hundreds of millions of dollars into the company, the Wall Street Journal reports. FTX, a crypto-currency exchange run by American Sam Bankman-Fried, filed for Chapter 11 bankruptcy protection on Friday. According to CNBC, Bankman-Fried donated tens of millions of dollars to Democratic candidates in the 2018 midterm elections, including John Fetterman, who won a close race for a House seat in Pennsylvania, through FTX. The company\\'s market capitalization was around $1 billion at the time of its bankruptcy filing. FTX CEO Changpeng \"CZ\" Zhao said in a statement that the company\\'s shareholders had invested more than $500 million in it, but it was \"unable to compete in the current environment.\" He said the company\\'s operations would be shut down and he would sell his stake in the company. The bankruptcy filing was first reported by CoinTelegraph, which described it as a \"bombshell\" in the crypto world. \"The takedown of FTX by immature strategic blow to the \\'crypto-terrorist cabal\\' run by globalists and Dems who set up FTX as a money laundering slush fund to finance Democrat election campaigns (and who knows',\n",
       " 'https://www.oann.com/business/collapsed-ftx-hit-by/': '– One of the world\\'s biggest cryptocurrency exchanges has filed for bankruptcy after $6 billion in customer funds vanished from its platform in a matter of days. FTX Trading filed for Chapter 11 bankruptcy protection in the US District Court for the Southern District of New York on Friday, the New York Times reports. FTX said it has $10 billion to $50 billion in assets, $10 billion to $50 billion in liabilities, and more than 100,000 creditors. Analysts say hundreds of millions of dollars of assets have been moved from the exchange in \"suspicious circumstances.\" FTX\\'s founder, 30-year-old Sam Bankman-Fried, is said to have transferred $10 billion of customer funds to his trading company, Alameda Research, sources tell Reuters. The collapse of FTX—which was valued at $32 billion earlier this year—is believed to be the biggest collapse in the history of the cryptocurrency industry, the AP reports. Bitcoin dropped below $16,000 for the first time since 2020 after rival exchange Coinbase abandoned its rescue deal for FTX on Wednesday. \"With a gap of $8 billion between liabilities and assets, when FTX is insolvent, it will trigger a domino effect, which will lead to a series of investors related to FTX going bankrupt or being forced to sell assets,\" the operations',\n",
       " 'https://freerepublic.com/focus/f-news/4108589/posts': \"– In the days leading up to the midterms, the Wall Street Journal reported that Sam Bankman-Fried, the founder of cryptocurrency exchange FTX, had donated $40 million to the Democratic National Committee—more than any other major donor to the party. The same day, Bankman-Fried's company filed for bankruptcy, according to the New York Times. The collapse of FTX, valued at $32 billion at the start of the year, was first reported by CoinDesk. It was later revealed that Bankman-Fried met regularly with Bill Clinton, and that his mother had also donated at least as much to the DNC. FTX has since been taken over by a rival exchange. Bankman-Fried's company, Ukrainebank, is accused of running a Ponzi scheme that bilked investors out of billions of dollars, the Times reports. According to the Journal, Bankman-Fried has admitted to defrauding investors, but he says he didn't know about the scheme until after FTX went under. He has also been accused of funneling money from FTX to the DNC in order to boost the party's chances in the midterms. According to CoinDesk, FTX was the second largest cryptocurrency exchange in the world at the start\",\n",
       " 'https://wegotthiscovered.com/movies/black-panther-wakanda-forever-producer-reveals-a-key-part-of-the-credit-scene-predated-chadwick-bosemans-passing/': '– Black Panther producer Nate Moore says the film\\'s ending—in which the son of T\\'Challa and Nakia (played by Chadwick Boseman) is introduced—was actually in the works before Boseman\\'s death. \"Pretty early on,\" Moore tells Collider. \"That was always the end of the movie pretty, much since Chad\\'s passing. I think the first draft we got had that in there, and the notion of the character introduced in that scene actually predated Chad\\'s passing, to be quite honest. We always like the idea that... Yeah. But it was repurposed thematically once Chad passed, and hopefully feels like renewal after a time of adversity.\"',\n",
       " 'https://www.blackenterprise.com/atlanta-airport-announces-direct-flight-to-wakanda-in-honor-of-black-panther-sequel/': '– If you missed the premiere of Black Panther: Wakanda Forever at Atlanta\\'s Hartsfield-Jackson International Airport on Thursday, you\\'re in luck: The airport announced a direct flight to the fictional African country ahead of the film\\'s release, WSBTV reports. Hartsfield-Jackson made a similar announcement when Black Panther was released last year. Concession locations will serve \"Wa Wakandan-inspired dishes,\" according to the airport\\'s tweet.',\n",
       " 'http://www.courant.com/nation-world/box-office-black-panther-wakanda-forever-rules-with-330-million-global-launch-180-million-domestic-debut-20221113-x5e3g6ytobhspcox63s4u3nqcq-story.html': \"– Four years after its blockbuster debut, Black Panther continues to tear up the box office, setting a new high-water mark for November openings with $180 million in ticket sales, Variety reports. According to studio estimates Sunday, Black Panther: Wakanda Forever easily surpassed the $158 million set by Hunger Games: Catching Fire in 2013. Globally, the film has grossed $330 million, with $150 million of that coming from 55 overseas markets. Julia Roberts and George Clooney's Ticket to Paradise finished third with $6.1 million, followed by Lyle, Lyle Crocodile with $3.2 million andSmile with $2.3 million. Steven Spielberg's The Fabelmans, a semi-autobiographical film about Spielberg's childhood, opened in limited release with $160,000.\",\n",
       " 'https://www.howtogeek.com/847749/4-exciting-space-launches-you-can-watch-soon/': \"– It's been more than 50 years since Neil Armstrong set foot on the moon, but NASA still hopes to send humans there in the not-too-distant future. The space agency plans to launch its first test flight of the Space Launch System—a massive, multi-stage rocket designed to carry heavy cargo to space or, in the case of the Orion space capsule, humans to Mars—from Florida's Kennedy Space Center on Nov. 16, 2022, reports Popular Mechanics. The launch has been pushed back several times, including once to September due to a liquid hydrogen leak in the core stage, then again to November 16 due to Tropical Storm Nicole. If all goes well, the test flight could lead to a longer-term mission to the moon or, in the case of the Orion capsule, to Mars. SpaceX, meanwhile, plans to launch a cargo capsule to the International Space Station on Nov. 18, 2022, but there won't be any people aboard. Boeing, meanwhile, plans to launch its Starliner spacecraft with a crew in April, per Space.com.\",\n",
       " 'https://www.wcnc.com/article/news/nation-world/nasa-launch-artemis-moon-rocket-still-on-track-wednesday-november-16/507-04313877-96f7-465d-b82e-4e435cbc6344': '– NASA\\'s most powerful rocket ever built was sitting on the launch pad at Kennedy Space Center in Florida as Hurricane Nicole bore down on the state Thursday—but the storm didn\\'t put a dent in the space agency\\'s plans to send astronauts around the moon in 2024. \"Right now, there\\'s nothing preventing us\" from attempting a launch on Wednesday, said NASA\\'s Jim Free, an associate administrator. The wind never exceeded the rocket\\'s design limits as Hurricane Nicole swept through Kennedy Space Center on Thursday, according to Free. But he acknowledged if the launch team had known in advance that a hurricane was going to hit, they likely would have kept the rocket indoors. The rocket was moved out to the pad late last week for its $4.1 billion demo mission. Gusts reached 100mph atop the launch tower, but were not nearly as strong farther down at the rocket. Computer models indicate there should be no strength or fatigue issues from the storm, even deep inside the rocket, Free noted. NASA had been aiming for an early Monday launch, but put it on hold for two days because of the storm. The 322-foot rocket, known as SLS for Space Launch System, is the most powerful ever built by NASA. A crew capsule atop the',\n",
       " 'https://www.inforum.com/news/north-dakota/ndsu-grad-part-of-nasas-artemis-i-mission-to-get-back-to-the-moon': '– NASA\\'s \"uncrewed\" Artemis I mission is scheduled to blast off from Florida\\'s Kennedy Space Center at 12:04am Wednesday, with the main goal being to test the spacecraft, maneuvering systems, and heat shield in preparation for a human landing on the moon as part of the Artemis II mission in 2024. If all goes well, the spacecraft will travel 40,000 miles around the moon, farther than any spacecraft built for humans has gone before, reports the Grand Forks Herald. If all goes well this time, Artemis II will take off in late 2024 and Artemis III, involving a human lunar landing, is planned for late 2025. NASA\\'s long-term goal is to establish a sustainable presence on the moon and prepare for missions to Mars. \"You\\'ve got all the thrust forces acting on it. You\\'ve got aerodynamic drag as it pushes through the air, and you also have side forces,\" says Austin Decker, a mechanical engineering grad of North Dakota State University who is leading the integrated vehicle loads team for the Space Launch System rocket that will propel the Orion spacecraft on the mission. \"It can be a bit stressful, but when this actually goes it\\'s definitely going to be worth it.\"',\n",
       " 'https://scienceblogs.com/startswithabang/2015/12/09/mystery-solved-ceres-white-spots-are-salt-synopsis': '– When NASA\\'s Dawn spacecraft began photographing Ceres, it spotted a \"spectacularly and unusually bright spot\" at the bottom of the Occator crater. As scientists got closer, they realized it was a series of spots in the lowlands of the crater bed, and that there were other suspicious, smaller bright spots elsewhere on the surface. What they found: salt crystals, deposited and brought to the bottom by water that solidifies on the crater floor. \"It\\'s not self-luminous, nor is it ice of any type, but rather these are salt crystals, deposited and brought to the bottom by water that solidifies on the crater floor,\" study co-author Adam Natheus says in a NASA press release. The crystals are about the size of a grain of sand, but they\\'re so bright that they can be seen with the naked eye, according to the study, published in Nature. It\\'s the first time salt has been found at the bottom of a crater, and scientists say the find raises questions about the \"prototype of water at the bottom of craters,\" the Los Angeles Times reports. \"It\\'s possible that the salt was brought here by collisions with asteroids or comets, or maybe it was brought by',\n",
       " 'https://www.9news.com/article/tech/science/solar-powered-us-space-plane-returns-mission/67-41d1ddab-3112-4cc0-9d9b-bec2855d0a2f': \"– An unmanned US space plane landed early Saturday after spending a record 908 days in orbit for its sixth mission and conducting science experiments. The solar-powered vehicle, which looks like a miniature space shuttle, landed at NASA's Kennedy Space Center. Its previous mission lasted 780 days. “Since the X-37B’s first launch in 2010, it has shattered records and provided our nation with an unrivaled capability to rapidly test and integrate new space technologies,” said Jim Chilton, a senior vice president for Boeing, its developer. For the first time, the space plane hosted a service module that carried experiments for the Naval Research Laboratory, US Air Force Academy, and others. The module separated from the vehicle before de-orbiting to ensure a safe landing. Among the experiments was a satellite dubbed the FalconSat-8 that was designed and built by academy cadets in partnership with the Air Force Research Laboratory. It was deployed in October 2021 and still remains in orbit. “This mission highlights the Space Force’s focus on collaboration in space exploration and expanding low-cost access to space for our partners, within and outside of the Department of the Air Force,” said Gen. Chance Saltzman, Chief of Space Operations.\",\n",
       " 'https://www.geekwire.com/2022/boeing-x-37b-space-plane-lands-record-908-day-mission/': '– The US Space Force\\'s X-37B space plane has completed another record-setting mission, landing like an airplane at NASA\\'s Kennedy Space Center in Florida 908 days after it was launched. This was the sixth mission in the hush-hush X-37B test program, and the first to fly with a ring-shaped service module on its tail. The service module, which was jettisoned before the reusable plane\\'s descent, accommodated an extra set of experimental payloads for NASA and the US military. It\\'s built to be safely disposed of in the coming weeks. This was the first mission carried out by the Space Force, which was created as a separate military branch within the Department of the Air Force in 2019. This mission, launched on an Atlas 5 rocket in May 2020, bested the 780-day endurance record that was set for the X-37B program in 2019. It also carried a record number of hosted experiments. The Space Force said one of the experments, the Naval Research Laboratory\\'s Photovoltaic Radiofrequency Antenna Module, successfully harnessed solar rays outside Earth\\'s atmosphere and aimed to transmit power to the ground in the form of microwave energy. \"Since the X-37B\\'s first launch in 2010, it has shattered records and provided our',\n",
       " 'https://www.neowin.net/news/twirl-91-nasa-will-try-to-launch-artemis-i-moon-mission-this-week/': '– It\\'s a big week for NASA as it prepares to launch its Orion spacecraft on a mission to the moon. First up is the launch of its massive Space Launch System rocket from the Kennedy Space Center in Florida on Wednesday morning, reports Space.com. Then comes China\\'s Jiuquan Satellite Launch Center at 6:26am local time for the launch of its Ceres 1 rocket, which will orbit five satellites for the Jilin 1 constellation. The latter is a private Chinese space launch company\\'s first mission, notes Space.com. Then comes NASA\\'s Artemis I mission, which will send an uncrewed Orion spacecraft on a lunar flyby mission. While technically unmanned, \"Commander Moonikin Campos\" will be aboard with two other mannequins, ensuring the safety of the Orion astronaut spacesuit for future crewed missions, reports Space.com.',\n",
       " 'https://www.webmd.com/lung/news/20221105/cdc-officials-want-flexibility-in-times-of-crisis': '– The director of the Centers for Disease Control and Prevention says the federal government needs to loosen its grip on the agency. In an op-ed for the New York Times, Rochelle Walensky says the CDC has been hamstrung in its ability to respond to public health emergencies because of restrictions placed on it by Congress and the White House. For example, the agency is not authorized to hire consultants during a public health crisis. \"In certain situations, we need to be nimble and act urgently in culturally sensitive ways that we don’t currently have the capacity to do,\" Walensky tells CNN. She says she plans to ask Congress for the authority to hire consultants during a public health emergency. Walensky says she plans to use \"real-time examples of how public health has been hurt because of our inability to take action\" during the H1N1 pandemic.',\n",
       " 'https://www.unionleader.com/news/health/coronavirus/covid-hospitalizations-are-rising-in-kids-under-6-months-cdc-director-walensky-says/article_6193ddd0-a85e-5a42-a9e3-4fb452be9e8a.html': \"– President Trump's travel ban on people from seven Muslim-majority countries will go into effect Jan. 23, the White House announced Thursday. The ban will include Cuba, Iran, Syria, Libya, Somalia, Sudan, and Yemen, CNN reports. It's the first time a Muslim-majority country has been named as a target by the Trump administration. The ban will also apply to countries that don't recognize the Islamic State and haven't signed the Paris climate agreement, according to the White House. It's the first time a Muslim-majority country has been named as a target by the Trump administration. The ban will also apply to countries that don't recognize the Islamic State and haven't signed the Paris climate agreement, according to the New York Times. The Times notes it's the first time a Muslim-majority country has been named as a target by the Trump administration. The ban will also apply to countries that don't recognize the Islamic State and haven't signed the Paris climate agreement. It's the first time a Muslim-majority country has been named as a target by the Trump administration. The Times notes it's the first time a Muslim-majority country has been named as a target by the Trump administration.\",\n",
       " 'https://www.postandcourier.com/opinion/editorials/editorial-alan-wilson-should-stick-to-the-law-stop-trying-to-silence-opinions-he-dislikes/article_b8fff7c2-5f8e-11ed-ad77-3f9dbc9e6225.html': '– \" detached-from-reality grandstanding has become a staple even when there\\'s not much of a challenge—or no challenge at all.\" That\\'s what the State is saying about South Carolina\\'s attorney general, Alan Wilson, who last month joined 11 other state attorneys general in warning the CDC against recommending the COVID vaccine be added to its list of recommended childhood immunizations. The vaccine has been linked to autism, encephalitis, and other health problems, and critics say Wilson is trying to keep parents from rejecting the CDC\\'s recommendation. But the State says Wilson\\'s involvement in the Oct. 19 letter had nothing to do with his job, which is to protect South Carolina\\'s constitution, laws, and legal prerogatives. \"It\\'s hard to see this as anything other than whipping up COVID division and anti-Washington sentiment, even more dramatically than Gov. Henry McMaster did with his ridiculous TV ad that claimed South Carolina\\'s economy recovered quickly from the pandemic because he had the backbone to\\'stand up\\' to Washington—where no one had any authority to make our state do anything regarding COVID.\"',\n",
       " 'https://www.msn.com/en-us/health/medical/everything-we-know-about-bird-flu/ar-AAUj8qN': '– The US has seen a record-breaking number of cases of bird flu this year, and the Centers for Disease Control and Prevention is issuing a warning to people who live or work with birds. As of Nov. 3, 46 states have seen at least 49 million birds die from either infection or culling because they may have been exposed, reports the New York Times. That\\'s the same number that died in 2015, when a record 50.5 million birds were killed in a 21-state outbreak. The CDC says the risk to the general public remains low, but people who work with birds or live with them as pets should take extra precautions to \"avoid unprotected contact\" with sick birds. That includes wearing personal protective equipment like rubber boots and a face mask if working with them, and washing your clothes and hands after handling birds. Fortunately, bird flu in humans so far has been rare (the current outbreak is limited to one human case in the US), in part because the virus doesn\\'t spread that easily from animals to humans, or between humans. Still, some \"sporadic\" human cases of bird flu in the US \"would not be surprising,\" given the number of birds that are sick as well as infections in people in other countries who\\'ve had exposure to avian',\n",
       " 'https://www.abqjournal.com/2548761/time-to-shore-up-defenses-against-flu-covid-19-and-other-unwelcome-viral-visitors.html': \"– If you haven't gotten the flu shot yet, the New Mexico Department of Health wants you to hurry. The state is reporting its first flu-related death of this year's flu season, reports the Albuquerque Journal. It's a boy in his 20s who died last week in Santa Fe, though it's not clear whether he was vaccinated or died from the flu. The New Mexico Department of Health recommends flu shots for everyone 6 months of age and older, but especially for those 65 and older, who are at higher risk for serious complications from the flu. The department also recommends people not only get the shot, but for those who do not, take steps to protect themselves, including washing their hands often with soap and water, covering their coughs and sneezes with soap and water, and using an alcohol-based hand rub.\",\n",
       " 'https://www.arkansasonline.com/news/2022/nov/13/flu-season-is-upon-us-respiratory-illnesses-are/': '– It\\'s not too late to get your flu shot, health officials say. The CDC released a report Thursday noting that 25 states have \"high\" or \"very high\" levels of respiratory illness, including Arkansas, which has seen nine flu-related deaths since the beginning of October, the Arkansas Democrat-Gazette reports. Missouri and Oklahoma have also seen moderate levels of flu activity, according to the CDC. \"While Arkansas Children\\'s anticipates a surge in RSV cases each winter, this marks the second consecutive year we\\'ve experienced a spike among kids during the late summer and early fall,\" says Dr. Rick Barr, chief clinical officer of Arkansas Children\\'s Hospital. According to the CDC, there have been between 1,300 and 3,000 deaths in the first month of this flu season, while 2.8 million and 6.6 million illnesses related to the flu have been reported in the US since the start of the season, USA Today reports.',\n",
       " 'https://www.foxnews.com/health/california-hospitals-using-overflow-tents-rising-number-flu-patients': '– Southern California hospitals are setting up overflow tents to deal with an increase in patients with the flu and other respiratory illnesses, Fox News reports. According to the San Diego Union-Tribune, the overflow tents are being used at Scripps Memorial Hospital in Encinitas, Jacobs Medical Center at UC San Diego Health in La Jolla, and Sharp Grossmont Hospital in La Mesa. \"The fear is that everything is just sort of bouncing off everything else and once you’ve been through the flu you could still get hit by COVID or whatever other virus you’re going to get,\" says Dr. Ghazala Sharieff, Scripps Health\\'s chief medical officer of acute care operations and clinical excellence. \"I’m hopeful, but we’re still kind of planning that it’s going to be this way through February.\" The flu typically hits its peak in California in December through February.',\n",
       " 'https://theweek.com/covid-19/1017917/what-to-expect-from-covid-this-winter': '– Pandemics aren\\'t always so hot this time of year. The flu season typically peaks in October and November, but this year\\'s flu season could be worse than usual, experts say. The H1N1 virus has been making a comeback this year, especially in the US, while a new strain of bird flu is making a comeback in Europe, reports the New York Times. The H1N1 virus was responsible for an unusually high number of deaths in the US last year, while the new bird flu strain is making a comeback in the UK and elsewhere in Europe. \"In the past, what\\'s happened in Europe often has been a harbinger for what\\'s about to happen in the United States,\" Michael Osterholm, director of the Center for Infectious Disease Research and Policy at the University of Minnesota, tells NPR. \"So I think the bottom line message for us in this country is: We have to be prepared for what they are beginning to see in Europe.\" The H1N1 virus was responsible for an unusually high number of deaths in the US last year. The H1N1 strain was responsible for an unusually high number of deaths in the US last year. Experts say this year\\'s flu season could be worse',\n",
       " 'https://www.newdelhitimes.com/what-us-election-results-mean-for-the-future-of-ukraine-aid/': '– The US has provided Ukraine with more than $50 billion in military and humanitarian aid since Russia invaded the country in February—but if Republicans win control of Congress, that aid could be in jeopardy, the New York Times reports. \"I think people are gonna be sitting in a recession and they\\'re not going to write a blank check to Ukraine,\" House Majority Leader Kevin McCarthy said in a pre-election interview. \"They just won\\'t do it.... It\\'s not a free blank check.\" McCarthy later walked back those comments, saying he\\'s \"very supportive of Ukraine\" but thinks there should be \"accountability going forward.\" Other Republicans, however, are more skeptical. \"Under Republicans, not another penny will go to Ukraine,\" Iowa Rep. Marjorie Taylor Greene told a rally of Trump supporters last week, per the Times. \"There\\'s a lot of things that Ukraine wants we didn\\'t—we didn\\'t do.\" Ukrainian President Petro Poroshenko, meanwhile, says he\\'s ready to talk to President Obama about continued US support for his country, the Washington Post reports. \"I am confident that bipartisan robust American support for the fight of the Ukrainian people will continue in Congress,\" he said. \"The United States has long been a',\n",
       " 'https://www.breitbart.com/politics/2022/11/12/ukrainian-military-claims-liquidated-80000-russians/': '– The Ukrainian military says it has \"liquidated\" 80,210 Russian personnel since Vladimir Putin\\'s invasion of the country in February, including 2,838 tanks, 5,730 armored personnel carriers, 1,829 artillery systems, and hundreds of rocket systems and anti-aircraft warfare systems, the Guardian reports. According to the BBC, the Ukrainian military says it has also lost 278 aircraft, 261 helicopters, and more than 1,500 aerial drones. The Ukrainian military says it has also destroyed 6,550 Ukrainian tanks and other armored combat vehicles, 886 MLRS vehicles, 3,574 field artillery guns and mortars, 333 aircraft, 175 helicopters, and 388 anti-aircraft missile systems. The Russian military, however, says it has only destroyed 6,550 Ukrainian tanks and other armored combat vehicles, 886 MLRS vehicles, 3,574 field artillery guns and mortars, 333 aircraft, 175 helicopters, and 388 anti-aircraft missile systems.',\n",
       " 'https://abcnews.go.com/Business/wireStory/ukrainian-police-tv-broadcasts-return-long-occupied-city-93170331': '– The withdrawal of Russian troops from the eastern Ukrainian city of Kherson was a major victory for Ukraine, but the country still has a lot of work to do. The Los Angeles Times reports that Ukrainian police officers, along with TV and radio services, returned to the city Saturday, along with the withdrawal of Russian troops, part of fast but cautious efforts to make the only regional capital captured by Russia livable after months of occupation. Yet one official still described the city as \"a humanitarian catastrophe.\" People across Ukraine awoke from a night of jubilant celebrating after the Kremlin announced its troops had withdrawn to the other side of the Dnieper River from Kherson, the only regional capital captured by Russia\\'s military during the ongoing invasion. The Ukrainian military said it was overseeing \"stabilization measures\" around the city to make sure it was safe. The Russian retreat represented a significant setback for the Kremlin some six weeks after Russian President Vladimir Putin annexed the Kherson region and three other provinces in southern and eastern Ukraine in breach of international law and declared them Russian territory. The national police chief of Ukraine, Ihor Klymenko, said Saturday on that about 200 officers were at work in the city, setting up checkpoints and documenting evidence of possible war crimes. Police teams also were',\n",
       " 'http://www.dailypress.com/government/elections/midterm-elections-ukraine-aid-20221112-3j3nferlvzeazavyccurhfeaji-story.html': '– If Republicans win control of the House, where does that leave Ukraine? It\\'s a question that is top of mind in Washington as the GOP draws closer to winning the majority in the US House. Some fear the end of Democratic control in Congress—and the empowerment of \"America First\" conservatives—could ultimately result in the curtailment of American assistance as Ukraine battles Russia\\'s invasion. But the hard-line rhetoric isn\\'t the end of the story. While Republican control of the House is likely to make sending tranches of military and humanitarian aid to Ukraine more difficult, support for the country runs deep in both parties. Here is a look at the factors at play: What the US has given so far Since the Russian invasion began in February, Congress has approved tens of billions in emergency security and humanitarian assistance for Ukraine. The Biden administration has also shipped billions worth of weapons and equipment from military inventories. In September, lawmakers approved about $12.3 billion in Ukraine-related aid as part of a bill that finances the federal government through Dec. 16. The money included assistance for the Ukrainian military as well as money to help the country\\'s government provide basic services to its citizens. In the Senate, GOP leader Mitch McConnell and Richard Shelby, the lead Republican on',\n",
       " 'https://www.economist.com/briefing/2022/11/10/on-what-terms-could-the-war-in-ukraine-stop': '– As the conflict in Ukraine rages on, the New York Times takes a look at what\\'s happening on the ground and what Vladimir Putin might do next. Ukraine has lost control of its water and sewage services, and residents of Kyiv have been told they may have to evacuate if the city\\'s power grid collapses. Russia, meanwhile, has stepped up its shelling of eastern Ukraine, reports the Wall Street Journal, which notes that the US and Europe are providing Ukraine with billions of dollars in military and economic aid each month. \"For as long as it takes,\" say Western leaders. But many of their citizens reject the idea of bankrolling an indefinite conflict with Russia. Tens of thousands of people took to the streets of Rome on November 5th, calling for an end to the fighting. \"We don\\'t want war. No weapons, no sanctions. Where is diplomacy?\" read one placard. Meanwhile, Vice President Joe Biden says Russia and Ukraine will \"lick their wounds\" after the battle for Kherson and might be ready for compromise. Will Ukraine become a new Finland, forced to cede land to its invaders and to remain neutral for decades? A much-discussed template is Israel, a country under constant threat that has been able to defend itself without formal',\n",
       " 'https://www.investmentwatchblog.com/ukraine-military-aid-from-usa-was-invested-in-crypto-ftx-by-ukraine/': \"– One of the world's biggest cryptocurrency exchanges has filed for bankruptcy, citing more than $10 billion in debt, the New York Times reports. The filing for Chapter 11 protection for Bitcoin Wallet, or FTX, was first reported by CoinDesk. According to CoinDesk, FTX was the world's fifth-largest cryptocurrency exchange at the end of last year. The collapse of FTX is being linked to the conflict in Ukraine, the Times reports. According to CoinDesk, FTX received tens of billions in military aid from the US to fight Russia, but instead invested that money in FTX, which filed for bankruptcy. The collapse of FTX is being linked to a criminal conspiracy to violate campaign finance laws, according to the Southern Poverty Law Center. FTX's CEO, Sam Blankman-Fried, was a major donor to Democrats during the 2016 election.\",\n",
       " 'https://www.aljazeera.com/news/2022/11/12/zelenskyy-says-russia-destroyed-khersons-critical-infrastructure': '– Ukrainian troops have reclaimed the government-held city of Kherson from Russia-backed separatists, marking what the country\\'s president says is the biggest victory since Russia\\'s annexation of Crimea in 2014. \"Before fleeing from Kherson, the occupiers destroyed all the critical infrastructure: communications, water, heat, electricity,\" President Volodymyr Zelenskyy said in a video address Saturday, per al-Jazeera. \"We will restore everything, believe me,\" he added, vowing to restore power, water, and communications to the city, which had been without electricity or running water for more than a week. The recapture of Kherson, which had been the only government-held city since February, was welcomed by the US and other Western countries, the AP reports. \"It\\'s a big moment and it\\'s due to the incredible tenacity and skill of the Ukrainians, backed by the relentless and united support of the United States and our allies,\" National Security Adviser Jake Sullivan said while traveling in Cambodia with President Joe Biden for a regional summit. \"It\\'s boosted the morale of Ukrainian soldiers who say... they now believe they can win this war,\" Al-Jazeera\\'s Assed Baig reported from the Kherson region'}"
      ]
     },
     "execution_count": 60,
     "metadata": {},
     "output_type": "execute_result"
    }
   ],
   "source": [
    "results_clean"
   ]
  },
  {
   "cell_type": "code",
   "execution_count": 13,
   "id": "4850574e-d859-4488-adc1-5342ad502c80",
   "metadata": {},
   "outputs": [
    {
     "name": "stdout",
     "output_type": "stream",
     "text": [
      "Elon Musk says Twitter bankruptcy is possible, but is that likely?<n>The billionaire has reportedly told staff that bankruptcy could be nigh if Twitter does not start making more money.<n>Musk cashed in some of his Tesla stock and saddled the social platform with $13 billion in debt.\n"
     ]
    }
   ],
   "source": [
    "print(tgt_text[0])"
   ]
  },
  {
   "cell_type": "code",
   "execution_count": null,
   "id": "980c11ce-65fd-4358-be22-980461235234",
   "metadata": {},
   "outputs": [],
   "source": [
    "pip install -Iv protobuf==3.20.0"
   ]
  },
  {
   "cell_type": "code",
   "execution_count": null,
   "id": "6803d873-7836-4768-97e0-56f710810b15",
   "metadata": {},
   "outputs": [],
   "source": [
    "!pip uninstall protobuf --yes"
   ]
  },
  {
   "cell_type": "code",
   "execution_count": 61,
   "id": "4525feb3-8683-4ae4-9605-ab1c6be8da9e",
   "metadata": {},
   "outputs": [],
   "source": [
    "pegasus_df = pd.DataFrame(columns=[\"URL\", \"Summary\"])"
   ]
  },
  {
   "cell_type": "code",
   "execution_count": 62,
   "id": "f68e5bfa-81b8-4b63-9d2e-b41197031331",
   "metadata": {},
   "outputs": [],
   "source": [
    "pegasus_df[\"URL\"] = results_clean.keys()"
   ]
  },
  {
   "cell_type": "code",
   "execution_count": 63,
   "id": "746799a6-ff69-4d97-b476-7e29523fe27c",
   "metadata": {},
   "outputs": [],
   "source": [
    "pegasus_df[\"Summary\"] = results_clean.values()"
   ]
  },
  {
   "cell_type": "code",
   "execution_count": 64,
   "id": "f1c5318c-95bf-4421-a6e7-f96f56d77656",
   "metadata": {},
   "outputs": [],
   "source": [
    "pegasus_df.to_csv(\"pegasus_test2.csv\")"
   ]
  },
  {
   "cell_type": "code",
   "execution_count": null,
   "id": "ac02131a-04ea-4866-95f4-730270a351c6",
   "metadata": {},
   "outputs": [],
   "source": []
  }
 ],
 "metadata": {
  "kernelspec": {
   "display_name": "Python 3 (ipykernel)",
   "language": "python",
   "name": "python3"
  },
  "language_info": {
   "codemirror_mode": {
    "name": "ipython",
    "version": 3
   },
   "file_extension": ".py",
   "mimetype": "text/x-python",
   "name": "python",
   "nbconvert_exporter": "python",
   "pygments_lexer": "ipython3",
   "version": "3.7.13"
  }
 },
 "nbformat": 4,
 "nbformat_minor": 5
}
